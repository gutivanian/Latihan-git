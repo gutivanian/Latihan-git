{
 "cells": [
  {
   "cell_type": "markdown",
   "metadata": {
    "id": "Bf1XH7nhLQBA"
   },
   "source": [
    "# Impor Modul dan Data\n",
    "---"
   ]
  },
  {
   "cell_type": "code",
   "execution_count": 1,
   "metadata": {
    "id": "KcgcQj1xC2hZ"
   },
   "outputs": [],
   "source": [
    "import numpy as np\n",
    "import pandas as pd\n",
    "\n",
    "import seaborn as sns\n",
    "from matplotlib import pyplot as plt\n",
    "from matplotlib import gridspec\n",
    "import plotly.express as px\n"
   ]
  },
  {
   "cell_type": "code",
   "execution_count": 2,
   "metadata": {
    "colab": {
     "base_uri": "https://localhost:8080/",
     "height": 339
    },
    "id": "-_4YiEDbDWOG",
    "outputId": "6765bf50-ac70-42da-ec08-2f977702d2a8"
   },
   "outputs": [
    {
     "data": {
      "text/html": [
       "<div>\n",
       "<style scoped>\n",
       "    .dataframe tbody tr th:only-of-type {\n",
       "        vertical-align: middle;\n",
       "    }\n",
       "\n",
       "    .dataframe tbody tr th {\n",
       "        vertical-align: top;\n",
       "    }\n",
       "\n",
       "    .dataframe thead th {\n",
       "        text-align: right;\n",
       "    }\n",
       "</style>\n",
       "<table border=\"1\" class=\"dataframe\">\n",
       "  <thead>\n",
       "    <tr style=\"text-align: right;\">\n",
       "      <th></th>\n",
       "      <th>SK_ID_CURR</th>\n",
       "      <th>SK_ID_BUREAU</th>\n",
       "      <th>CREDIT_ACTIVE</th>\n",
       "      <th>CREDIT_CURRENCY</th>\n",
       "      <th>DAYS_CREDIT</th>\n",
       "      <th>CREDIT_DAY_OVERDUE</th>\n",
       "      <th>DAYS_CREDIT_ENDDATE</th>\n",
       "      <th>DAYS_ENDDATE_FACT</th>\n",
       "      <th>AMT_CREDIT_MAX_OVERDUE</th>\n",
       "      <th>CNT_CREDIT_PROLONG</th>\n",
       "      <th>AMT_CREDIT_SUM</th>\n",
       "      <th>AMT_CREDIT_SUM_DEBT</th>\n",
       "      <th>AMT_CREDIT_SUM_LIMIT</th>\n",
       "      <th>AMT_CREDIT_SUM_OVERDUE</th>\n",
       "      <th>CREDIT_TYPE</th>\n",
       "      <th>DAYS_CREDIT_UPDATE</th>\n",
       "      <th>AMT_ANNUITY</th>\n",
       "    </tr>\n",
       "  </thead>\n",
       "  <tbody>\n",
       "    <tr>\n",
       "      <th>1249497</th>\n",
       "      <td>349113</td>\n",
       "      <td>6615132</td>\n",
       "      <td>Active</td>\n",
       "      <td>currency 1</td>\n",
       "      <td>-1142</td>\n",
       "      <td>0</td>\n",
       "      <td>NaN</td>\n",
       "      <td>NaN</td>\n",
       "      <td>0.0</td>\n",
       "      <td>0</td>\n",
       "      <td>141750.0</td>\n",
       "      <td>134802.0</td>\n",
       "      <td>6943.995</td>\n",
       "      <td>0.0</td>\n",
       "      <td>Credit card</td>\n",
       "      <td>-23</td>\n",
       "      <td>14175.0</td>\n",
       "    </tr>\n",
       "    <tr>\n",
       "      <th>1653078</th>\n",
       "      <td>318266</td>\n",
       "      <td>6005199</td>\n",
       "      <td>Active</td>\n",
       "      <td>currency 1</td>\n",
       "      <td>-54</td>\n",
       "      <td>0</td>\n",
       "      <td>1756.0</td>\n",
       "      <td>NaN</td>\n",
       "      <td>NaN</td>\n",
       "      <td>0</td>\n",
       "      <td>0.0</td>\n",
       "      <td>0.0</td>\n",
       "      <td>0.000</td>\n",
       "      <td>0.0</td>\n",
       "      <td>Credit card</td>\n",
       "      <td>-22</td>\n",
       "      <td>NaN</td>\n",
       "    </tr>\n",
       "    <tr>\n",
       "      <th>1476794</th>\n",
       "      <td>356348</td>\n",
       "      <td>5349454</td>\n",
       "      <td>Closed</td>\n",
       "      <td>currency 1</td>\n",
       "      <td>-1333</td>\n",
       "      <td>0</td>\n",
       "      <td>NaN</td>\n",
       "      <td>-636.0</td>\n",
       "      <td>0.0</td>\n",
       "      <td>0</td>\n",
       "      <td>32400.0</td>\n",
       "      <td>0.0</td>\n",
       "      <td>32400.000</td>\n",
       "      <td>0.0</td>\n",
       "      <td>Credit card</td>\n",
       "      <td>-636</td>\n",
       "      <td>NaN</td>\n",
       "    </tr>\n",
       "    <tr>\n",
       "      <th>1290161</th>\n",
       "      <td>107290</td>\n",
       "      <td>5362306</td>\n",
       "      <td>Closed</td>\n",
       "      <td>currency 1</td>\n",
       "      <td>-887</td>\n",
       "      <td>0</td>\n",
       "      <td>-588.0</td>\n",
       "      <td>-560.0</td>\n",
       "      <td>NaN</td>\n",
       "      <td>0</td>\n",
       "      <td>81072.0</td>\n",
       "      <td>NaN</td>\n",
       "      <td>NaN</td>\n",
       "      <td>0.0</td>\n",
       "      <td>Consumer credit</td>\n",
       "      <td>-554</td>\n",
       "      <td>NaN</td>\n",
       "    </tr>\n",
       "    <tr>\n",
       "      <th>1454009</th>\n",
       "      <td>104526</td>\n",
       "      <td>6329163</td>\n",
       "      <td>Active</td>\n",
       "      <td>currency 1</td>\n",
       "      <td>-299</td>\n",
       "      <td>0</td>\n",
       "      <td>955.0</td>\n",
       "      <td>NaN</td>\n",
       "      <td>NaN</td>\n",
       "      <td>0</td>\n",
       "      <td>135000.0</td>\n",
       "      <td>0.0</td>\n",
       "      <td>0.000</td>\n",
       "      <td>0.0</td>\n",
       "      <td>Credit card</td>\n",
       "      <td>-90</td>\n",
       "      <td>NaN</td>\n",
       "    </tr>\n",
       "  </tbody>\n",
       "</table>\n",
       "</div>"
      ],
      "text/plain": [
       "         SK_ID_CURR  SK_ID_BUREAU CREDIT_ACTIVE CREDIT_CURRENCY  DAYS_CREDIT  \\\n",
       "1249497      349113       6615132        Active      currency 1        -1142   \n",
       "1653078      318266       6005199        Active      currency 1          -54   \n",
       "1476794      356348       5349454        Closed      currency 1        -1333   \n",
       "1290161      107290       5362306        Closed      currency 1         -887   \n",
       "1454009      104526       6329163        Active      currency 1         -299   \n",
       "\n",
       "         CREDIT_DAY_OVERDUE  DAYS_CREDIT_ENDDATE  DAYS_ENDDATE_FACT  \\\n",
       "1249497                   0                  NaN                NaN   \n",
       "1653078                   0               1756.0                NaN   \n",
       "1476794                   0                  NaN             -636.0   \n",
       "1290161                   0               -588.0             -560.0   \n",
       "1454009                   0                955.0                NaN   \n",
       "\n",
       "         AMT_CREDIT_MAX_OVERDUE  CNT_CREDIT_PROLONG  AMT_CREDIT_SUM  \\\n",
       "1249497                     0.0                   0        141750.0   \n",
       "1653078                     NaN                   0             0.0   \n",
       "1476794                     0.0                   0         32400.0   \n",
       "1290161                     NaN                   0         81072.0   \n",
       "1454009                     NaN                   0        135000.0   \n",
       "\n",
       "         AMT_CREDIT_SUM_DEBT  AMT_CREDIT_SUM_LIMIT  AMT_CREDIT_SUM_OVERDUE  \\\n",
       "1249497             134802.0              6943.995                     0.0   \n",
       "1653078                  0.0                 0.000                     0.0   \n",
       "1476794                  0.0             32400.000                     0.0   \n",
       "1290161                  NaN                   NaN                     0.0   \n",
       "1454009                  0.0                 0.000                     0.0   \n",
       "\n",
       "             CREDIT_TYPE  DAYS_CREDIT_UPDATE  AMT_ANNUITY  \n",
       "1249497      Credit card                 -23      14175.0  \n",
       "1653078      Credit card                 -22          NaN  \n",
       "1476794      Credit card                -636          NaN  \n",
       "1290161  Consumer credit                -554          NaN  \n",
       "1454009      Credit card                 -90          NaN  "
      ]
     },
     "execution_count": 2,
     "metadata": {},
     "output_type": "execute_result"
    }
   ],
   "source": [
    "bureau_df = pd.read_csv('bureau.csv')\n",
    "bureau_df.sample(5)"
   ]
  },
  {
   "cell_type": "code",
   "execution_count": 3,
   "metadata": {
    "colab": {
     "base_uri": "https://localhost:8080/",
     "height": 206
    },
    "id": "HcuYzs3CLGKH",
    "outputId": "350694e6-e4a9-47fd-f210-8e065b1f04dc"
   },
   "outputs": [
    {
     "data": {
      "text/html": [
       "<div>\n",
       "<style scoped>\n",
       "    .dataframe tbody tr th:only-of-type {\n",
       "        vertical-align: middle;\n",
       "    }\n",
       "\n",
       "    .dataframe tbody tr th {\n",
       "        vertical-align: top;\n",
       "    }\n",
       "\n",
       "    .dataframe thead th {\n",
       "        text-align: right;\n",
       "    }\n",
       "</style>\n",
       "<table border=\"1\" class=\"dataframe\">\n",
       "  <thead>\n",
       "    <tr style=\"text-align: right;\">\n",
       "      <th></th>\n",
       "      <th>SK_ID_BUREAU</th>\n",
       "      <th>MONTHS_BALANCE</th>\n",
       "      <th>STATUS</th>\n",
       "    </tr>\n",
       "  </thead>\n",
       "  <tbody>\n",
       "    <tr>\n",
       "      <th>25945919</th>\n",
       "      <td>5763829</td>\n",
       "      <td>-8</td>\n",
       "      <td>X</td>\n",
       "    </tr>\n",
       "    <tr>\n",
       "      <th>16279319</th>\n",
       "      <td>6031973</td>\n",
       "      <td>-51</td>\n",
       "      <td>C</td>\n",
       "    </tr>\n",
       "    <tr>\n",
       "      <th>14660526</th>\n",
       "      <td>5120919</td>\n",
       "      <td>-3</td>\n",
       "      <td>0</td>\n",
       "    </tr>\n",
       "    <tr>\n",
       "      <th>7390725</th>\n",
       "      <td>6548071</td>\n",
       "      <td>-36</td>\n",
       "      <td>C</td>\n",
       "    </tr>\n",
       "    <tr>\n",
       "      <th>15677912</th>\n",
       "      <td>5469225</td>\n",
       "      <td>-91</td>\n",
       "      <td>0</td>\n",
       "    </tr>\n",
       "  </tbody>\n",
       "</table>\n",
       "</div>"
      ],
      "text/plain": [
       "          SK_ID_BUREAU  MONTHS_BALANCE STATUS\n",
       "25945919       5763829              -8      X\n",
       "16279319       6031973             -51      C\n",
       "14660526       5120919              -3      0\n",
       "7390725        6548071             -36      C\n",
       "15677912       5469225             -91      0"
      ]
     },
     "execution_count": 3,
     "metadata": {},
     "output_type": "execute_result"
    }
   ],
   "source": [
    "bureau_balance_df = pd.read_csv('bureau_balance.csv')\n",
    "bureau_balance_df.sample(5)"
   ]
  },
  {
   "cell_type": "code",
   "execution_count": 4,
   "metadata": {
    "colab": {
     "base_uri": "https://localhost:8080/",
     "height": 299
    },
    "id": "VkEK0OmGLwzR",
    "outputId": "2c90ccf7-8f52-40f3-8337-05e9431da019"
   },
   "outputs": [
    {
     "data": {
      "text/html": [
       "<div>\n",
       "<style scoped>\n",
       "    .dataframe tbody tr th:only-of-type {\n",
       "        vertical-align: middle;\n",
       "    }\n",
       "\n",
       "    .dataframe tbody tr th {\n",
       "        vertical-align: top;\n",
       "    }\n",
       "\n",
       "    .dataframe thead th {\n",
       "        text-align: right;\n",
       "    }\n",
       "</style>\n",
       "<table border=\"1\" class=\"dataframe\">\n",
       "  <thead>\n",
       "    <tr style=\"text-align: right;\">\n",
       "      <th></th>\n",
       "      <th>SK_ID_PREV</th>\n",
       "      <th>SK_ID_CURR</th>\n",
       "      <th>MONTHS_BALANCE</th>\n",
       "      <th>AMT_BALANCE</th>\n",
       "      <th>AMT_CREDIT_LIMIT_ACTUAL</th>\n",
       "      <th>AMT_DRAWINGS_ATM_CURRENT</th>\n",
       "      <th>AMT_DRAWINGS_CURRENT</th>\n",
       "      <th>AMT_DRAWINGS_OTHER_CURRENT</th>\n",
       "      <th>AMT_DRAWINGS_POS_CURRENT</th>\n",
       "      <th>AMT_INST_MIN_REGULARITY</th>\n",
       "      <th>...</th>\n",
       "      <th>AMT_RECIVABLE</th>\n",
       "      <th>AMT_TOTAL_RECEIVABLE</th>\n",
       "      <th>CNT_DRAWINGS_ATM_CURRENT</th>\n",
       "      <th>CNT_DRAWINGS_CURRENT</th>\n",
       "      <th>CNT_DRAWINGS_OTHER_CURRENT</th>\n",
       "      <th>CNT_DRAWINGS_POS_CURRENT</th>\n",
       "      <th>CNT_INSTALMENT_MATURE_CUM</th>\n",
       "      <th>NAME_CONTRACT_STATUS</th>\n",
       "      <th>SK_DPD</th>\n",
       "      <th>SK_DPD_DEF</th>\n",
       "    </tr>\n",
       "  </thead>\n",
       "  <tbody>\n",
       "    <tr>\n",
       "      <th>525625</th>\n",
       "      <td>2206201</td>\n",
       "      <td>456074</td>\n",
       "      <td>-9</td>\n",
       "      <td>0.000</td>\n",
       "      <td>45000</td>\n",
       "      <td>NaN</td>\n",
       "      <td>0.0</td>\n",
       "      <td>NaN</td>\n",
       "      <td>NaN</td>\n",
       "      <td>0.000</td>\n",
       "      <td>...</td>\n",
       "      <td>0.000</td>\n",
       "      <td>0.000</td>\n",
       "      <td>NaN</td>\n",
       "      <td>0</td>\n",
       "      <td>NaN</td>\n",
       "      <td>NaN</td>\n",
       "      <td>0.0</td>\n",
       "      <td>Active</td>\n",
       "      <td>0</td>\n",
       "      <td>0</td>\n",
       "    </tr>\n",
       "    <tr>\n",
       "      <th>2160257</th>\n",
       "      <td>1435434</td>\n",
       "      <td>346927</td>\n",
       "      <td>-84</td>\n",
       "      <td>185616.765</td>\n",
       "      <td>180000</td>\n",
       "      <td>2700.0</td>\n",
       "      <td>2700.0</td>\n",
       "      <td>0.0</td>\n",
       "      <td>0.0</td>\n",
       "      <td>9000.000</td>\n",
       "      <td>...</td>\n",
       "      <td>185616.765</td>\n",
       "      <td>185616.765</td>\n",
       "      <td>1.0</td>\n",
       "      <td>1</td>\n",
       "      <td>0.0</td>\n",
       "      <td>0.0</td>\n",
       "      <td>16.0</td>\n",
       "      <td>Active</td>\n",
       "      <td>0</td>\n",
       "      <td>0</td>\n",
       "    </tr>\n",
       "    <tr>\n",
       "      <th>220378</th>\n",
       "      <td>2366727</td>\n",
       "      <td>368354</td>\n",
       "      <td>-25</td>\n",
       "      <td>0.000</td>\n",
       "      <td>90000</td>\n",
       "      <td>0.0</td>\n",
       "      <td>0.0</td>\n",
       "      <td>0.0</td>\n",
       "      <td>0.0</td>\n",
       "      <td>0.000</td>\n",
       "      <td>...</td>\n",
       "      <td>0.000</td>\n",
       "      <td>0.000</td>\n",
       "      <td>0.0</td>\n",
       "      <td>0</td>\n",
       "      <td>0.0</td>\n",
       "      <td>0.0</td>\n",
       "      <td>33.0</td>\n",
       "      <td>Active</td>\n",
       "      <td>0</td>\n",
       "      <td>0</td>\n",
       "    </tr>\n",
       "    <tr>\n",
       "      <th>2431105</th>\n",
       "      <td>1691589</td>\n",
       "      <td>136024</td>\n",
       "      <td>-30</td>\n",
       "      <td>130659.210</td>\n",
       "      <td>157500</td>\n",
       "      <td>0.0</td>\n",
       "      <td>0.0</td>\n",
       "      <td>0.0</td>\n",
       "      <td>0.0</td>\n",
       "      <td>6593.265</td>\n",
       "      <td>...</td>\n",
       "      <td>130659.210</td>\n",
       "      <td>130659.210</td>\n",
       "      <td>0.0</td>\n",
       "      <td>0</td>\n",
       "      <td>0.0</td>\n",
       "      <td>0.0</td>\n",
       "      <td>6.0</td>\n",
       "      <td>Active</td>\n",
       "      <td>0</td>\n",
       "      <td>0</td>\n",
       "    </tr>\n",
       "    <tr>\n",
       "      <th>1327271</th>\n",
       "      <td>2074209</td>\n",
       "      <td>297985</td>\n",
       "      <td>-30</td>\n",
       "      <td>0.000</td>\n",
       "      <td>0</td>\n",
       "      <td>0.0</td>\n",
       "      <td>0.0</td>\n",
       "      <td>0.0</td>\n",
       "      <td>0.0</td>\n",
       "      <td>0.000</td>\n",
       "      <td>...</td>\n",
       "      <td>0.000</td>\n",
       "      <td>0.000</td>\n",
       "      <td>0.0</td>\n",
       "      <td>0</td>\n",
       "      <td>0.0</td>\n",
       "      <td>0.0</td>\n",
       "      <td>6.0</td>\n",
       "      <td>Active</td>\n",
       "      <td>0</td>\n",
       "      <td>0</td>\n",
       "    </tr>\n",
       "  </tbody>\n",
       "</table>\n",
       "<p>5 rows × 23 columns</p>\n",
       "</div>"
      ],
      "text/plain": [
       "         SK_ID_PREV  SK_ID_CURR  MONTHS_BALANCE  AMT_BALANCE  \\\n",
       "525625      2206201      456074              -9        0.000   \n",
       "2160257     1435434      346927             -84   185616.765   \n",
       "220378      2366727      368354             -25        0.000   \n",
       "2431105     1691589      136024             -30   130659.210   \n",
       "1327271     2074209      297985             -30        0.000   \n",
       "\n",
       "         AMT_CREDIT_LIMIT_ACTUAL  AMT_DRAWINGS_ATM_CURRENT  \\\n",
       "525625                     45000                       NaN   \n",
       "2160257                   180000                    2700.0   \n",
       "220378                     90000                       0.0   \n",
       "2431105                   157500                       0.0   \n",
       "1327271                        0                       0.0   \n",
       "\n",
       "         AMT_DRAWINGS_CURRENT  AMT_DRAWINGS_OTHER_CURRENT  \\\n",
       "525625                    0.0                         NaN   \n",
       "2160257                2700.0                         0.0   \n",
       "220378                    0.0                         0.0   \n",
       "2431105                   0.0                         0.0   \n",
       "1327271                   0.0                         0.0   \n",
       "\n",
       "         AMT_DRAWINGS_POS_CURRENT  AMT_INST_MIN_REGULARITY  ...  \\\n",
       "525625                        NaN                    0.000  ...   \n",
       "2160257                       0.0                 9000.000  ...   \n",
       "220378                        0.0                    0.000  ...   \n",
       "2431105                       0.0                 6593.265  ...   \n",
       "1327271                       0.0                    0.000  ...   \n",
       "\n",
       "         AMT_RECIVABLE  AMT_TOTAL_RECEIVABLE  CNT_DRAWINGS_ATM_CURRENT  \\\n",
       "525625           0.000                 0.000                       NaN   \n",
       "2160257     185616.765            185616.765                       1.0   \n",
       "220378           0.000                 0.000                       0.0   \n",
       "2431105     130659.210            130659.210                       0.0   \n",
       "1327271          0.000                 0.000                       0.0   \n",
       "\n",
       "         CNT_DRAWINGS_CURRENT  CNT_DRAWINGS_OTHER_CURRENT  \\\n",
       "525625                      0                         NaN   \n",
       "2160257                     1                         0.0   \n",
       "220378                      0                         0.0   \n",
       "2431105                     0                         0.0   \n",
       "1327271                     0                         0.0   \n",
       "\n",
       "         CNT_DRAWINGS_POS_CURRENT  CNT_INSTALMENT_MATURE_CUM  \\\n",
       "525625                        NaN                        0.0   \n",
       "2160257                       0.0                       16.0   \n",
       "220378                        0.0                       33.0   \n",
       "2431105                       0.0                        6.0   \n",
       "1327271                       0.0                        6.0   \n",
       "\n",
       "         NAME_CONTRACT_STATUS  SK_DPD  SK_DPD_DEF  \n",
       "525625                 Active       0           0  \n",
       "2160257                Active       0           0  \n",
       "220378                 Active       0           0  \n",
       "2431105                Active       0           0  \n",
       "1327271                Active       0           0  \n",
       "\n",
       "[5 rows x 23 columns]"
      ]
     },
     "execution_count": 4,
     "metadata": {},
     "output_type": "execute_result"
    }
   ],
   "source": [
    "credit_card_balance_df = pd.read_csv('credit_card_balance.csv')\n",
    "credit_card_balance_df.sample(5)"
   ]
  },
  {
   "cell_type": "code",
   "execution_count": 5,
   "metadata": {
    "colab": {
     "base_uri": "https://localhost:8080/",
     "height": 206
    },
    "id": "E7POUfetL_SL",
    "outputId": "87b7966c-7436-4d2d-f54d-356d32282f1d"
   },
   "outputs": [
    {
     "data": {
      "text/html": [
       "<div>\n",
       "<style scoped>\n",
       "    .dataframe tbody tr th:only-of-type {\n",
       "        vertical-align: middle;\n",
       "    }\n",
       "\n",
       "    .dataframe tbody tr th {\n",
       "        vertical-align: top;\n",
       "    }\n",
       "\n",
       "    .dataframe thead th {\n",
       "        text-align: right;\n",
       "    }\n",
       "</style>\n",
       "<table border=\"1\" class=\"dataframe\">\n",
       "  <thead>\n",
       "    <tr style=\"text-align: right;\">\n",
       "      <th></th>\n",
       "      <th>SK_ID_PREV</th>\n",
       "      <th>SK_ID_CURR</th>\n",
       "      <th>NUM_INSTALMENT_VERSION</th>\n",
       "      <th>NUM_INSTALMENT_NUMBER</th>\n",
       "      <th>DAYS_INSTALMENT</th>\n",
       "      <th>DAYS_ENTRY_PAYMENT</th>\n",
       "      <th>AMT_INSTALMENT</th>\n",
       "      <th>AMT_PAYMENT</th>\n",
       "    </tr>\n",
       "  </thead>\n",
       "  <tbody>\n",
       "    <tr>\n",
       "      <th>9160374</th>\n",
       "      <td>1421719</td>\n",
       "      <td>327864</td>\n",
       "      <td>1.0</td>\n",
       "      <td>8</td>\n",
       "      <td>-638.0</td>\n",
       "      <td>-651.0</td>\n",
       "      <td>9188.055</td>\n",
       "      <td>9188.055</td>\n",
       "    </tr>\n",
       "    <tr>\n",
       "      <th>4932965</th>\n",
       "      <td>2015640</td>\n",
       "      <td>284098</td>\n",
       "      <td>1.0</td>\n",
       "      <td>4</td>\n",
       "      <td>-2435.0</td>\n",
       "      <td>-2470.0</td>\n",
       "      <td>2245.275</td>\n",
       "      <td>2245.275</td>\n",
       "    </tr>\n",
       "    <tr>\n",
       "      <th>12430344</th>\n",
       "      <td>2131120</td>\n",
       "      <td>456239</td>\n",
       "      <td>0.0</td>\n",
       "      <td>15</td>\n",
       "      <td>-2484.0</td>\n",
       "      <td>-2484.0</td>\n",
       "      <td>5625.000</td>\n",
       "      <td>5625.000</td>\n",
       "    </tr>\n",
       "    <tr>\n",
       "      <th>2139199</th>\n",
       "      <td>1065273</td>\n",
       "      <td>194235</td>\n",
       "      <td>1.0</td>\n",
       "      <td>5</td>\n",
       "      <td>-1038.0</td>\n",
       "      <td>-1059.0</td>\n",
       "      <td>12199.725</td>\n",
       "      <td>12199.725</td>\n",
       "    </tr>\n",
       "    <tr>\n",
       "      <th>12521844</th>\n",
       "      <td>2837750</td>\n",
       "      <td>404757</td>\n",
       "      <td>0.0</td>\n",
       "      <td>24</td>\n",
       "      <td>-134.0</td>\n",
       "      <td>-134.0</td>\n",
       "      <td>360.720</td>\n",
       "      <td>360.720</td>\n",
       "    </tr>\n",
       "  </tbody>\n",
       "</table>\n",
       "</div>"
      ],
      "text/plain": [
       "          SK_ID_PREV  SK_ID_CURR  NUM_INSTALMENT_VERSION  \\\n",
       "9160374      1421719      327864                     1.0   \n",
       "4932965      2015640      284098                     1.0   \n",
       "12430344     2131120      456239                     0.0   \n",
       "2139199      1065273      194235                     1.0   \n",
       "12521844     2837750      404757                     0.0   \n",
       "\n",
       "          NUM_INSTALMENT_NUMBER  DAYS_INSTALMENT  DAYS_ENTRY_PAYMENT  \\\n",
       "9160374                       8           -638.0              -651.0   \n",
       "4932965                       4          -2435.0             -2470.0   \n",
       "12430344                     15          -2484.0             -2484.0   \n",
       "2139199                       5          -1038.0             -1059.0   \n",
       "12521844                     24           -134.0              -134.0   \n",
       "\n",
       "          AMT_INSTALMENT  AMT_PAYMENT  \n",
       "9160374         9188.055     9188.055  \n",
       "4932965         2245.275     2245.275  \n",
       "12430344        5625.000     5625.000  \n",
       "2139199        12199.725    12199.725  \n",
       "12521844         360.720      360.720  "
      ]
     },
     "execution_count": 5,
     "metadata": {},
     "output_type": "execute_result"
    }
   ],
   "source": [
    "installments_payments_df = pd.read_csv('installments_payments.csv')\n",
    "installments_payments_df.sample(5)"
   ]
  },
  {
   "cell_type": "code",
   "execution_count": 6,
   "metadata": {
    "colab": {
     "base_uri": "https://localhost:8080/",
     "height": 206
    },
    "id": "oLusYrgGMLYB",
    "outputId": "9f198d7f-5a3a-41ef-d81e-513673281db4"
   },
   "outputs": [
    {
     "data": {
      "text/html": [
       "<div>\n",
       "<style scoped>\n",
       "    .dataframe tbody tr th:only-of-type {\n",
       "        vertical-align: middle;\n",
       "    }\n",
       "\n",
       "    .dataframe tbody tr th {\n",
       "        vertical-align: top;\n",
       "    }\n",
       "\n",
       "    .dataframe thead th {\n",
       "        text-align: right;\n",
       "    }\n",
       "</style>\n",
       "<table border=\"1\" class=\"dataframe\">\n",
       "  <thead>\n",
       "    <tr style=\"text-align: right;\">\n",
       "      <th></th>\n",
       "      <th>SK_ID_PREV</th>\n",
       "      <th>SK_ID_CURR</th>\n",
       "      <th>MONTHS_BALANCE</th>\n",
       "      <th>CNT_INSTALMENT</th>\n",
       "      <th>CNT_INSTALMENT_FUTURE</th>\n",
       "      <th>NAME_CONTRACT_STATUS</th>\n",
       "      <th>SK_DPD</th>\n",
       "      <th>SK_DPD_DEF</th>\n",
       "    </tr>\n",
       "  </thead>\n",
       "  <tbody>\n",
       "    <tr>\n",
       "      <th>1604596</th>\n",
       "      <td>2412362</td>\n",
       "      <td>201063</td>\n",
       "      <td>-10</td>\n",
       "      <td>36.0</td>\n",
       "      <td>33.0</td>\n",
       "      <td>Active</td>\n",
       "      <td>0</td>\n",
       "      <td>0</td>\n",
       "    </tr>\n",
       "    <tr>\n",
       "      <th>6089360</th>\n",
       "      <td>1716476</td>\n",
       "      <td>158424</td>\n",
       "      <td>-23</td>\n",
       "      <td>18.0</td>\n",
       "      <td>16.0</td>\n",
       "      <td>Active</td>\n",
       "      <td>0</td>\n",
       "      <td>0</td>\n",
       "    </tr>\n",
       "    <tr>\n",
       "      <th>5930870</th>\n",
       "      <td>1359289</td>\n",
       "      <td>225081</td>\n",
       "      <td>-85</td>\n",
       "      <td>10.0</td>\n",
       "      <td>9.0</td>\n",
       "      <td>Active</td>\n",
       "      <td>0</td>\n",
       "      <td>0</td>\n",
       "    </tr>\n",
       "    <tr>\n",
       "      <th>2567405</th>\n",
       "      <td>1573888</td>\n",
       "      <td>154024</td>\n",
       "      <td>-33</td>\n",
       "      <td>24.0</td>\n",
       "      <td>8.0</td>\n",
       "      <td>Active</td>\n",
       "      <td>0</td>\n",
       "      <td>0</td>\n",
       "    </tr>\n",
       "    <tr>\n",
       "      <th>4610549</th>\n",
       "      <td>2262565</td>\n",
       "      <td>147291</td>\n",
       "      <td>-24</td>\n",
       "      <td>18.0</td>\n",
       "      <td>15.0</td>\n",
       "      <td>Active</td>\n",
       "      <td>0</td>\n",
       "      <td>0</td>\n",
       "    </tr>\n",
       "  </tbody>\n",
       "</table>\n",
       "</div>"
      ],
      "text/plain": [
       "         SK_ID_PREV  SK_ID_CURR  MONTHS_BALANCE  CNT_INSTALMENT  \\\n",
       "1604596     2412362      201063             -10            36.0   \n",
       "6089360     1716476      158424             -23            18.0   \n",
       "5930870     1359289      225081             -85            10.0   \n",
       "2567405     1573888      154024             -33            24.0   \n",
       "4610549     2262565      147291             -24            18.0   \n",
       "\n",
       "         CNT_INSTALMENT_FUTURE NAME_CONTRACT_STATUS  SK_DPD  SK_DPD_DEF  \n",
       "1604596                   33.0               Active       0           0  \n",
       "6089360                   16.0               Active       0           0  \n",
       "5930870                    9.0               Active       0           0  \n",
       "2567405                    8.0               Active       0           0  \n",
       "4610549                   15.0               Active       0           0  "
      ]
     },
     "execution_count": 6,
     "metadata": {},
     "output_type": "execute_result"
    }
   ],
   "source": [
    "cash_balance_df = pd.read_csv('POS_CASH_balance.csv')\n",
    "cash_balance_df.sample(5)"
   ]
  },
  {
   "cell_type": "code",
   "execution_count": 7,
   "metadata": {
    "colab": {
     "base_uri": "https://localhost:8080/",
     "height": 369
    },
    "id": "HH2Ghn_QMSJy",
    "outputId": "1372549a-94bd-4364-f4ff-7539c9707e56"
   },
   "outputs": [
    {
     "data": {
      "text/html": [
       "<div>\n",
       "<style scoped>\n",
       "    .dataframe tbody tr th:only-of-type {\n",
       "        vertical-align: middle;\n",
       "    }\n",
       "\n",
       "    .dataframe tbody tr th {\n",
       "        vertical-align: top;\n",
       "    }\n",
       "\n",
       "    .dataframe thead th {\n",
       "        text-align: right;\n",
       "    }\n",
       "</style>\n",
       "<table border=\"1\" class=\"dataframe\">\n",
       "  <thead>\n",
       "    <tr style=\"text-align: right;\">\n",
       "      <th></th>\n",
       "      <th>SK_ID_PREV</th>\n",
       "      <th>SK_ID_CURR</th>\n",
       "      <th>NAME_CONTRACT_TYPE</th>\n",
       "      <th>AMT_ANNUITY</th>\n",
       "      <th>AMT_APPLICATION</th>\n",
       "      <th>AMT_CREDIT</th>\n",
       "      <th>AMT_DOWN_PAYMENT</th>\n",
       "      <th>AMT_GOODS_PRICE</th>\n",
       "      <th>WEEKDAY_APPR_PROCESS_START</th>\n",
       "      <th>HOUR_APPR_PROCESS_START</th>\n",
       "      <th>...</th>\n",
       "      <th>NAME_SELLER_INDUSTRY</th>\n",
       "      <th>CNT_PAYMENT</th>\n",
       "      <th>NAME_YIELD_GROUP</th>\n",
       "      <th>PRODUCT_COMBINATION</th>\n",
       "      <th>DAYS_FIRST_DRAWING</th>\n",
       "      <th>DAYS_FIRST_DUE</th>\n",
       "      <th>DAYS_LAST_DUE_1ST_VERSION</th>\n",
       "      <th>DAYS_LAST_DUE</th>\n",
       "      <th>DAYS_TERMINATION</th>\n",
       "      <th>NFLAG_INSURED_ON_APPROVAL</th>\n",
       "    </tr>\n",
       "  </thead>\n",
       "  <tbody>\n",
       "    <tr>\n",
       "      <th>744713</th>\n",
       "      <td>2508071</td>\n",
       "      <td>276149</td>\n",
       "      <td>Consumer loans</td>\n",
       "      <td>33699.465</td>\n",
       "      <td>198000.00</td>\n",
       "      <td>187609.50</td>\n",
       "      <td>19800.0</td>\n",
       "      <td>198000.00</td>\n",
       "      <td>SATURDAY</td>\n",
       "      <td>10</td>\n",
       "      <td>...</td>\n",
       "      <td>Furniture</td>\n",
       "      <td>6.0</td>\n",
       "      <td>low_normal</td>\n",
       "      <td>POS industry with interest</td>\n",
       "      <td>365243.0</td>\n",
       "      <td>-78.0</td>\n",
       "      <td>72.0</td>\n",
       "      <td>365243.0</td>\n",
       "      <td>365243.0</td>\n",
       "      <td>1.0</td>\n",
       "    </tr>\n",
       "    <tr>\n",
       "      <th>1147288</th>\n",
       "      <td>1567299</td>\n",
       "      <td>375637</td>\n",
       "      <td>Cash loans</td>\n",
       "      <td>34955.775</td>\n",
       "      <td>405000.00</td>\n",
       "      <td>442422.00</td>\n",
       "      <td>NaN</td>\n",
       "      <td>405000.00</td>\n",
       "      <td>THURSDAY</td>\n",
       "      <td>7</td>\n",
       "      <td>...</td>\n",
       "      <td>Consumer electronics</td>\n",
       "      <td>24.0</td>\n",
       "      <td>high</td>\n",
       "      <td>Cash X-Sell: high</td>\n",
       "      <td>365243.0</td>\n",
       "      <td>-711.0</td>\n",
       "      <td>-21.0</td>\n",
       "      <td>-21.0</td>\n",
       "      <td>-17.0</td>\n",
       "      <td>1.0</td>\n",
       "    </tr>\n",
       "    <tr>\n",
       "      <th>569942</th>\n",
       "      <td>2116442</td>\n",
       "      <td>210870</td>\n",
       "      <td>Consumer loans</td>\n",
       "      <td>10513.845</td>\n",
       "      <td>67815.00</td>\n",
       "      <td>65061.00</td>\n",
       "      <td>6781.5</td>\n",
       "      <td>67815.00</td>\n",
       "      <td>FRIDAY</td>\n",
       "      <td>11</td>\n",
       "      <td>...</td>\n",
       "      <td>Consumer electronics</td>\n",
       "      <td>8.0</td>\n",
       "      <td>high</td>\n",
       "      <td>POS household with interest</td>\n",
       "      <td>365243.0</td>\n",
       "      <td>-1688.0</td>\n",
       "      <td>-1478.0</td>\n",
       "      <td>-1478.0</td>\n",
       "      <td>-1471.0</td>\n",
       "      <td>0.0</td>\n",
       "    </tr>\n",
       "    <tr>\n",
       "      <th>1491312</th>\n",
       "      <td>1597379</td>\n",
       "      <td>400061</td>\n",
       "      <td>Consumer loans</td>\n",
       "      <td>2223.135</td>\n",
       "      <td>19573.47</td>\n",
       "      <td>19573.47</td>\n",
       "      <td>0.0</td>\n",
       "      <td>19573.47</td>\n",
       "      <td>THURSDAY</td>\n",
       "      <td>14</td>\n",
       "      <td>...</td>\n",
       "      <td>Connectivity</td>\n",
       "      <td>10.0</td>\n",
       "      <td>low_normal</td>\n",
       "      <td>POS mobile without interest</td>\n",
       "      <td>365243.0</td>\n",
       "      <td>-233.0</td>\n",
       "      <td>37.0</td>\n",
       "      <td>365243.0</td>\n",
       "      <td>365243.0</td>\n",
       "      <td>0.0</td>\n",
       "    </tr>\n",
       "    <tr>\n",
       "      <th>84068</th>\n",
       "      <td>2067322</td>\n",
       "      <td>240131</td>\n",
       "      <td>Consumer loans</td>\n",
       "      <td>10098.270</td>\n",
       "      <td>50400.00</td>\n",
       "      <td>53059.50</td>\n",
       "      <td>0.0</td>\n",
       "      <td>50400.00</td>\n",
       "      <td>SATURDAY</td>\n",
       "      <td>6</td>\n",
       "      <td>...</td>\n",
       "      <td>Industry</td>\n",
       "      <td>6.0</td>\n",
       "      <td>middle</td>\n",
       "      <td>POS industry with interest</td>\n",
       "      <td>NaN</td>\n",
       "      <td>NaN</td>\n",
       "      <td>NaN</td>\n",
       "      <td>NaN</td>\n",
       "      <td>NaN</td>\n",
       "      <td>NaN</td>\n",
       "    </tr>\n",
       "  </tbody>\n",
       "</table>\n",
       "<p>5 rows × 37 columns</p>\n",
       "</div>"
      ],
      "text/plain": [
       "         SK_ID_PREV  SK_ID_CURR NAME_CONTRACT_TYPE  AMT_ANNUITY  \\\n",
       "744713      2508071      276149     Consumer loans    33699.465   \n",
       "1147288     1567299      375637         Cash loans    34955.775   \n",
       "569942      2116442      210870     Consumer loans    10513.845   \n",
       "1491312     1597379      400061     Consumer loans     2223.135   \n",
       "84068       2067322      240131     Consumer loans    10098.270   \n",
       "\n",
       "         AMT_APPLICATION  AMT_CREDIT  AMT_DOWN_PAYMENT  AMT_GOODS_PRICE  \\\n",
       "744713         198000.00   187609.50           19800.0        198000.00   \n",
       "1147288        405000.00   442422.00               NaN        405000.00   \n",
       "569942          67815.00    65061.00            6781.5         67815.00   \n",
       "1491312         19573.47    19573.47               0.0         19573.47   \n",
       "84068           50400.00    53059.50               0.0         50400.00   \n",
       "\n",
       "        WEEKDAY_APPR_PROCESS_START  HOUR_APPR_PROCESS_START  ...  \\\n",
       "744713                    SATURDAY                       10  ...   \n",
       "1147288                   THURSDAY                        7  ...   \n",
       "569942                      FRIDAY                       11  ...   \n",
       "1491312                   THURSDAY                       14  ...   \n",
       "84068                     SATURDAY                        6  ...   \n",
       "\n",
       "         NAME_SELLER_INDUSTRY  CNT_PAYMENT  NAME_YIELD_GROUP  \\\n",
       "744713              Furniture          6.0        low_normal   \n",
       "1147288  Consumer electronics         24.0              high   \n",
       "569942   Consumer electronics          8.0              high   \n",
       "1491312          Connectivity         10.0        low_normal   \n",
       "84068                Industry          6.0            middle   \n",
       "\n",
       "                 PRODUCT_COMBINATION  DAYS_FIRST_DRAWING DAYS_FIRST_DUE  \\\n",
       "744713    POS industry with interest            365243.0          -78.0   \n",
       "1147288            Cash X-Sell: high            365243.0         -711.0   \n",
       "569942   POS household with interest            365243.0        -1688.0   \n",
       "1491312  POS mobile without interest            365243.0         -233.0   \n",
       "84068     POS industry with interest                 NaN            NaN   \n",
       "\n",
       "        DAYS_LAST_DUE_1ST_VERSION  DAYS_LAST_DUE DAYS_TERMINATION  \\\n",
       "744713                       72.0       365243.0         365243.0   \n",
       "1147288                     -21.0          -21.0            -17.0   \n",
       "569942                    -1478.0        -1478.0          -1471.0   \n",
       "1491312                      37.0       365243.0         365243.0   \n",
       "84068                         NaN            NaN              NaN   \n",
       "\n",
       "        NFLAG_INSURED_ON_APPROVAL  \n",
       "744713                        1.0  \n",
       "1147288                       1.0  \n",
       "569942                        0.0  \n",
       "1491312                       0.0  \n",
       "84068                         NaN  \n",
       "\n",
       "[5 rows x 37 columns]"
      ]
     },
     "execution_count": 7,
     "metadata": {},
     "output_type": "execute_result"
    }
   ],
   "source": [
    "previous_application_df = pd.read_csv('previous_application.csv')\n",
    "previous_application_df.sample(5)"
   ]
  },
  {
   "cell_type": "code",
   "execution_count": 8,
   "metadata": {
    "colab": {
     "base_uri": "https://localhost:8080/",
     "height": 299
    },
    "id": "p88ejeR2Mgto",
    "outputId": "13c950af-5971-4840-86cf-6c3980bc42b7"
   },
   "outputs": [
    {
     "data": {
      "text/html": [
       "<div>\n",
       "<style scoped>\n",
       "    .dataframe tbody tr th:only-of-type {\n",
       "        vertical-align: middle;\n",
       "    }\n",
       "\n",
       "    .dataframe tbody tr th {\n",
       "        vertical-align: top;\n",
       "    }\n",
       "\n",
       "    .dataframe thead th {\n",
       "        text-align: right;\n",
       "    }\n",
       "</style>\n",
       "<table border=\"1\" class=\"dataframe\">\n",
       "  <thead>\n",
       "    <tr style=\"text-align: right;\">\n",
       "      <th></th>\n",
       "      <th>SK_ID_CURR</th>\n",
       "      <th>TARGET</th>\n",
       "      <th>NAME_CONTRACT_TYPE</th>\n",
       "      <th>CODE_GENDER</th>\n",
       "      <th>FLAG_OWN_CAR</th>\n",
       "      <th>FLAG_OWN_REALTY</th>\n",
       "      <th>CNT_CHILDREN</th>\n",
       "      <th>AMT_INCOME_TOTAL</th>\n",
       "      <th>AMT_CREDIT</th>\n",
       "      <th>AMT_ANNUITY</th>\n",
       "      <th>...</th>\n",
       "      <th>FLAG_DOCUMENT_18</th>\n",
       "      <th>FLAG_DOCUMENT_19</th>\n",
       "      <th>FLAG_DOCUMENT_20</th>\n",
       "      <th>FLAG_DOCUMENT_21</th>\n",
       "      <th>AMT_REQ_CREDIT_BUREAU_HOUR</th>\n",
       "      <th>AMT_REQ_CREDIT_BUREAU_DAY</th>\n",
       "      <th>AMT_REQ_CREDIT_BUREAU_WEEK</th>\n",
       "      <th>AMT_REQ_CREDIT_BUREAU_MON</th>\n",
       "      <th>AMT_REQ_CREDIT_BUREAU_QRT</th>\n",
       "      <th>AMT_REQ_CREDIT_BUREAU_YEAR</th>\n",
       "    </tr>\n",
       "  </thead>\n",
       "  <tbody>\n",
       "    <tr>\n",
       "      <th>59561</th>\n",
       "      <td>169042</td>\n",
       "      <td>0</td>\n",
       "      <td>Cash loans</td>\n",
       "      <td>M</td>\n",
       "      <td>N</td>\n",
       "      <td>Y</td>\n",
       "      <td>2</td>\n",
       "      <td>225000.0</td>\n",
       "      <td>814041.0</td>\n",
       "      <td>23800.5</td>\n",
       "      <td>...</td>\n",
       "      <td>0</td>\n",
       "      <td>0</td>\n",
       "      <td>0</td>\n",
       "      <td>0</td>\n",
       "      <td>0.0</td>\n",
       "      <td>0.0</td>\n",
       "      <td>0.0</td>\n",
       "      <td>1.0</td>\n",
       "      <td>0.0</td>\n",
       "      <td>2.0</td>\n",
       "    </tr>\n",
       "    <tr>\n",
       "      <th>270460</th>\n",
       "      <td>413461</td>\n",
       "      <td>0</td>\n",
       "      <td>Cash loans</td>\n",
       "      <td>F</td>\n",
       "      <td>N</td>\n",
       "      <td>Y</td>\n",
       "      <td>0</td>\n",
       "      <td>112500.0</td>\n",
       "      <td>460858.5</td>\n",
       "      <td>16681.5</td>\n",
       "      <td>...</td>\n",
       "      <td>0</td>\n",
       "      <td>0</td>\n",
       "      <td>0</td>\n",
       "      <td>0</td>\n",
       "      <td>0.0</td>\n",
       "      <td>0.0</td>\n",
       "      <td>0.0</td>\n",
       "      <td>0.0</td>\n",
       "      <td>0.0</td>\n",
       "      <td>0.0</td>\n",
       "    </tr>\n",
       "    <tr>\n",
       "      <th>109121</th>\n",
       "      <td>226563</td>\n",
       "      <td>0</td>\n",
       "      <td>Cash loans</td>\n",
       "      <td>F</td>\n",
       "      <td>N</td>\n",
       "      <td>Y</td>\n",
       "      <td>0</td>\n",
       "      <td>180000.0</td>\n",
       "      <td>728460.0</td>\n",
       "      <td>38083.5</td>\n",
       "      <td>...</td>\n",
       "      <td>0</td>\n",
       "      <td>0</td>\n",
       "      <td>0</td>\n",
       "      <td>0</td>\n",
       "      <td>0.0</td>\n",
       "      <td>0.0</td>\n",
       "      <td>0.0</td>\n",
       "      <td>0.0</td>\n",
       "      <td>0.0</td>\n",
       "      <td>2.0</td>\n",
       "    </tr>\n",
       "    <tr>\n",
       "      <th>148396</th>\n",
       "      <td>272063</td>\n",
       "      <td>0</td>\n",
       "      <td>Cash loans</td>\n",
       "      <td>F</td>\n",
       "      <td>N</td>\n",
       "      <td>Y</td>\n",
       "      <td>0</td>\n",
       "      <td>112500.0</td>\n",
       "      <td>266832.0</td>\n",
       "      <td>20776.5</td>\n",
       "      <td>...</td>\n",
       "      <td>0</td>\n",
       "      <td>0</td>\n",
       "      <td>0</td>\n",
       "      <td>0</td>\n",
       "      <td>0.0</td>\n",
       "      <td>0.0</td>\n",
       "      <td>0.0</td>\n",
       "      <td>0.0</td>\n",
       "      <td>0.0</td>\n",
       "      <td>4.0</td>\n",
       "    </tr>\n",
       "    <tr>\n",
       "      <th>115729</th>\n",
       "      <td>234204</td>\n",
       "      <td>0</td>\n",
       "      <td>Cash loans</td>\n",
       "      <td>F</td>\n",
       "      <td>N</td>\n",
       "      <td>Y</td>\n",
       "      <td>0</td>\n",
       "      <td>121500.0</td>\n",
       "      <td>450000.0</td>\n",
       "      <td>28890.0</td>\n",
       "      <td>...</td>\n",
       "      <td>0</td>\n",
       "      <td>0</td>\n",
       "      <td>0</td>\n",
       "      <td>0</td>\n",
       "      <td>0.0</td>\n",
       "      <td>0.0</td>\n",
       "      <td>0.0</td>\n",
       "      <td>0.0</td>\n",
       "      <td>0.0</td>\n",
       "      <td>5.0</td>\n",
       "    </tr>\n",
       "  </tbody>\n",
       "</table>\n",
       "<p>5 rows × 122 columns</p>\n",
       "</div>"
      ],
      "text/plain": [
       "        SK_ID_CURR  TARGET NAME_CONTRACT_TYPE CODE_GENDER FLAG_OWN_CAR  \\\n",
       "59561       169042       0         Cash loans           M            N   \n",
       "270460      413461       0         Cash loans           F            N   \n",
       "109121      226563       0         Cash loans           F            N   \n",
       "148396      272063       0         Cash loans           F            N   \n",
       "115729      234204       0         Cash loans           F            N   \n",
       "\n",
       "       FLAG_OWN_REALTY  CNT_CHILDREN  AMT_INCOME_TOTAL  AMT_CREDIT  \\\n",
       "59561                Y             2          225000.0    814041.0   \n",
       "270460               Y             0          112500.0    460858.5   \n",
       "109121               Y             0          180000.0    728460.0   \n",
       "148396               Y             0          112500.0    266832.0   \n",
       "115729               Y             0          121500.0    450000.0   \n",
       "\n",
       "        AMT_ANNUITY  ...  FLAG_DOCUMENT_18 FLAG_DOCUMENT_19 FLAG_DOCUMENT_20  \\\n",
       "59561       23800.5  ...                 0                0                0   \n",
       "270460      16681.5  ...                 0                0                0   \n",
       "109121      38083.5  ...                 0                0                0   \n",
       "148396      20776.5  ...                 0                0                0   \n",
       "115729      28890.0  ...                 0                0                0   \n",
       "\n",
       "       FLAG_DOCUMENT_21 AMT_REQ_CREDIT_BUREAU_HOUR AMT_REQ_CREDIT_BUREAU_DAY  \\\n",
       "59561                 0                        0.0                       0.0   \n",
       "270460                0                        0.0                       0.0   \n",
       "109121                0                        0.0                       0.0   \n",
       "148396                0                        0.0                       0.0   \n",
       "115729                0                        0.0                       0.0   \n",
       "\n",
       "        AMT_REQ_CREDIT_BUREAU_WEEK  AMT_REQ_CREDIT_BUREAU_MON  \\\n",
       "59561                          0.0                        1.0   \n",
       "270460                         0.0                        0.0   \n",
       "109121                         0.0                        0.0   \n",
       "148396                         0.0                        0.0   \n",
       "115729                         0.0                        0.0   \n",
       "\n",
       "        AMT_REQ_CREDIT_BUREAU_QRT  AMT_REQ_CREDIT_BUREAU_YEAR  \n",
       "59561                         0.0                         2.0  \n",
       "270460                        0.0                         0.0  \n",
       "109121                        0.0                         2.0  \n",
       "148396                        0.0                         4.0  \n",
       "115729                        0.0                         5.0  \n",
       "\n",
       "[5 rows x 122 columns]"
      ]
     },
     "execution_count": 8,
     "metadata": {},
     "output_type": "execute_result"
    }
   ],
   "source": [
    "application_train_df = pd.read_csv('application_train.csv')\n",
    "application_train_df.sample(5)"
   ]
  },
  {
   "cell_type": "code",
   "execution_count": 9,
   "metadata": {
    "colab": {
     "base_uri": "https://localhost:8080/",
     "height": 299
    },
    "id": "zKOuhz-6PgVG",
    "outputId": "f44b796b-21b3-4950-c0a4-29d470941b85"
   },
   "outputs": [
    {
     "data": {
      "text/html": [
       "<div>\n",
       "<style scoped>\n",
       "    .dataframe tbody tr th:only-of-type {\n",
       "        vertical-align: middle;\n",
       "    }\n",
       "\n",
       "    .dataframe tbody tr th {\n",
       "        vertical-align: top;\n",
       "    }\n",
       "\n",
       "    .dataframe thead th {\n",
       "        text-align: right;\n",
       "    }\n",
       "</style>\n",
       "<table border=\"1\" class=\"dataframe\">\n",
       "  <thead>\n",
       "    <tr style=\"text-align: right;\">\n",
       "      <th></th>\n",
       "      <th>SK_ID_CURR</th>\n",
       "      <th>NAME_CONTRACT_TYPE</th>\n",
       "      <th>CODE_GENDER</th>\n",
       "      <th>FLAG_OWN_CAR</th>\n",
       "      <th>FLAG_OWN_REALTY</th>\n",
       "      <th>CNT_CHILDREN</th>\n",
       "      <th>AMT_INCOME_TOTAL</th>\n",
       "      <th>AMT_CREDIT</th>\n",
       "      <th>AMT_ANNUITY</th>\n",
       "      <th>AMT_GOODS_PRICE</th>\n",
       "      <th>...</th>\n",
       "      <th>FLAG_DOCUMENT_18</th>\n",
       "      <th>FLAG_DOCUMENT_19</th>\n",
       "      <th>FLAG_DOCUMENT_20</th>\n",
       "      <th>FLAG_DOCUMENT_21</th>\n",
       "      <th>AMT_REQ_CREDIT_BUREAU_HOUR</th>\n",
       "      <th>AMT_REQ_CREDIT_BUREAU_DAY</th>\n",
       "      <th>AMT_REQ_CREDIT_BUREAU_WEEK</th>\n",
       "      <th>AMT_REQ_CREDIT_BUREAU_MON</th>\n",
       "      <th>AMT_REQ_CREDIT_BUREAU_QRT</th>\n",
       "      <th>AMT_REQ_CREDIT_BUREAU_YEAR</th>\n",
       "    </tr>\n",
       "  </thead>\n",
       "  <tbody>\n",
       "    <tr>\n",
       "      <th>32153</th>\n",
       "      <td>334138</td>\n",
       "      <td>Cash loans</td>\n",
       "      <td>M</td>\n",
       "      <td>Y</td>\n",
       "      <td>Y</td>\n",
       "      <td>1</td>\n",
       "      <td>112500.0</td>\n",
       "      <td>539100.0</td>\n",
       "      <td>25933.5</td>\n",
       "      <td>450000.0</td>\n",
       "      <td>...</td>\n",
       "      <td>0</td>\n",
       "      <td>0</td>\n",
       "      <td>0</td>\n",
       "      <td>0</td>\n",
       "      <td>0.0</td>\n",
       "      <td>0.0</td>\n",
       "      <td>0.0</td>\n",
       "      <td>0.0</td>\n",
       "      <td>1.0</td>\n",
       "      <td>3.0</td>\n",
       "    </tr>\n",
       "    <tr>\n",
       "      <th>42371</th>\n",
       "      <td>409535</td>\n",
       "      <td>Cash loans</td>\n",
       "      <td>M</td>\n",
       "      <td>Y</td>\n",
       "      <td>Y</td>\n",
       "      <td>1</td>\n",
       "      <td>405000.0</td>\n",
       "      <td>450000.0</td>\n",
       "      <td>51025.5</td>\n",
       "      <td>450000.0</td>\n",
       "      <td>...</td>\n",
       "      <td>0</td>\n",
       "      <td>0</td>\n",
       "      <td>0</td>\n",
       "      <td>0</td>\n",
       "      <td>0.0</td>\n",
       "      <td>0.0</td>\n",
       "      <td>0.0</td>\n",
       "      <td>0.0</td>\n",
       "      <td>1.0</td>\n",
       "      <td>0.0</td>\n",
       "    </tr>\n",
       "    <tr>\n",
       "      <th>16895</th>\n",
       "      <td>222264</td>\n",
       "      <td>Cash loans</td>\n",
       "      <td>F</td>\n",
       "      <td>N</td>\n",
       "      <td>Y</td>\n",
       "      <td>0</td>\n",
       "      <td>135000.0</td>\n",
       "      <td>272520.0</td>\n",
       "      <td>16803.0</td>\n",
       "      <td>225000.0</td>\n",
       "      <td>...</td>\n",
       "      <td>0</td>\n",
       "      <td>0</td>\n",
       "      <td>0</td>\n",
       "      <td>0</td>\n",
       "      <td>0.0</td>\n",
       "      <td>0.0</td>\n",
       "      <td>0.0</td>\n",
       "      <td>0.0</td>\n",
       "      <td>1.0</td>\n",
       "      <td>4.0</td>\n",
       "    </tr>\n",
       "    <tr>\n",
       "      <th>44124</th>\n",
       "      <td>422072</td>\n",
       "      <td>Cash loans</td>\n",
       "      <td>F</td>\n",
       "      <td>N</td>\n",
       "      <td>Y</td>\n",
       "      <td>0</td>\n",
       "      <td>153000.0</td>\n",
       "      <td>225000.0</td>\n",
       "      <td>23053.5</td>\n",
       "      <td>225000.0</td>\n",
       "      <td>...</td>\n",
       "      <td>0</td>\n",
       "      <td>0</td>\n",
       "      <td>0</td>\n",
       "      <td>0</td>\n",
       "      <td>0.0</td>\n",
       "      <td>0.0</td>\n",
       "      <td>0.0</td>\n",
       "      <td>0.0</td>\n",
       "      <td>0.0</td>\n",
       "      <td>1.0</td>\n",
       "    </tr>\n",
       "    <tr>\n",
       "      <th>34845</th>\n",
       "      <td>354708</td>\n",
       "      <td>Cash loans</td>\n",
       "      <td>F</td>\n",
       "      <td>N</td>\n",
       "      <td>Y</td>\n",
       "      <td>1</td>\n",
       "      <td>225000.0</td>\n",
       "      <td>651960.0</td>\n",
       "      <td>23548.5</td>\n",
       "      <td>450000.0</td>\n",
       "      <td>...</td>\n",
       "      <td>0</td>\n",
       "      <td>0</td>\n",
       "      <td>0</td>\n",
       "      <td>0</td>\n",
       "      <td>0.0</td>\n",
       "      <td>0.0</td>\n",
       "      <td>0.0</td>\n",
       "      <td>0.0</td>\n",
       "      <td>0.0</td>\n",
       "      <td>1.0</td>\n",
       "    </tr>\n",
       "  </tbody>\n",
       "</table>\n",
       "<p>5 rows × 121 columns</p>\n",
       "</div>"
      ],
      "text/plain": [
       "       SK_ID_CURR NAME_CONTRACT_TYPE CODE_GENDER FLAG_OWN_CAR FLAG_OWN_REALTY  \\\n",
       "32153      334138         Cash loans           M            Y               Y   \n",
       "42371      409535         Cash loans           M            Y               Y   \n",
       "16895      222264         Cash loans           F            N               Y   \n",
       "44124      422072         Cash loans           F            N               Y   \n",
       "34845      354708         Cash loans           F            N               Y   \n",
       "\n",
       "       CNT_CHILDREN  AMT_INCOME_TOTAL  AMT_CREDIT  AMT_ANNUITY  \\\n",
       "32153             1          112500.0    539100.0      25933.5   \n",
       "42371             1          405000.0    450000.0      51025.5   \n",
       "16895             0          135000.0    272520.0      16803.0   \n",
       "44124             0          153000.0    225000.0      23053.5   \n",
       "34845             1          225000.0    651960.0      23548.5   \n",
       "\n",
       "       AMT_GOODS_PRICE  ... FLAG_DOCUMENT_18 FLAG_DOCUMENT_19  \\\n",
       "32153         450000.0  ...                0                0   \n",
       "42371         450000.0  ...                0                0   \n",
       "16895         225000.0  ...                0                0   \n",
       "44124         225000.0  ...                0                0   \n",
       "34845         450000.0  ...                0                0   \n",
       "\n",
       "      FLAG_DOCUMENT_20 FLAG_DOCUMENT_21 AMT_REQ_CREDIT_BUREAU_HOUR  \\\n",
       "32153                0                0                        0.0   \n",
       "42371                0                0                        0.0   \n",
       "16895                0                0                        0.0   \n",
       "44124                0                0                        0.0   \n",
       "34845                0                0                        0.0   \n",
       "\n",
       "       AMT_REQ_CREDIT_BUREAU_DAY  AMT_REQ_CREDIT_BUREAU_WEEK  \\\n",
       "32153                        0.0                         0.0   \n",
       "42371                        0.0                         0.0   \n",
       "16895                        0.0                         0.0   \n",
       "44124                        0.0                         0.0   \n",
       "34845                        0.0                         0.0   \n",
       "\n",
       "       AMT_REQ_CREDIT_BUREAU_MON  AMT_REQ_CREDIT_BUREAU_QRT  \\\n",
       "32153                        0.0                        1.0   \n",
       "42371                        0.0                        1.0   \n",
       "16895                        0.0                        1.0   \n",
       "44124                        0.0                        0.0   \n",
       "34845                        0.0                        0.0   \n",
       "\n",
       "       AMT_REQ_CREDIT_BUREAU_YEAR  \n",
       "32153                         3.0  \n",
       "42371                         0.0  \n",
       "16895                         4.0  \n",
       "44124                         1.0  \n",
       "34845                         1.0  \n",
       "\n",
       "[5 rows x 121 columns]"
      ]
     },
     "execution_count": 9,
     "metadata": {},
     "output_type": "execute_result"
    }
   ],
   "source": [
    "application_test_df = pd.read_csv('application_test.csv')\n",
    "application_test_df.sample(5)"
   ]
  },
  {
   "cell_type": "markdown",
   "metadata": {
    "id": "XNy3x43GPjJJ"
   },
   "source": [
    "# Cleaning\n",
    "---\n"
   ]
  },
  {
   "cell_type": "markdown",
   "metadata": {
    "id": "9xH34Ialjqcu"
   },
   "source": [
    "## Menangani Data Hilang\n",
    "---"
   ]
  },
  {
   "cell_type": "code",
   "execution_count": 10,
   "metadata": {
    "colab": {
     "base_uri": "https://localhost:8080/"
    },
    "id": "vLP_-V5gY43N",
    "outputId": "bb8f95e8-d21f-4421-f3cc-169e714ed4d8"
   },
   "outputs": [
    {
     "name": "stdout",
     "output_type": "stream",
     "text": [
      "<class 'pandas.core.frame.DataFrame'>\n",
      "RangeIndex: 1716428 entries, 0 to 1716427\n",
      "Data columns (total 17 columns):\n",
      " #   Column                  Dtype  \n",
      "---  ------                  -----  \n",
      " 0   SK_ID_CURR              int64  \n",
      " 1   SK_ID_BUREAU            int64  \n",
      " 2   CREDIT_ACTIVE           object \n",
      " 3   CREDIT_CURRENCY         object \n",
      " 4   DAYS_CREDIT             int64  \n",
      " 5   CREDIT_DAY_OVERDUE      int64  \n",
      " 6   DAYS_CREDIT_ENDDATE     float64\n",
      " 7   DAYS_ENDDATE_FACT       float64\n",
      " 8   AMT_CREDIT_MAX_OVERDUE  float64\n",
      " 9   CNT_CREDIT_PROLONG      int64  \n",
      " 10  AMT_CREDIT_SUM          float64\n",
      " 11  AMT_CREDIT_SUM_DEBT     float64\n",
      " 12  AMT_CREDIT_SUM_LIMIT    float64\n",
      " 13  AMT_CREDIT_SUM_OVERDUE  float64\n",
      " 14  CREDIT_TYPE             object \n",
      " 15  DAYS_CREDIT_UPDATE      int64  \n",
      " 16  AMT_ANNUITY             float64\n",
      "dtypes: float64(8), int64(6), object(3)\n",
      "memory usage: 222.6+ MB\n"
     ]
    }
   ],
   "source": [
    "bureau_df.info()"
   ]
  },
  {
   "cell_type": "code",
   "execution_count": 11,
   "metadata": {
    "colab": {
     "base_uri": "https://localhost:8080/"
    },
    "id": "F5kjvpmcYcrm",
    "outputId": "d7bb3efe-9c0c-4247-fbb1-59e99e0ffd80"
   },
   "outputs": [
    {
     "data": {
      "text/plain": [
       "SK_ID_CURR                      0\n",
       "SK_ID_BUREAU                    0\n",
       "CREDIT_ACTIVE                   0\n",
       "CREDIT_CURRENCY                 0\n",
       "DAYS_CREDIT                     0\n",
       "CREDIT_DAY_OVERDUE              0\n",
       "DAYS_CREDIT_ENDDATE        105553\n",
       "DAYS_ENDDATE_FACT          633653\n",
       "AMT_CREDIT_MAX_OVERDUE    1124488\n",
       "CNT_CREDIT_PROLONG              0\n",
       "AMT_CREDIT_SUM                 13\n",
       "AMT_CREDIT_SUM_DEBT        257669\n",
       "AMT_CREDIT_SUM_LIMIT       591780\n",
       "AMT_CREDIT_SUM_OVERDUE          0\n",
       "CREDIT_TYPE                     0\n",
       "DAYS_CREDIT_UPDATE              0\n",
       "AMT_ANNUITY               1226791\n",
       "dtype: int64"
      ]
     },
     "execution_count": 11,
     "metadata": {},
     "output_type": "execute_result"
    }
   ],
   "source": [
    "bureau_df.isnull().sum()"
   ]
  },
  {
   "cell_type": "markdown",
   "metadata": {
    "id": "E7eGlYFlYnrg"
   },
   "source": [
    "Untuk data **bureau**, kita melihat bahwa ukuran data tersebut memiliki 1716428 baris dan 17 kolom. Beberapa baris memiliki nilai **null** atau nilai yang hilang. Kita akan membersihkan nilai ini. Untuk melakukan pembersihan data, kita akan memperlakukannya secara berbeda. Untuk data yang hilang lebih dari 30%, maka kita bisa menghapus kolom tersebut karena jika data yang hilang lebih dari 30% digantikan oleh nilai statistik (modus, median atau rata-rata) maka akan sangat memengaruhi proses prediksi kita karena data baru tersebut akan memberikan deviasi yang tinggi jika berbeda jauh dengan data sebenarnya.\n",
    "\n",
    "Namun, tentu saja, tidak semua data yang hilang lebih dari 30% akan dihapus, terutama jika data itu cukup penting. Maka dari itu, kita akan melihat korelasi antar data dalam dataframe bureau_df. Kita akan melihat data hilang apa saja yang berkorelasi linier dengan data yang tidak hilang. Jika ada kolom yang memiliki data yang hilang yang berkorelasi linier dengan kolom lain yang tidak memiliki data hilang, kita bisa menggunakan interpolasi untuk mencari data yang hilang.\n",
    "\n",
    "Secara umum, ada empat kolom (DAYS_ENDDATE_FACT, AMT_CREDIT_MAX_OVERDUE,AMT_CREDIT_SUM_LIMIT, dan AMT_ANNUITY) yang memiliki data hilang lebih dari 30% yang akan kita hapus jika tidak berkorelasi dengan kolom lain, dan ada 3 kolom (DAYS_CREDIT_ENDDATE, AMT_CREDIT_SUM, AMT_CREDIT_SUM_DEBIT) yang memiliki data hilang kurang dari 30% dan akan kita gunakan metode statistik (mean, median atau modus atau mungkin bisa dengan interpolasi jika memiliki korelasi kuat dengan kolom lain) untuk mengisi data yang hilang."
   ]
  },
  {
   "cell_type": "code",
   "execution_count": 12,
   "metadata": {
    "colab": {
     "base_uri": "https://localhost:8080/",
     "height": 1000
    },
    "id": "yy94GbO86An8",
    "outputId": "040f46e3-b8c9-4eb0-dede-80153c46d67c"
   },
   "outputs": [
    {
     "name": "stderr",
     "output_type": "stream",
     "text": [
      "C:\\Users\\fondo\\AppData\\Local\\Temp\\ipykernel_5704\\799791254.py:1: FutureWarning: The default value of numeric_only in DataFrame.corr is deprecated. In a future version, it will default to False. Select only valid columns or specify the value of numeric_only to silence this warning.\n",
      "  corr_matrix = bureau_df.corr()\n"
     ]
    },
    {
     "data": {
      "text/plain": [
       "<Axes: >"
      ]
     },
     "execution_count": 12,
     "metadata": {},
     "output_type": "execute_result"
    },
    {
     "data": {
      "image/png": "[encoded data removed]",
      "text/plain": [
       "<Figure size 2000x1500 with 2 Axes>"
      ]
     },
     "metadata": {},
     "output_type": "display_data"
    }
   ],
   "source": [
    "corr_matrix = bureau_df.corr()\n",
    "plt.figure(figsize = (20,15))\n",
    "sns.heatmap(corr_matrix,annot=True, fmt='.2f')"
   ]
  },
  {
   "cell_type": "markdown",
   "metadata": {
    "id": "4pZ9gPKwOWvO"
   },
   "source": [
    "Kita bisa melihat bahwa dari keempat kolom yang memiliki data yang hilang lebih dari 30%, hanya satu kolom saja yang berkorelasi kuat dengan kolom lain, yaitu kolom DAYS_ENDDATE_FACT berkorelasi kuat dengan DAYS_CREDIT dengan nilai korelasi Pearson sebesar 0,88. Maka dari itu, alangkah lebih baik bahwa kolom DAYS_ENDDATE_FACT meskipun memiliki data yang hilang lebih dari 30%. Selain itu, untuk kolom lain (AMT_CREDIT_MAX_OVERDUE, AMT_CREDIT_SUM_LIMIT, dan AMT_ANNUITY) karena tidak berkorelasi dan kita tidak tahu apakah pengguna memiliki kredit atau tidak dengan data lain dapat kita hapus. Untuk kolom yang memiliki jumlah data hilang kurang dari 30% akan kita ganti menjadi mean/nilai rata-ratanya."
   ]
  },
  {
   "cell_type": "code",
   "execution_count": 13,
   "metadata": {
    "id": "ylPKHGmLgm5d"
   },
   "outputs": [],
   "source": [
    "#Interpolasi data DAYS_ENDDATE_FACT\n",
    "bureau_df.sort_values(by = 'DAYS_CREDIT', inplace = True)\n",
    "bureau_df['DAYS_ENDDATE_FACT'] = bureau_df['DAYS_ENDDATE_FACT'].interpolate().fillna(method = 'bfill')\n",
    "# bureau_df['DAYS_ENDDATE_FACT']\n",
    "#dan juga untuk nilai paling atas, karena tidak ada data diatasnya untuk interpolasi, bisa diisi dengan nilai bawahnya\n",
    "\n",
    "\n",
    "#drop data AMT_CREDIT_MAX_OVERDUE,AMT_CREDIT_SUM_LIMIT, dan AMT_ANNUITY\n",
    "bureau_df = bureau_df.drop(['AMT_CREDIT_MAX_OVERDUE','AMT_CREDIT_SUM_LIMIT', 'AMT_ANNUITY'], axis = 1)\n",
    "\n",
    "#Isi data hilang dari DAYS_CREDIT_ENDDATE, AMT_CREDIT_SUM, AMT_CREDIT_SUM_DEBIT dengan nilai rata-rata\n",
    "bureau_df['DAYS_CREDIT_ENDDATE'] = bureau_df['DAYS_CREDIT_ENDDATE'].fillna(bureau_df['DAYS_CREDIT_ENDDATE'].mean())\n",
    "bureau_df['AMT_CREDIT_SUM'] = bureau_df['AMT_CREDIT_SUM'].fillna(bureau_df['AMT_CREDIT_SUM'].mean())\n",
    "bureau_df['AMT_CREDIT_SUM_DEBT'] = bureau_df['AMT_CREDIT_SUM_DEBT'].fillna(bureau_df['AMT_CREDIT_SUM_DEBT'].mean())\n",
    "\n",
    "bureau_df = bureau_df.reset_index().sort_values(by = 'index').reset_index(drop = True).drop('index', axis = 1)"
   ]
  },
  {
   "cell_type": "code",
   "execution_count": 14,
   "metadata": {
    "colab": {
     "base_uri": "https://localhost:8080/",
     "height": 322
    },
    "id": "xKGP8D9O-SSz",
    "outputId": "70d3cf3b-148b-4d20-c8b4-745bf8cc9f5d"
   },
   "outputs": [
    {
     "data": {
      "text/html": [
       "<div>\n",
       "<style scoped>\n",
       "    .dataframe tbody tr th:only-of-type {\n",
       "        vertical-align: middle;\n",
       "    }\n",
       "\n",
       "    .dataframe tbody tr th {\n",
       "        vertical-align: top;\n",
       "    }\n",
       "\n",
       "    .dataframe thead th {\n",
       "        text-align: right;\n",
       "    }\n",
       "</style>\n",
       "<table border=\"1\" class=\"dataframe\">\n",
       "  <thead>\n",
       "    <tr style=\"text-align: right;\">\n",
       "      <th></th>\n",
       "      <th>SK_ID_CURR</th>\n",
       "      <th>SK_ID_BUREAU</th>\n",
       "      <th>CREDIT_ACTIVE</th>\n",
       "      <th>CREDIT_CURRENCY</th>\n",
       "      <th>DAYS_CREDIT</th>\n",
       "      <th>CREDIT_DAY_OVERDUE</th>\n",
       "      <th>DAYS_CREDIT_ENDDATE</th>\n",
       "      <th>DAYS_ENDDATE_FACT</th>\n",
       "      <th>CNT_CREDIT_PROLONG</th>\n",
       "      <th>AMT_CREDIT_SUM</th>\n",
       "      <th>AMT_CREDIT_SUM_DEBT</th>\n",
       "      <th>AMT_CREDIT_SUM_OVERDUE</th>\n",
       "      <th>CREDIT_TYPE</th>\n",
       "      <th>DAYS_CREDIT_UPDATE</th>\n",
       "    </tr>\n",
       "  </thead>\n",
       "  <tbody>\n",
       "    <tr>\n",
       "      <th>0</th>\n",
       "      <td>215354</td>\n",
       "      <td>5714462</td>\n",
       "      <td>Closed</td>\n",
       "      <td>currency 1</td>\n",
       "      <td>-497</td>\n",
       "      <td>0</td>\n",
       "      <td>-153.000000</td>\n",
       "      <td>-153.000000</td>\n",
       "      <td>0</td>\n",
       "      <td>91323.0</td>\n",
       "      <td>0.000000</td>\n",
       "      <td>0.0</td>\n",
       "      <td>Consumer credit</td>\n",
       "      <td>-131</td>\n",
       "    </tr>\n",
       "    <tr>\n",
       "      <th>1</th>\n",
       "      <td>215354</td>\n",
       "      <td>5714463</td>\n",
       "      <td>Active</td>\n",
       "      <td>currency 1</td>\n",
       "      <td>-208</td>\n",
       "      <td>0</td>\n",
       "      <td>1075.000000</td>\n",
       "      <td>-114.000000</td>\n",
       "      <td>0</td>\n",
       "      <td>225000.0</td>\n",
       "      <td>171342.000000</td>\n",
       "      <td>0.0</td>\n",
       "      <td>Credit card</td>\n",
       "      <td>-20</td>\n",
       "    </tr>\n",
       "    <tr>\n",
       "      <th>2</th>\n",
       "      <td>215354</td>\n",
       "      <td>5714464</td>\n",
       "      <td>Active</td>\n",
       "      <td>currency 1</td>\n",
       "      <td>-203</td>\n",
       "      <td>0</td>\n",
       "      <td>528.000000</td>\n",
       "      <td>-26.444444</td>\n",
       "      <td>0</td>\n",
       "      <td>464323.5</td>\n",
       "      <td>137085.119952</td>\n",
       "      <td>0.0</td>\n",
       "      <td>Consumer credit</td>\n",
       "      <td>-16</td>\n",
       "    </tr>\n",
       "    <tr>\n",
       "      <th>3</th>\n",
       "      <td>215354</td>\n",
       "      <td>5714465</td>\n",
       "      <td>Active</td>\n",
       "      <td>currency 1</td>\n",
       "      <td>-203</td>\n",
       "      <td>0</td>\n",
       "      <td>510.517362</td>\n",
       "      <td>-17.454545</td>\n",
       "      <td>0</td>\n",
       "      <td>90000.0</td>\n",
       "      <td>137085.119952</td>\n",
       "      <td>0.0</td>\n",
       "      <td>Credit card</td>\n",
       "      <td>-16</td>\n",
       "    </tr>\n",
       "    <tr>\n",
       "      <th>4</th>\n",
       "      <td>215354</td>\n",
       "      <td>5714466</td>\n",
       "      <td>Active</td>\n",
       "      <td>currency 1</td>\n",
       "      <td>-629</td>\n",
       "      <td>0</td>\n",
       "      <td>1197.000000</td>\n",
       "      <td>-303.000000</td>\n",
       "      <td>0</td>\n",
       "      <td>2700000.0</td>\n",
       "      <td>137085.119952</td>\n",
       "      <td>0.0</td>\n",
       "      <td>Consumer credit</td>\n",
       "      <td>-21</td>\n",
       "    </tr>\n",
       "  </tbody>\n",
       "</table>\n",
       "</div>"
      ],
      "text/plain": [
       "   SK_ID_CURR  SK_ID_BUREAU CREDIT_ACTIVE CREDIT_CURRENCY  DAYS_CREDIT  \\\n",
       "0      215354       5714462        Closed      currency 1         -497   \n",
       "1      215354       5714463        Active      currency 1         -208   \n",
       "2      215354       5714464        Active      currency 1         -203   \n",
       "3      215354       5714465        Active      currency 1         -203   \n",
       "4      215354       5714466        Active      currency 1         -629   \n",
       "\n",
       "   CREDIT_DAY_OVERDUE  DAYS_CREDIT_ENDDATE  DAYS_ENDDATE_FACT  \\\n",
       "0                   0          -153.000000        -153.000000   \n",
       "1                   0          1075.000000        -114.000000   \n",
       "2                   0           528.000000         -26.444444   \n",
       "3                   0           510.517362         -17.454545   \n",
       "4                   0          1197.000000        -303.000000   \n",
       "\n",
       "   CNT_CREDIT_PROLONG  AMT_CREDIT_SUM  AMT_CREDIT_SUM_DEBT  \\\n",
       "0                   0         91323.0             0.000000   \n",
       "1                   0        225000.0        171342.000000   \n",
       "2                   0        464323.5        137085.119952   \n",
       "3                   0         90000.0        137085.119952   \n",
       "4                   0       2700000.0        137085.119952   \n",
       "\n",
       "   AMT_CREDIT_SUM_OVERDUE      CREDIT_TYPE  DAYS_CREDIT_UPDATE  \n",
       "0                     0.0  Consumer credit                -131  \n",
       "1                     0.0      Credit card                 -20  \n",
       "2                     0.0  Consumer credit                 -16  \n",
       "3                     0.0      Credit card                 -16  \n",
       "4                     0.0  Consumer credit                 -21  "
      ]
     },
     "execution_count": 14,
     "metadata": {},
     "output_type": "execute_result"
    }
   ],
   "source": [
    "bureau_df.head()"
   ]
  },
  {
   "cell_type": "markdown",
   "metadata": {
    "id": "eW6ET7XlX0j-"
   },
   "source": [
    "Kita akan melihat hasil korelasi akhir antar datanya"
   ]
  },
  {
   "cell_type": "code",
   "execution_count": 15,
   "metadata": {
    "colab": {
     "base_uri": "https://localhost:8080/",
     "height": 1000
    },
    "id": "ramtNyeL1aya",
    "outputId": "dad1dfff-3d6a-4767-92a9-98272452a005"
   },
   "outputs": [
    {
     "name": "stderr",
     "output_type": "stream",
     "text": [
      "C:\\Users\\fondo\\AppData\\Local\\Temp\\ipykernel_5704\\799791254.py:1: FutureWarning: The default value of numeric_only in DataFrame.corr is deprecated. In a future version, it will default to False. Select only valid columns or specify the value of numeric_only to silence this warning.\n",
      "  corr_matrix = bureau_df.corr()\n"
     ]
    },
    {
     "data": {
      "text/plain": [
       "<Axes: >"
      ]
     },
     "execution_count": 15,
     "metadata": {},
     "output_type": "execute_result"
    },
    {
     "data": {
      "image/png": "[encoded data removed]",
      "text/plain": [
       "<Figure size 2000x1500 with 2 Axes>"
      ]
     },
     "metadata": {},
     "output_type": "display_data"
    }
   ],
   "source": [
    "corr_matrix = bureau_df.corr()\n",
    "plt.figure(figsize = (20,15))\n",
    "sns.heatmap(corr_matrix,annot=True, fmt='.2f')"
   ]
  },
  {
   "cell_type": "markdown",
   "metadata": {
    "id": "1CJljFow8cbC"
   },
   "source": [
    "Kita bisa melihat bahwa perubahan kolom yang kita lakukan tidak mengubah nilai korelasi antar kolom secara signifikan."
   ]
  },
  {
   "cell_type": "markdown",
   "metadata": {
    "id": "dMPn5Upaw-te"
   },
   "source": [
    "Kita akan mengaplikasikan metode yang sama untuk dataframe bureau_balance_df"
   ]
  },
  {
   "cell_type": "code",
   "execution_count": 16,
   "metadata": {
    "colab": {
     "base_uri": "https://localhost:8080/"
    },
    "id": "ncQsUhfi9jbZ",
    "outputId": "e4e68ed7-7ec0-4a99-8b0a-d164688e960a"
   },
   "outputs": [
    {
     "name": "stdout",
     "output_type": "stream",
     "text": [
      "<class 'pandas.core.frame.DataFrame'>\n",
      "RangeIndex: 27299925 entries, 0 to 27299924\n",
      "Data columns (total 3 columns):\n",
      " #   Column          Dtype \n",
      "---  ------          ----- \n",
      " 0   SK_ID_BUREAU    int64 \n",
      " 1   MONTHS_BALANCE  int64 \n",
      " 2   STATUS          object\n",
      "dtypes: int64(2), object(1)\n",
      "memory usage: 624.8+ MB\n"
     ]
    }
   ],
   "source": [
    "bureau_balance_df.info()"
   ]
  },
  {
   "cell_type": "code",
   "execution_count": 17,
   "metadata": {
    "colab": {
     "base_uri": "https://localhost:8080/"
    },
    "id": "sZqZvHaSB1dX",
    "outputId": "49ad0f06-177f-428e-bd88-7392a2c06834"
   },
   "outputs": [
    {
     "data": {
      "text/plain": [
       "SK_ID_BUREAU      0\n",
       "MONTHS_BALANCE    0\n",
       "STATUS            0\n",
       "dtype: int64"
      ]
     },
     "execution_count": 17,
     "metadata": {},
     "output_type": "execute_result"
    }
   ],
   "source": [
    "bureau_balance_df.isnull().sum()"
   ]
  },
  {
   "cell_type": "markdown",
   "metadata": {
    "id": "7nnBggZdB13i"
   },
   "source": [
    "Ternyata kita bisa melihat bahwa pada hahikatnya data bureau_balance_df telah bersih dan tidak memiliki data yang hilang, sehingga tidak perlu kita perbaiki."
   ]
  },
  {
   "cell_type": "code",
   "execution_count": 18,
   "metadata": {
    "colab": {
     "base_uri": "https://localhost:8080/"
    },
    "id": "LFlDJpXGCFSz",
    "outputId": "db5e145a-aea2-4dc8-d0a6-a6673ecf7cec"
   },
   "outputs": [
    {
     "name": "stdout",
     "output_type": "stream",
     "text": [
      "<class 'pandas.core.frame.DataFrame'>\n",
      "RangeIndex: 3840312 entries, 0 to 3840311\n",
      "Data columns (total 23 columns):\n",
      " #   Column                      Dtype  \n",
      "---  ------                      -----  \n",
      " 0   SK_ID_PREV                  int64  \n",
      " 1   SK_ID_CURR                  int64  \n",
      " 2   MONTHS_BALANCE              int64  \n",
      " 3   AMT_BALANCE                 float64\n",
      " 4   AMT_CREDIT_LIMIT_ACTUAL     int64  \n",
      " 5   AMT_DRAWINGS_ATM_CURRENT    float64\n",
      " 6   AMT_DRAWINGS_CURRENT        float64\n",
      " 7   AMT_DRAWINGS_OTHER_CURRENT  float64\n",
      " 8   AMT_DRAWINGS_POS_CURRENT    float64\n",
      " 9   AMT_INST_MIN_REGULARITY     float64\n",
      " 10  AMT_PAYMENT_CURRENT         float64\n",
      " 11  AMT_PAYMENT_TOTAL_CURRENT   float64\n",
      " 12  AMT_RECEIVABLE_PRINCIPAL    float64\n",
      " 13  AMT_RECIVABLE               float64\n",
      " 14  AMT_TOTAL_RECEIVABLE        float64\n",
      " 15  CNT_DRAWINGS_ATM_CURRENT    float64\n",
      " 16  CNT_DRAWINGS_CURRENT        int64  \n",
      " 17  CNT_DRAWINGS_OTHER_CURRENT  float64\n",
      " 18  CNT_DRAWINGS_POS_CURRENT    float64\n",
      " 19  CNT_INSTALMENT_MATURE_CUM   float64\n",
      " 20  NAME_CONTRACT_STATUS        object \n",
      " 21  SK_DPD                      int64  \n",
      " 22  SK_DPD_DEF                  int64  \n",
      "dtypes: float64(15), int64(7), object(1)\n",
      "memory usage: 673.9+ MB\n"
     ]
    }
   ],
   "source": [
    "credit_card_balance_df.info()"
   ]
  },
  {
   "cell_type": "code",
   "execution_count": 19,
   "metadata": {
    "colab": {
     "base_uri": "https://localhost:8080/"
    },
    "id": "tlnz2_ssCnsH",
    "outputId": "34b8b413-bbf2-4128-af78-6c2ed962e9e8"
   },
   "outputs": [
    {
     "data": {
      "text/plain": [
       "SK_ID_PREV                         0\n",
       "SK_ID_CURR                         0\n",
       "MONTHS_BALANCE                     0\n",
       "AMT_BALANCE                        0\n",
       "AMT_CREDIT_LIMIT_ACTUAL            0\n",
       "AMT_DRAWINGS_ATM_CURRENT      749816\n",
       "AMT_DRAWINGS_CURRENT               0\n",
       "AMT_DRAWINGS_OTHER_CURRENT    749816\n",
       "AMT_DRAWINGS_POS_CURRENT      749816\n",
       "AMT_INST_MIN_REGULARITY       305236\n",
       "AMT_PAYMENT_CURRENT           767988\n",
       "AMT_PAYMENT_TOTAL_CURRENT          0\n",
       "AMT_RECEIVABLE_PRINCIPAL           0\n",
       "AMT_RECIVABLE                      0\n",
       "AMT_TOTAL_RECEIVABLE               0\n",
       "CNT_DRAWINGS_ATM_CURRENT      749816\n",
       "CNT_DRAWINGS_CURRENT               0\n",
       "CNT_DRAWINGS_OTHER_CURRENT    749816\n",
       "CNT_DRAWINGS_POS_CURRENT      749816\n",
       "CNT_INSTALMENT_MATURE_CUM     305236\n",
       "NAME_CONTRACT_STATUS               0\n",
       "SK_DPD                             0\n",
       "SK_DPD_DEF                         0\n",
       "dtype: int64"
      ]
     },
     "execution_count": 19,
     "metadata": {},
     "output_type": "execute_result"
    }
   ],
   "source": [
    "credit_card_balance_df.isnull().sum()"
   ]
  },
  {
   "cell_type": "markdown",
   "metadata": {
    "id": "QkTEg8abCpYW"
   },
   "source": [
    "Kita bisa melihat bahwa ada 6 kolom (AMT_DRAWINGS_ATM_CURRENT, AMT_DRAWINGS_OTHER_CURRENT, AMT_DRAWINGS_POS_CURRENT, CNT_DRAWINGS_ATM_CURRENT, CNT_DRAWINGS_OTHER_CURRENT, CNT_DRAWINGS_POS_CURRENT) memiliki jumlah data kosong yang sama. Berhubung keenam kolom tersebut berkaitan dengan jumlah penggunaan kredit sebelumnya, maka kita bisa mengasumsikan bahwa data kosong berarti bahwa pengguna tidak menggunakan kredit sebelumnya, sehingga kita dapat mengisi data kosong tersebut dengan nilai nol. Hal yang sama juga berlaku pada kolom AMT_INST_MIN_REGULRITY, AMT_PAYMENT_CURRENT dan CNT_INSTALMENT_MATURE_CUM, dengan alasan yang sama dapat kita isi dengan nilai nol. Artinya, bisa kita simpulkan bahwa semua data kosong dalam dataframe ini diisi dengan nilai nol. "
   ]
  },
  {
   "cell_type": "code",
   "execution_count": 20,
   "metadata": {
    "id": "aTmh3cjeQeLy"
   },
   "outputs": [],
   "source": [
    "credit_card_balance_df = credit_card_balance_df.fillna(0)"
   ]
  },
  {
   "cell_type": "markdown",
   "metadata": {
    "id": "1K2ulJ85R31C"
   },
   "source": [
    "Selanjutnya, kita akan mengevaluasi data kosong dari installments_payments_df."
   ]
  },
  {
   "cell_type": "code",
   "execution_count": 21,
   "metadata": {
    "colab": {
     "base_uri": "https://localhost:8080/"
    },
    "id": "TURdqAzlWjwq",
    "outputId": "3f69cd58-93aa-4ae7-8af7-6a55c2051096"
   },
   "outputs": [
    {
     "name": "stdout",
     "output_type": "stream",
     "text": [
      "<class 'pandas.core.frame.DataFrame'>\n",
      "RangeIndex: 13605401 entries, 0 to 13605400\n",
      "Data columns (total 8 columns):\n",
      " #   Column                  Dtype  \n",
      "---  ------                  -----  \n",
      " 0   SK_ID_PREV              int64  \n",
      " 1   SK_ID_CURR              int64  \n",
      " 2   NUM_INSTALMENT_VERSION  float64\n",
      " 3   NUM_INSTALMENT_NUMBER   int64  \n",
      " 4   DAYS_INSTALMENT         float64\n",
      " 5   DAYS_ENTRY_PAYMENT      float64\n",
      " 6   AMT_INSTALMENT          float64\n",
      " 7   AMT_PAYMENT             float64\n",
      "dtypes: float64(5), int64(3)\n",
      "memory usage: 830.4 MB\n"
     ]
    }
   ],
   "source": [
    "installments_payments_df.info()"
   ]
  },
  {
   "cell_type": "code",
   "execution_count": 22,
   "metadata": {
    "colab": {
     "base_uri": "https://localhost:8080/"
    },
    "id": "zaW9oaEPWk7c",
    "outputId": "daa29d33-c1aa-4f2b-9cbc-f3e048c322fd"
   },
   "outputs": [
    {
     "data": {
      "text/plain": [
       "SK_ID_PREV                   0\n",
       "SK_ID_CURR                   0\n",
       "NUM_INSTALMENT_VERSION       0\n",
       "NUM_INSTALMENT_NUMBER        0\n",
       "DAYS_INSTALMENT              0\n",
       "DAYS_ENTRY_PAYMENT        2905\n",
       "AMT_INSTALMENT               0\n",
       "AMT_PAYMENT               2905\n",
       "dtype: int64"
      ]
     },
     "execution_count": 22,
     "metadata": {},
     "output_type": "execute_result"
    }
   ],
   "source": [
    "installments_payments_df.isnull().sum()"
   ]
  },
  {
   "cell_type": "markdown",
   "metadata": {
    "id": "SCZiRAVjWyVf"
   },
   "source": [
    "Kita dapat melihat bahwa terdapat kolom yang memiliki data hilang, yaitu DAYS_ENTRY_PAYMENT dan AMT_PAYMENT. Kedua kolom ini memiliki jumlah data hilang yang sama dan memang keduanya berkaitan dengan pembayaran cicilan kredit sebelumnya. Maka dari itu, cukup masuk akal apabila kita mengisi data kosong dengan nilai nol."
   ]
  },
  {
   "cell_type": "code",
   "execution_count": 23,
   "metadata": {
    "id": "vb9DUawWblPR"
   },
   "outputs": [],
   "source": [
    "installments_payments_df = installments_payments_df.fillna(0)"
   ]
  },
  {
   "cell_type": "markdown",
   "metadata": {
    "id": "T41YtY_obqE1"
   },
   "source": [
    "Selanjutnya, kita dapat menangani data kosong untuk dataframe installments_payments_df. "
   ]
  },
  {
   "cell_type": "code",
   "execution_count": 24,
   "metadata": {
    "colab": {
     "base_uri": "https://localhost:8080/"
    },
    "id": "IHnd6Bn4geGu",
    "outputId": "ed3edd00-0d8e-4ab7-ec3f-6182795d0299"
   },
   "outputs": [
    {
     "name": "stdout",
     "output_type": "stream",
     "text": [
      "<class 'pandas.core.frame.DataFrame'>\n",
      "RangeIndex: 13605401 entries, 0 to 13605400\n",
      "Data columns (total 8 columns):\n",
      " #   Column                  Dtype  \n",
      "---  ------                  -----  \n",
      " 0   SK_ID_PREV              int64  \n",
      " 1   SK_ID_CURR              int64  \n",
      " 2   NUM_INSTALMENT_VERSION  float64\n",
      " 3   NUM_INSTALMENT_NUMBER   int64  \n",
      " 4   DAYS_INSTALMENT         float64\n",
      " 5   DAYS_ENTRY_PAYMENT      float64\n",
      " 6   AMT_INSTALMENT          float64\n",
      " 7   AMT_PAYMENT             float64\n",
      "dtypes: float64(5), int64(3)\n",
      "memory usage: 830.4 MB\n"
     ]
    }
   ],
   "source": [
    "installments_payments_df.info()"
   ]
  },
  {
   "cell_type": "code",
   "execution_count": 25,
   "metadata": {
    "colab": {
     "base_uri": "https://localhost:8080/"
    },
    "id": "nasOwv39je_w",
    "outputId": "124cb416-4c68-494b-c3fd-15846e120b6d"
   },
   "outputs": [
    {
     "data": {
      "text/plain": [
       "SK_ID_PREV                0\n",
       "SK_ID_CURR                0\n",
       "NUM_INSTALMENT_VERSION    0\n",
       "NUM_INSTALMENT_NUMBER     0\n",
       "DAYS_INSTALMENT           0\n",
       "DAYS_ENTRY_PAYMENT        0\n",
       "AMT_INSTALMENT            0\n",
       "AMT_PAYMENT               0\n",
       "dtype: int64"
      ]
     },
     "execution_count": 25,
     "metadata": {},
     "output_type": "execute_result"
    }
   ],
   "source": [
    "installments_payments_df.isnull().sum()"
   ]
  },
  {
   "cell_type": "markdown",
   "metadata": {
    "id": "MQabn2jijhJQ"
   },
   "source": [
    "Dikarenakan dataframe tidak memiliki nilai yang hilang, maka kita akan lanjut ke data selanjutnya, yaitu cash_balance_df"
   ]
  },
  {
   "cell_type": "code",
   "execution_count": 26,
   "metadata": {
    "colab": {
     "base_uri": "https://localhost:8080/"
    },
    "id": "4oiegJvlkyhk",
    "outputId": "2ffc4270-b109-4cc9-a748-0388cf4e2145"
   },
   "outputs": [
    {
     "name": "stdout",
     "output_type": "stream",
     "text": [
      "<class 'pandas.core.frame.DataFrame'>\n",
      "RangeIndex: 10001358 entries, 0 to 10001357\n",
      "Data columns (total 8 columns):\n",
      " #   Column                 Dtype  \n",
      "---  ------                 -----  \n",
      " 0   SK_ID_PREV             int64  \n",
      " 1   SK_ID_CURR             int64  \n",
      " 2   MONTHS_BALANCE         int64  \n",
      " 3   CNT_INSTALMENT         float64\n",
      " 4   CNT_INSTALMENT_FUTURE  float64\n",
      " 5   NAME_CONTRACT_STATUS   object \n",
      " 6   SK_DPD                 int64  \n",
      " 7   SK_DPD_DEF             int64  \n",
      "dtypes: float64(2), int64(5), object(1)\n",
      "memory usage: 610.4+ MB\n"
     ]
    }
   ],
   "source": [
    "cash_balance_df.info()"
   ]
  },
  {
   "cell_type": "code",
   "execution_count": 27,
   "metadata": {
    "colab": {
     "base_uri": "https://localhost:8080/"
    },
    "id": "BV8LW4aGk0Yj",
    "outputId": "5fed0b63-1e9c-4af8-f8b9-d315db1fcdf7"
   },
   "outputs": [
    {
     "data": {
      "text/plain": [
       "SK_ID_PREV                   0\n",
       "SK_ID_CURR                   0\n",
       "MONTHS_BALANCE               0\n",
       "CNT_INSTALMENT           26071\n",
       "CNT_INSTALMENT_FUTURE    26087\n",
       "NAME_CONTRACT_STATUS         0\n",
       "SK_DPD                       0\n",
       "SK_DPD_DEF                   0\n",
       "dtype: int64"
      ]
     },
     "execution_count": 27,
     "metadata": {},
     "output_type": "execute_result"
    }
   ],
   "source": [
    "cash_balance_df.isnull().sum()"
   ]
  },
  {
   "cell_type": "markdown",
   "metadata": {
    "id": "MTDrcAdNk12V"
   },
   "source": [
    "Dengan alasan bahwa kedua kolom tersebut saling berkaitan mengenai waktu pembayaran kredit dan besarnya, maka akan lebih baik mengisi data kosong tersebut dengan nilai nol. Ini berarti bahwa oengguna tidak menggunakan kredit dan tidak perlu membayar cicilan.  "
   ]
  },
  {
   "cell_type": "code",
   "execution_count": 28,
   "metadata": {
    "id": "xQ0qO8FloXMa"
   },
   "outputs": [],
   "source": [
    "cash_balance_df = cash_balance_df.fillna(0)"
   ]
  },
  {
   "cell_type": "markdown",
   "metadata": {
    "id": "ekpQZYmcoaDJ"
   },
   "source": [
    "Selanjutnya, kita akan melihat untuk previous_application_df"
   ]
  },
  {
   "cell_type": "code",
   "execution_count": 29,
   "metadata": {
    "colab": {
     "base_uri": "https://localhost:8080/"
    },
    "id": "RujRWq0FzY0B",
    "outputId": "f7b649f3-8e65-4c85-9895-370bc05c1b6a"
   },
   "outputs": [
    {
     "name": "stdout",
     "output_type": "stream",
     "text": [
      "<class 'pandas.core.frame.DataFrame'>\n",
      "RangeIndex: 1670214 entries, 0 to 1670213\n",
      "Data columns (total 37 columns):\n",
      " #   Column                       Non-Null Count    Dtype  \n",
      "---  ------                       --------------    -----  \n",
      " 0   SK_ID_PREV                   1670214 non-null  int64  \n",
      " 1   SK_ID_CURR                   1670214 non-null  int64  \n",
      " 2   NAME_CONTRACT_TYPE           1670214 non-null  object \n",
      " 3   AMT_ANNUITY                  1297979 non-null  float64\n",
      " 4   AMT_APPLICATION              1670214 non-null  float64\n",
      " 5   AMT_CREDIT                   1670213 non-null  float64\n",
      " 6   AMT_DOWN_PAYMENT             774370 non-null   float64\n",
      " 7   AMT_GOODS_PRICE              1284699 non-null  float64\n",
      " 8   WEEKDAY_APPR_PROCESS_START   1670214 non-null  object \n",
      " 9   HOUR_APPR_PROCESS_START      1670214 non-null  int64  \n",
      " 10  FLAG_LAST_APPL_PER_CONTRACT  1670214 non-null  object \n",
      " 11  NFLAG_LAST_APPL_IN_DAY       1670214 non-null  int64  \n",
      " 12  RATE_DOWN_PAYMENT            774370 non-null   float64\n",
      " 13  RATE_INTEREST_PRIMARY        5951 non-null     float64\n",
      " 14  RATE_INTEREST_PRIVILEGED     5951 non-null     float64\n",
      " 15  NAME_CASH_LOAN_PURPOSE       1670214 non-null  object \n",
      " 16  NAME_CONTRACT_STATUS         1670214 non-null  object \n",
      " 17  DAYS_DECISION                1670214 non-null  int64  \n",
      " 18  NAME_PAYMENT_TYPE            1670214 non-null  object \n",
      " 19  CODE_REJECT_REASON           1670214 non-null  object \n",
      " 20  NAME_TYPE_SUITE              849809 non-null   object \n",
      " 21  NAME_CLIENT_TYPE             1670214 non-null  object \n",
      " 22  NAME_GOODS_CATEGORY          1670214 non-null  object \n",
      " 23  NAME_PORTFOLIO               1670214 non-null  object \n",
      " 24  NAME_PRODUCT_TYPE            1670214 non-null  object \n",
      " 25  CHANNEL_TYPE                 1670214 non-null  object \n",
      " 26  SELLERPLACE_AREA             1670214 non-null  int64  \n",
      " 27  NAME_SELLER_INDUSTRY         1670214 non-null  object \n",
      " 28  CNT_PAYMENT                  1297984 non-null  float64\n",
      " 29  NAME_YIELD_GROUP             1670214 non-null  object \n",
      " 30  PRODUCT_COMBINATION          1669868 non-null  object \n",
      " 31  DAYS_FIRST_DRAWING           997149 non-null   float64\n",
      " 32  DAYS_FIRST_DUE               997149 non-null   float64\n",
      " 33  DAYS_LAST_DUE_1ST_VERSION    997149 non-null   float64\n",
      " 34  DAYS_LAST_DUE                997149 non-null   float64\n",
      " 35  DAYS_TERMINATION             997149 non-null   float64\n",
      " 36  NFLAG_INSURED_ON_APPROVAL    997149 non-null   float64\n",
      "dtypes: float64(15), int64(6), object(16)\n",
      "memory usage: 471.5+ MB\n"
     ]
    }
   ],
   "source": [
    "previous_application_df.info()"
   ]
  },
  {
   "cell_type": "code",
   "execution_count": 30,
   "metadata": {
    "colab": {
     "base_uri": "https://localhost:8080/"
    },
    "id": "qLw4Fb8NzaXv",
    "outputId": "aee3ce8f-01af-46aa-cc99-6f1e45ddf53d"
   },
   "outputs": [
    {
     "data": {
      "text/plain": [
       "SK_ID_PREV                           0\n",
       "SK_ID_CURR                           0\n",
       "NAME_CONTRACT_TYPE                   0\n",
       "AMT_ANNUITY                     372235\n",
       "AMT_APPLICATION                      0\n",
       "AMT_CREDIT                           1\n",
       "AMT_DOWN_PAYMENT                895844\n",
       "AMT_GOODS_PRICE                 385515\n",
       "WEEKDAY_APPR_PROCESS_START           0\n",
       "HOUR_APPR_PROCESS_START              0\n",
       "FLAG_LAST_APPL_PER_CONTRACT          0\n",
       "NFLAG_LAST_APPL_IN_DAY               0\n",
       "RATE_DOWN_PAYMENT               895844\n",
       "RATE_INTEREST_PRIMARY          1664263\n",
       "RATE_INTEREST_PRIVILEGED       1664263\n",
       "NAME_CASH_LOAN_PURPOSE               0\n",
       "NAME_CONTRACT_STATUS                 0\n",
       "DAYS_DECISION                        0\n",
       "NAME_PAYMENT_TYPE                    0\n",
       "CODE_REJECT_REASON                   0\n",
       "NAME_TYPE_SUITE                 820405\n",
       "NAME_CLIENT_TYPE                     0\n",
       "NAME_GOODS_CATEGORY                  0\n",
       "NAME_PORTFOLIO                       0\n",
       "NAME_PRODUCT_TYPE                    0\n",
       "CHANNEL_TYPE                         0\n",
       "SELLERPLACE_AREA                     0\n",
       "NAME_SELLER_INDUSTRY                 0\n",
       "CNT_PAYMENT                     372230\n",
       "NAME_YIELD_GROUP                     0\n",
       "PRODUCT_COMBINATION                346\n",
       "DAYS_FIRST_DRAWING              673065\n",
       "DAYS_FIRST_DUE                  673065\n",
       "DAYS_LAST_DUE_1ST_VERSION       673065\n",
       "DAYS_LAST_DUE                   673065\n",
       "DAYS_TERMINATION                673065\n",
       "NFLAG_INSURED_ON_APPROVAL       673065\n",
       "dtype: int64"
      ]
     },
     "execution_count": 30,
     "metadata": {},
     "output_type": "execute_result"
    }
   ],
   "source": [
    "previous_application_df.isnull().sum()"
   ]
  },
  {
   "cell_type": "markdown",
   "metadata": {
    "id": "LaAeg_TU0TRz"
   },
   "source": [
    "Kita dapat melihat bahw aterdapat 11 kolom yang memiliki data yang hilang lebih dari 30% yaitu: AMT_DOWN_PAYMENT, RATE_DOWN_PAYMENT, RATE_INTEREST_PRIMARY, RATE_INTEREST_PRIVILEGED, NAME_TYPE_SUITE, DAYS_FIRST_DRAWING, DAYS_FIRST_DUE, DAYS_LAST_DUE_1ST_VERSION, DAYS_LAST_DUE, DAYS_TERMINATION, NFLAG_INSURED_ON_APPROVA dan juga ada 5 kolom yang memiliki data yang hilang kurang dari 30% yaitu: AMT_ANNUITY, AMT_CREDIT, AMT_GOODS_PRICE, CNT_PAYMENT, dan PRODUCT_COMBINATION.\n",
    "\n",
    "Kolom AMT_DOWN_PAYMENT berkaitan dengan RATE_DOWN_PAYMENT karena keduanya memiliki jumlah data hilang yang sama. Kedua data ini menunjukkan uang muka yang dibayarkan oleh pengguna. Bagaimana jika data dari kolom ini kosong? akan sangat berisiko untuk mengasumsikan nilai dari data ini, sehingga kita akan membuang baris yang memiliki data pada kedua kolom ini yang hilang.\n",
    "\n",
    "\n",
    "Kolom RATE_INTEREST_PRIMARY dan RATE_INTEREST_PRIVILEGED yang menunjukkan tingkat bunga yang dikenakan sebelumnya memiliki data hilang 1.664.263 dari total 1.670.214 data. Ini menunjukkan bahwa 99,64% data hilang. Akan sangat berisiko mengasumsikan nilai dari data ini. Maka dari itu, menimbang banyaknya jumlah data yang hilang, kita akan membersihkan data ini dengan membuang kedua kolom berkaitan.\n",
    "\n",
    "Kolom NAME_TYPE_SUITE berkaitan dengan orang yang menemani pengguna dalam mengambil kredit. Kolom tersebut memiliki sekitar 1/3 data hilang. Namun kita bisa mengisi data hilang ini dengan mengambil nilai modusnya, yaitu mengisi data hilang dengan nilai dengan jumlah kemunculan terbanyak. \n",
    "\n",
    "Lima kolom: DAYS_FIRST_DRAWING, DAYS_FIRST_DUE, DAYS_LAST_DUE_1ST_VERSION, DAYS_LAST_DUE, DAYS_TERMINATION berkaitan dengan waktu pengajuan kredit, dan kelima kolom ini memiliki jumlah data hilang yang sama. Maka dari itu, kita akan menghapus kelima kolom ini.\n",
    "\n",
    "AMT_ANNUITY, AMT_CREDIT, AMT_GOODS_PRICE, CNT_PAYMENT, dan PRODUCT_COMBINATION adalah kolom yang penting yang berpengaruh dalam analisis risiko kredit. Dikarenakan jumlah data hilangnya tidak terlalu banyak (kuran dari 30%) dan tetap berisiko jika mengisi dengan nilai statistik (mean, median, modus, interpolasi, dll) dikarenakan tidak dapat merepresentasikan data sebenarnya, maka alangkah lebih baik kita hapus baris yang memiliki data kosong.\n",
    "\n",
    "Sehingga untuk dataframe ini, kita mengambil beberapa kebijakan untuk melakukan pembersihan data kosong:\n",
    "\n",
    "- Membuang baris dengan data kosong untuk AMT_DOWN_PAYMENT, RATE_DOWN_PAYMENT, AMT_ANNUITY, AMT_CREDIT, AMT_GOODS_PRICE, CNT_PAYMENT, dan PRODUCT_COMBINATION\n",
    "- Membuang kolom DAYS_FIRST_DRAWING, DAYS_FIRST_DUE, DAYS_LAST_DUE_1ST_VERSION, DAYS_LAST_DUE, DAYS_TERMINATION, RATE_INTEREST_PRIMARY dan RATE_INTEREST_PRIVILEGED\n",
    "- Mengisi dengan modus kolom NAME_TYPE_SUITE"
   ]
  },
  {
   "cell_type": "code",
   "execution_count": 35,
   "metadata": {
    "colab": {
     "base_uri": "https://localhost:8080/",
     "height": 386
    },
    "id": "EYgA3JKCUQMj",
    "outputId": "5e31e068-f44e-48cc-bfdc-05a79fba0cd0"
   },
   "outputs": [
    {
     "ename": "KeyError",
     "evalue": "\"['DAYS_FIRST_DRAWING', 'DAYS_FIRST_DUE', 'DAYS_LAST_DUE_1ST_VERSION', 'DAYS_LAST_DUE', 'DAYS_TERMINATION', 'RATE_INTEREST_PRIMARY', 'RATE_INTEREST_PRIVILEGED'] not found in axis\"",
     "output_type": "error",
     "traceback": [
      "\u001b[1;31m---------------------------------------------------------------------------\u001b[0m",
      "\u001b[1;31mKeyError\u001b[0m                                  Traceback (most recent call last)",
      "Cell \u001b[1;32mIn[35], line 5\u001b[0m\n\u001b[0;32m      2\u001b[0m previous_application_df \u001b[38;5;241m=\u001b[39m previous_application_df\u001b[38;5;241m.\u001b[39mdropna(subset \u001b[38;5;241m=\u001b[39m [\u001b[38;5;124m'\u001b[39m\u001b[38;5;124mAMT_DOWN_PAYMENT\u001b[39m\u001b[38;5;124m'\u001b[39m, \u001b[38;5;124m'\u001b[39m\u001b[38;5;124mRATE_DOWN_PAYMENT\u001b[39m\u001b[38;5;124m'\u001b[39m, \u001b[38;5;124m'\u001b[39m\u001b[38;5;124mAMT_ANNUITY\u001b[39m\u001b[38;5;124m'\u001b[39m, \u001b[38;5;124m'\u001b[39m\u001b[38;5;124mAMT_CREDIT\u001b[39m\u001b[38;5;124m'\u001b[39m, \u001b[38;5;124m'\u001b[39m\u001b[38;5;124mAMT_GOODS_PRICE\u001b[39m\u001b[38;5;124m'\u001b[39m, \u001b[38;5;124m'\u001b[39m\u001b[38;5;124mCNT_PAYMENT\u001b[39m\u001b[38;5;124m'\u001b[39m, \u001b[38;5;124m'\u001b[39m\u001b[38;5;124mPRODUCT_COMBINATION\u001b[39m\u001b[38;5;124m'\u001b[39m])\n\u001b[0;32m      4\u001b[0m \u001b[38;5;66;03m#drop kolom DAYS_FIRST_DRAWING, DAYS_FIRST_DUE, DAYS_LAST_DUE_1ST_VERSION, DAYS_LAST_DUE, DAYS_TERMINATION, RATE_INTEREST_PRIMARY dan RATE_INTEREST_PRIVILEGED\u001b[39;00m\n\u001b[1;32m----> 5\u001b[0m previous_application_df \u001b[38;5;241m=\u001b[39m \u001b[43mprevious_application_df\u001b[49m\u001b[38;5;241;43m.\u001b[39;49m\u001b[43mdrop\u001b[49m\u001b[43m(\u001b[49m\u001b[43m[\u001b[49m\u001b[38;5;124;43m'\u001b[39;49m\u001b[38;5;124;43mDAYS_FIRST_DRAWING\u001b[39;49m\u001b[38;5;124;43m'\u001b[39;49m\u001b[43m,\u001b[49m\u001b[43m \u001b[49m\u001b[38;5;124;43m'\u001b[39;49m\u001b[38;5;124;43mDAYS_FIRST_DUE\u001b[39;49m\u001b[38;5;124;43m'\u001b[39;49m\u001b[43m,\u001b[49m\u001b[43m \u001b[49m\u001b[38;5;124;43m'\u001b[39;49m\u001b[38;5;124;43mDAYS_LAST_DUE_1ST_VERSION\u001b[39;49m\u001b[38;5;124;43m'\u001b[39;49m\u001b[43m,\u001b[49m\u001b[43m \u001b[49m\u001b[38;5;124;43m'\u001b[39;49m\u001b[38;5;124;43mDAYS_LAST_DUE\u001b[39;49m\u001b[38;5;124;43m'\u001b[39;49m\u001b[43m,\u001b[49m\u001b[43m \u001b[49m\u001b[38;5;124;43m'\u001b[39;49m\u001b[38;5;124;43mDAYS_TERMINATION\u001b[39;49m\u001b[38;5;124;43m'\u001b[39;49m\u001b[43m,\u001b[49m\u001b[43m \u001b[49m\u001b[38;5;124;43m'\u001b[39;49m\u001b[38;5;124;43mRATE_INTEREST_PRIMARY\u001b[39;49m\u001b[38;5;124;43m'\u001b[39;49m\u001b[43m,\u001b[49m\u001b[43m \u001b[49m\u001b[38;5;124;43m'\u001b[39;49m\u001b[38;5;124;43mRATE_INTEREST_PRIVILEGED\u001b[39;49m\u001b[38;5;124;43m'\u001b[39;49m\u001b[43m]\u001b[49m\u001b[43m,\u001b[49m\u001b[43m \u001b[49m\u001b[43maxis\u001b[49m\u001b[43m \u001b[49m\u001b[38;5;241;43m=\u001b[39;49m\u001b[43m \u001b[49m\u001b[38;5;241;43m1\u001b[39;49m\u001b[43m)\u001b[49m\n\u001b[0;32m      7\u001b[0m \u001b[38;5;66;03m#Isi data hilang dari NAME_TYPE_SUITE dengan nilai modus\u001b[39;00m\n\u001b[0;32m      8\u001b[0m previous_application_df[\u001b[38;5;124m'\u001b[39m\u001b[38;5;124mNAME_TYPE_SUITE\u001b[39m\u001b[38;5;124m'\u001b[39m] \u001b[38;5;241m=\u001b[39m previous_application_df[\u001b[38;5;124m'\u001b[39m\u001b[38;5;124mNAME_TYPE_SUITE\u001b[39m\u001b[38;5;124m'\u001b[39m]\u001b[38;5;241m.\u001b[39mfillna(previous_application_df[\u001b[38;5;124m'\u001b[39m\u001b[38;5;124mNAME_TYPE_SUITE\u001b[39m\u001b[38;5;124m'\u001b[39m]\u001b[38;5;241m.\u001b[39mmode()[\u001b[38;5;241m0\u001b[39m])\n",
      "File \u001b[1;32m~\\AppData\\Local\\Programs\\Python\\Python311\\Lib\\site-packages\\pandas\\util\\_decorators.py:331\u001b[0m, in \u001b[0;36mdeprecate_nonkeyword_arguments.<locals>.decorate.<locals>.wrapper\u001b[1;34m(*args, **kwargs)\u001b[0m\n\u001b[0;32m    325\u001b[0m \u001b[38;5;28;01mif\u001b[39;00m \u001b[38;5;28mlen\u001b[39m(args) \u001b[38;5;241m>\u001b[39m num_allow_args:\n\u001b[0;32m    326\u001b[0m     warnings\u001b[38;5;241m.\u001b[39mwarn(\n\u001b[0;32m    327\u001b[0m         msg\u001b[38;5;241m.\u001b[39mformat(arguments\u001b[38;5;241m=\u001b[39m_format_argument_list(allow_args)),\n\u001b[0;32m    328\u001b[0m         \u001b[38;5;167;01mFutureWarning\u001b[39;00m,\n\u001b[0;32m    329\u001b[0m         stacklevel\u001b[38;5;241m=\u001b[39mfind_stack_level(),\n\u001b[0;32m    330\u001b[0m     )\n\u001b[1;32m--> 331\u001b[0m \u001b[38;5;28;01mreturn\u001b[39;00m \u001b[43mfunc\u001b[49m\u001b[43m(\u001b[49m\u001b[38;5;241;43m*\u001b[39;49m\u001b[43margs\u001b[49m\u001b[43m,\u001b[49m\u001b[43m \u001b[49m\u001b[38;5;241;43m*\u001b[39;49m\u001b[38;5;241;43m*\u001b[39;49m\u001b[43mkwargs\u001b[49m\u001b[43m)\u001b[49m\n",
      "File \u001b[1;32m~\\AppData\\Local\\Programs\\Python\\Python311\\Lib\\site-packages\\pandas\\core\\frame.py:5399\u001b[0m, in \u001b[0;36mDataFrame.drop\u001b[1;34m(self, labels, axis, index, columns, level, inplace, errors)\u001b[0m\n\u001b[0;32m   5251\u001b[0m \u001b[38;5;129m@deprecate_nonkeyword_arguments\u001b[39m(version\u001b[38;5;241m=\u001b[39m\u001b[38;5;28;01mNone\u001b[39;00m, allowed_args\u001b[38;5;241m=\u001b[39m[\u001b[38;5;124m\"\u001b[39m\u001b[38;5;124mself\u001b[39m\u001b[38;5;124m\"\u001b[39m, \u001b[38;5;124m\"\u001b[39m\u001b[38;5;124mlabels\u001b[39m\u001b[38;5;124m\"\u001b[39m])\n\u001b[0;32m   5252\u001b[0m \u001b[38;5;28;01mdef\u001b[39;00m \u001b[38;5;21mdrop\u001b[39m(  \u001b[38;5;66;03m# type: ignore[override]\u001b[39;00m\n\u001b[0;32m   5253\u001b[0m     \u001b[38;5;28mself\u001b[39m,\n\u001b[1;32m   (...)\u001b[0m\n\u001b[0;32m   5260\u001b[0m     errors: IgnoreRaise \u001b[38;5;241m=\u001b[39m \u001b[38;5;124m\"\u001b[39m\u001b[38;5;124mraise\u001b[39m\u001b[38;5;124m\"\u001b[39m,\n\u001b[0;32m   5261\u001b[0m ) \u001b[38;5;241m-\u001b[39m\u001b[38;5;241m>\u001b[39m DataFrame \u001b[38;5;241m|\u001b[39m \u001b[38;5;28;01mNone\u001b[39;00m:\n\u001b[0;32m   5262\u001b[0m \u001b[38;5;250m    \u001b[39m\u001b[38;5;124;03m\"\"\"\u001b[39;00m\n\u001b[0;32m   5263\u001b[0m \u001b[38;5;124;03m    Drop specified labels from rows or columns.\u001b[39;00m\n\u001b[0;32m   5264\u001b[0m \n\u001b[1;32m   (...)\u001b[0m\n\u001b[0;32m   5397\u001b[0m \u001b[38;5;124;03m            weight  1.0     0.8\u001b[39;00m\n\u001b[0;32m   5398\u001b[0m \u001b[38;5;124;03m    \"\"\"\u001b[39;00m\n\u001b[1;32m-> 5399\u001b[0m     \u001b[38;5;28;01mreturn\u001b[39;00m \u001b[38;5;28;43msuper\u001b[39;49m\u001b[43m(\u001b[49m\u001b[43m)\u001b[49m\u001b[38;5;241;43m.\u001b[39;49m\u001b[43mdrop\u001b[49m\u001b[43m(\u001b[49m\n\u001b[0;32m   5400\u001b[0m \u001b[43m        \u001b[49m\u001b[43mlabels\u001b[49m\u001b[38;5;241;43m=\u001b[39;49m\u001b[43mlabels\u001b[49m\u001b[43m,\u001b[49m\n\u001b[0;32m   5401\u001b[0m \u001b[43m        \u001b[49m\u001b[43maxis\u001b[49m\u001b[38;5;241;43m=\u001b[39;49m\u001b[43maxis\u001b[49m\u001b[43m,\u001b[49m\n\u001b[0;32m   5402\u001b[0m \u001b[43m        \u001b[49m\u001b[43mindex\u001b[49m\u001b[38;5;241;43m=\u001b[39;49m\u001b[43mindex\u001b[49m\u001b[43m,\u001b[49m\n\u001b[0;32m   5403\u001b[0m \u001b[43m        \u001b[49m\u001b[43mcolumns\u001b[49m\u001b[38;5;241;43m=\u001b[39;49m\u001b[43mcolumns\u001b[49m\u001b[43m,\u001b[49m\n\u001b[0;32m   5404\u001b[0m \u001b[43m        \u001b[49m\u001b[43mlevel\u001b[49m\u001b[38;5;241;43m=\u001b[39;49m\u001b[43mlevel\u001b[49m\u001b[43m,\u001b[49m\n\u001b[0;32m   5405\u001b[0m \u001b[43m        \u001b[49m\u001b[43minplace\u001b[49m\u001b[38;5;241;43m=\u001b[39;49m\u001b[43minplace\u001b[49m\u001b[43m,\u001b[49m\n\u001b[0;32m   5406\u001b[0m \u001b[43m        \u001b[49m\u001b[43merrors\u001b[49m\u001b[38;5;241;43m=\u001b[39;49m\u001b[43merrors\u001b[49m\u001b[43m,\u001b[49m\n\u001b[0;32m   5407\u001b[0m \u001b[43m    \u001b[49m\u001b[43m)\u001b[49m\n",
      "File \u001b[1;32m~\\AppData\\Local\\Programs\\Python\\Python311\\Lib\\site-packages\\pandas\\util\\_decorators.py:331\u001b[0m, in \u001b[0;36mdeprecate_nonkeyword_arguments.<locals>.decorate.<locals>.wrapper\u001b[1;34m(*args, **kwargs)\u001b[0m\n\u001b[0;32m    325\u001b[0m \u001b[38;5;28;01mif\u001b[39;00m \u001b[38;5;28mlen\u001b[39m(args) \u001b[38;5;241m>\u001b[39m num_allow_args:\n\u001b[0;32m    326\u001b[0m     warnings\u001b[38;5;241m.\u001b[39mwarn(\n\u001b[0;32m    327\u001b[0m         msg\u001b[38;5;241m.\u001b[39mformat(arguments\u001b[38;5;241m=\u001b[39m_format_argument_list(allow_args)),\n\u001b[0;32m    328\u001b[0m         \u001b[38;5;167;01mFutureWarning\u001b[39;00m,\n\u001b[0;32m    329\u001b[0m         stacklevel\u001b[38;5;241m=\u001b[39mfind_stack_level(),\n\u001b[0;32m    330\u001b[0m     )\n\u001b[1;32m--> 331\u001b[0m \u001b[38;5;28;01mreturn\u001b[39;00m \u001b[43mfunc\u001b[49m\u001b[43m(\u001b[49m\u001b[38;5;241;43m*\u001b[39;49m\u001b[43margs\u001b[49m\u001b[43m,\u001b[49m\u001b[43m \u001b[49m\u001b[38;5;241;43m*\u001b[39;49m\u001b[38;5;241;43m*\u001b[39;49m\u001b[43mkwargs\u001b[49m\u001b[43m)\u001b[49m\n",
      "File \u001b[1;32m~\\AppData\\Local\\Programs\\Python\\Python311\\Lib\\site-packages\\pandas\\core\\generic.py:4505\u001b[0m, in \u001b[0;36mNDFrame.drop\u001b[1;34m(self, labels, axis, index, columns, level, inplace, errors)\u001b[0m\n\u001b[0;32m   4503\u001b[0m \u001b[38;5;28;01mfor\u001b[39;00m axis, labels \u001b[38;5;129;01min\u001b[39;00m axes\u001b[38;5;241m.\u001b[39mitems():\n\u001b[0;32m   4504\u001b[0m     \u001b[38;5;28;01mif\u001b[39;00m labels \u001b[38;5;129;01mis\u001b[39;00m \u001b[38;5;129;01mnot\u001b[39;00m \u001b[38;5;28;01mNone\u001b[39;00m:\n\u001b[1;32m-> 4505\u001b[0m         obj \u001b[38;5;241m=\u001b[39m \u001b[43mobj\u001b[49m\u001b[38;5;241;43m.\u001b[39;49m\u001b[43m_drop_axis\u001b[49m\u001b[43m(\u001b[49m\u001b[43mlabels\u001b[49m\u001b[43m,\u001b[49m\u001b[43m \u001b[49m\u001b[43maxis\u001b[49m\u001b[43m,\u001b[49m\u001b[43m \u001b[49m\u001b[43mlevel\u001b[49m\u001b[38;5;241;43m=\u001b[39;49m\u001b[43mlevel\u001b[49m\u001b[43m,\u001b[49m\u001b[43m \u001b[49m\u001b[43merrors\u001b[49m\u001b[38;5;241;43m=\u001b[39;49m\u001b[43merrors\u001b[49m\u001b[43m)\u001b[49m\n\u001b[0;32m   4507\u001b[0m \u001b[38;5;28;01mif\u001b[39;00m inplace:\n\u001b[0;32m   4508\u001b[0m     \u001b[38;5;28mself\u001b[39m\u001b[38;5;241m.\u001b[39m_update_inplace(obj)\n",
      "File \u001b[1;32m~\\AppData\\Local\\Programs\\Python\\Python311\\Lib\\site-packages\\pandas\\core\\generic.py:4546\u001b[0m, in \u001b[0;36mNDFrame._drop_axis\u001b[1;34m(self, labels, axis, level, errors, only_slice)\u001b[0m\n\u001b[0;32m   4544\u001b[0m         new_axis \u001b[38;5;241m=\u001b[39m axis\u001b[38;5;241m.\u001b[39mdrop(labels, level\u001b[38;5;241m=\u001b[39mlevel, errors\u001b[38;5;241m=\u001b[39merrors)\n\u001b[0;32m   4545\u001b[0m     \u001b[38;5;28;01melse\u001b[39;00m:\n\u001b[1;32m-> 4546\u001b[0m         new_axis \u001b[38;5;241m=\u001b[39m \u001b[43maxis\u001b[49m\u001b[38;5;241;43m.\u001b[39;49m\u001b[43mdrop\u001b[49m\u001b[43m(\u001b[49m\u001b[43mlabels\u001b[49m\u001b[43m,\u001b[49m\u001b[43m \u001b[49m\u001b[43merrors\u001b[49m\u001b[38;5;241;43m=\u001b[39;49m\u001b[43merrors\u001b[49m\u001b[43m)\u001b[49m\n\u001b[0;32m   4547\u001b[0m     indexer \u001b[38;5;241m=\u001b[39m axis\u001b[38;5;241m.\u001b[39mget_indexer(new_axis)\n\u001b[0;32m   4549\u001b[0m \u001b[38;5;66;03m# Case for non-unique axis\u001b[39;00m\n\u001b[0;32m   4550\u001b[0m \u001b[38;5;28;01melse\u001b[39;00m:\n",
      "File \u001b[1;32m~\\AppData\\Local\\Programs\\Python\\Python311\\Lib\\site-packages\\pandas\\core\\indexes\\base.py:6934\u001b[0m, in \u001b[0;36mIndex.drop\u001b[1;34m(self, labels, errors)\u001b[0m\n\u001b[0;32m   6932\u001b[0m \u001b[38;5;28;01mif\u001b[39;00m mask\u001b[38;5;241m.\u001b[39many():\n\u001b[0;32m   6933\u001b[0m     \u001b[38;5;28;01mif\u001b[39;00m errors \u001b[38;5;241m!=\u001b[39m \u001b[38;5;124m\"\u001b[39m\u001b[38;5;124mignore\u001b[39m\u001b[38;5;124m\"\u001b[39m:\n\u001b[1;32m-> 6934\u001b[0m         \u001b[38;5;28;01mraise\u001b[39;00m \u001b[38;5;167;01mKeyError\u001b[39;00m(\u001b[38;5;124mf\u001b[39m\u001b[38;5;124m\"\u001b[39m\u001b[38;5;132;01m{\u001b[39;00m\u001b[38;5;28mlist\u001b[39m(labels[mask])\u001b[38;5;132;01m}\u001b[39;00m\u001b[38;5;124m not found in axis\u001b[39m\u001b[38;5;124m\"\u001b[39m)\n\u001b[0;32m   6935\u001b[0m     indexer \u001b[38;5;241m=\u001b[39m indexer[\u001b[38;5;241m~\u001b[39mmask]\n\u001b[0;32m   6936\u001b[0m \u001b[38;5;28;01mreturn\u001b[39;00m \u001b[38;5;28mself\u001b[39m\u001b[38;5;241m.\u001b[39mdelete(indexer)\n",
      "\u001b[1;31mKeyError\u001b[0m: \"['DAYS_FIRST_DRAWING', 'DAYS_FIRST_DUE', 'DAYS_LAST_DUE_1ST_VERSION', 'DAYS_LAST_DUE', 'DAYS_TERMINATION', 'RATE_INTEREST_PRIMARY', 'RATE_INTEREST_PRIVILEGED'] not found in axis\""
     ]
    }
   ],
   "source": [
    "#Membuang baris dengan data kosong untuk AMT_DOWN_PAYMENT, RATE_DOWN_PAYMENT, AMT_ANNUITY, AMT_CREDIT, AMT_GOODS_PRICE, CNT_PAYMENT, dan PRODUCT_COMBINATION\n",
    "previous_application_df = previous_application_df.dropna(subset = ['AMT_DOWN_PAYMENT', 'RATE_DOWN_PAYMENT', 'AMT_ANNUITY', 'AMT_CREDIT', 'AMT_GOODS_PRICE', 'CNT_PAYMENT', 'PRODUCT_COMBINATION'])\n",
    "\n",
    "#drop kolom DAYS_FIRST_DRAWING, DAYS_FIRST_DUE, DAYS_LAST_DUE_1ST_VERSION, DAYS_LAST_DUE, DAYS_TERMINATION, RATE_INTEREST_PRIMARY dan RATE_INTEREST_PRIVILEGED\n",
    "previous_application_df = previous_application_df.drop(['DAYS_FIRST_DRAWING', 'DAYS_FIRST_DUE', 'DAYS_LAST_DUE_1ST_VERSION', 'DAYS_LAST_DUE', 'DAYS_TERMINATION', 'RATE_INTEREST_PRIMARY', 'RATE_INTEREST_PRIVILEGED'], axis = 1)\n",
    "\n",
    "#Isi data hilang dari NAME_TYPE_SUITE dengan nilai modus\n",
    "previous_application_df['NAME_TYPE_SUITE'] = previous_application_df['NAME_TYPE_SUITE'].fillna(previous_application_df['NAME_TYPE_SUITE'].mode()[0])\n",
    "\n",
    "previous_application_df.sample(5)\n"
   ]
  },
  {
   "cell_type": "markdown",
   "metadata": {
    "id": "WbExE2pZWruT"
   },
   "source": [
    "## Menangani Data Duplikat\n",
    "---"
   ]
  },
  {
   "cell_type": "code",
   "execution_count": 34,
   "metadata": {
    "colab": {
     "base_uri": "https://localhost:8080/"
    },
    "id": "38tL6jgGTJJn",
    "outputId": "d3769d61-1de3-4043-849d-8ff8d59b4cd6"
   },
   "outputs": [
    {
     "name": "stdout",
     "output_type": "stream",
     "text": [
      "Jumlah data duplikat pada bureau_df:  0\n",
      "Jumlah data duplikat pada bureau_balance_df:  0\n",
      "Jumlah data duplikat pada credit_card_balance_df:  0\n",
      "Jumlah data duplikat pada installments_payments_df:  0\n",
      "Jumlah data duplikat pada cash_balance_df:  0\n",
      "Jumlah data duplikat pada previous_application_df:  0\n",
      "Jumlah data duplikat pada application_train_df:  0\n",
      "Jumlah data duplikat pada application_test_df:  0\n"
     ]
    }
   ],
   "source": [
    "# Cek jumlah data duplikat pada setiap dataframe\n",
    "print(\"Jumlah data duplikat pada bureau_df: \", bureau_df.duplicated().sum())\n",
    "print(\"Jumlah data duplikat pada bureau_balance_df: \", bureau_balance_df.duplicated().sum())\n",
    "print(\"Jumlah data duplikat pada credit_card_balance_df: \", credit_card_balance_df.duplicated().sum())\n",
    "print(\"Jumlah data duplikat pada installments_payments_df: \", installments_payments_df.duplicated().sum())\n",
    "print(\"Jumlah data duplikat pada cash_balance_df: \", cash_balance_df.duplicated().sum())\n",
    "print(\"Jumlah data duplikat pada previous_application_df: \", previous_application_df.duplicated().sum())\n",
    "print(\"Jumlah data duplikat pada application_train_df: \", application_train_df.duplicated().sum())\n",
    "print(\"Jumlah data duplikat pada application_test_df: \", application_test_df.duplicated().sum())"
   ]
  },
  {
   "cell_type": "markdown",
   "metadata": {
    "id": "PPsryXjamldx"
   },
   "source": [
    "Kita bisa melihat bahwa semua dataframe tidak memiliki data duplikasi, sehingga kita dapat melewati langkah ini."
   ]
  },
  {
   "cell_type": "markdown",
   "metadata": {
    "id": "vo989r9PokHL"
   },
   "source": [
    "# Eksplorasi Data\n",
    "---"
   ]
  },
  {
   "cell_type": "markdown",
   "metadata": {
    "id": "Sa0sm3_bolXs"
   },
   "source": [
    "## Bureau\n",
    "---\n",
    "File bureau.csv berisi riwayat kredit yang diberikan oleh lembaga keuangan lain yang dilaporkan ke Credit Bureau. Setiap pengajuan pinjaman yang ada dalam sampel perusahaan kita, terdapat beberapa baris dalam file ini yang menggambarkan jumlah kredit yang dimiliki klien dalam Credit Bureau sebelum tanggal pengajuan.\n",
    "\n",
    "Dalam bagian ini, kita akan mengeksplorasi file ini yang telah kita ubah menjadi pandas dataframe dan mencari informasi apa yang terkandung dalam data."
   ]
  },
  {
   "cell_type": "code",
   "execution_count": null,
   "metadata": {
    "colab": {
     "base_uri": "https://localhost:8080/"
    },
    "id": "YY0tX3hnon8F",
    "outputId": "55cc2dae-18ef-449c-bb66-af68b1a4025a"
   },
   "outputs": [],
   "source": [
    "bureau_df.info()"
   ]
  },
  {
   "cell_type": "code",
   "execution_count": null,
   "metadata": {
    "colab": {
     "base_uri": "https://localhost:8080/",
     "height": 364
    },
    "id": "IRN5rOnHTvgv",
    "outputId": "2acf0877-b034-4fb6-85e9-75cf7ebcbe4e"
   },
   "outputs": [],
   "source": [
    "bureau_df.describe()"
   ]
  },
  {
   "cell_type": "code",
   "execution_count": null,
   "metadata": {
    "colab": {
     "base_uri": "https://localhost:8080/",
     "height": 175
    },
    "id": "pW58e7oIUbE6",
    "outputId": "7ae552bd-65f1-4d2d-dcf2-11511fc2b4bf"
   },
   "outputs": [],
   "source": [
    "bureau_df.describe(include=['O'])\n"
   ]
  },
  {
   "cell_type": "markdown",
   "metadata": {
    "id": "oM6vc90BwD2P"
   },
   "source": [
    "Kita akan membuat plot pie yang mengukur jumlah tipe dari kolom CREDIT_ACTIVE dan melihat persebaran datanya"
   ]
  },
  {
   "cell_type": "code",
   "execution_count": null,
   "metadata": {
    "colab": {
     "base_uri": "https://localhost:8080/",
     "height": 542
    },
    "id": "46qfsC8tVjsF",
    "outputId": "51a9782e-0662-4330-987f-48d0537ff046"
   },
   "outputs": [],
   "source": [
    "# Mengelompokkan data berdasarkan tipe unik CREDIT_ACTIVE\n",
    "credit_active_counts = bureau_df['CREDIT_ACTIVE'].value_counts()\n",
    "\n",
    "# Membuat plot pie interaktif \n",
    "fig = px.pie(credit_active_counts, values='CREDIT_ACTIVE', names=credit_active_counts.index)\n",
    "\n",
    "# Memberikan judul\n",
    "fig.update_layout(title='Credit Active Status')\n",
    "fig.show()"
   ]
  },
  {
   "cell_type": "markdown",
   "metadata": {
    "id": "LWPACIwzAqT1"
   },
   "source": [
    "Kita bisa melihat bahwa 62,9% atau 1.079.273 dari kredit telah ditutup, sedangkan 36,7% atau 630.607 kredit sedang aktif. Minoritas, sebesar 0,38% atau 6527 kredit telh dijual ke kreditur lain dan 0,00122% atau 21 kredit telah melewati batas jatuh tempo dan akan sangat sulit untuk dilunasi. "
   ]
  },
  {
   "cell_type": "code",
   "execution_count": null,
   "metadata": {
    "colab": {
     "base_uri": "https://localhost:8080/",
     "height": 542
    },
    "id": "CYP9uNuC0G8n",
    "outputId": "78760ca6-e32b-45c5-f952-bf1e3cb647d4"
   },
   "outputs": [],
   "source": [
    "grouped_mean = bureau_df.groupby('CREDIT_ACTIVE')['AMT_CREDIT_SUM'].mean().reset_index()\n",
    "\n",
    "fig = px.bar(bureau_df, x=grouped_mean['CREDIT_ACTIVE'], y=grouped_mean['AMT_CREDIT_SUM'], color=grouped_mean['CREDIT_ACTIVE'])\n",
    "\n",
    "# Update the layout\n",
    "fig.update_layout(title='Credit Active vs. AMT Credit Sum', xaxis_title='Credit Active', yaxis_title='AMT Credit Sum')\n",
    "\n",
    "# Show the figure\n",
    "fig.show()"
   ]
  },
  {
   "cell_type": "markdown",
   "metadata": {
    "id": "emozdJU51KJl"
   },
   "source": [
    "Kita juga bisa melihat bahkan secara jumlah kredit rata-rata untuk yang gagal bayar berjumlah sedikit, yaitu 149.6275k sedangkan rata-rata jumlah kredit terbesar adalah yang terjual yaitu sebesar 1.08 M.\n"
   ]
  },
  {
   "cell_type": "markdown",
   "metadata": {
    "id": "DAaWlBqvhDYM"
   },
   "source": [
    "Selanjutnya, kita juga akan melihat jumlah hutang yang aktif terhadap waktu relatif terhadap hari ini. "
   ]
  },
  {
   "cell_type": "code",
   "execution_count": null,
   "metadata": {
    "colab": {
     "base_uri": "https://localhost:8080/",
     "height": 542
    },
    "id": "2JLLypTASoSX",
    "outputId": "8761a322-302f-4958-eebc-41b8a65a2caa"
   },
   "outputs": [],
   "source": [
    "# filter data hanya untuk kredit yang aktif\n",
    "active_credit = bureau_df[bureau_df[\"CREDIT_ACTIVE\"] == \"Active\"]\n",
    "\n",
    "# group data berdasarkan tanggal pengajuan kredit dan jumlah hutang\n",
    "debt_by_date = active_credit.groupby(\"DAYS_CREDIT\")[\"AMT_CREDIT_SUM_DEBT\"].sum().reset_index()\n",
    "\n",
    "# membuat line plot\n",
    "fig = px.line(debt_by_date, x=\"DAYS_CREDIT\", y=\"AMT_CREDIT_SUM_DEBT\", title=\"Perubahan Jumlah Hutang Saat Ini Seiring Waktu\")\n",
    "fig.update_layout(xaxis_title=\"Tanggal Pengajuan Kredit\", yaxis_title=\"Jumlah Hutang Saat Ini\")\n",
    "fig.show()"
   ]
  },
  {
   "cell_type": "markdown",
   "metadata": {
    "id": "P8wQrMHpiEAe"
   },
   "source": [
    "Terlihat bahwa dari 2922 hari lalu hingga 182 hari lalu jumlah kredit aktif meningkat dengan jumlah kredit maksimum adalah pada 182 hari lalu dengan jumlah kredit 437 juta. Peningkatan jumlah kredit akan memberikan keuntungan melalui bunga yang harus dibayarkan oleh pengguna. Namun, dalam 182 hari belakangan, tren mulai berubah sehingga jumlah kredit mulai berkurang. Ini akan memberikan efek jumlah bunga yang harus dibayar pun berkurang dan memengaruhi keuntungan perusahaan. Faktor-faktor yang memengaruhi perubahan drastis ini harus diteliti lebih lanjut."
   ]
  },
  {
   "cell_type": "markdown",
   "metadata": {},
   "source": [
    "Sekarang kita akan melihat jumlah kredit berdasarkan currency yang digunakan."
   ]
  },
  {
   "cell_type": "code",
   "execution_count": null,
   "metadata": {},
   "outputs": [],
   "source": [
    "# Count number of observations per currency\n",
    "currency_counts = bureau_df['CREDIT_CURRENCY'].value_counts()\n",
    "\n",
    "# Create donut chart\n",
    "fig = px.pie(names=currency_counts.index, values=currency_counts.values,\n",
    "             hole=0.6, color=currency_counts.index)\n",
    "\n",
    "# Customize layout\n",
    "fig.update_layout(title='Jumlah Kredit Berdasarkan Currency',\n",
    "                  legend_title='Currency',\n",
    "                  margin=dict(l=50, r=50, t=50, b=50))\n",
    "\n",
    "# Show plot\n",
    "fig.show()"
   ]
  },
  {
   "cell_type": "markdown",
   "metadata": {},
   "source": [
    "Kita bisa melihat bahwa mayoritas (99%/1714020) kredit menggunakan currency 1, sedangkan hanya 0,0713% kredit menggunakan curency 2 dan minoritas menggunakan currency 3 dan 4. Artinya, alangkah lebih baik memfokuskan peminjaman dengan menggunakan currency 1 saja ketimbang membuang fokus atau mencadangkan untuk currency 2,3, atau 4. Selain itu, Hal ini karena currency 1 memiliki frekuensi penggunaan yang jauh lebih tinggi dibandingkan currency 2, 3, dan 4 sehingga risiko kredit macet dapat diminimalisir. Namun, perusahaan juga dapat menganalisis lebih lanjut terkait karakteristik nasabah yang memperoleh kredit menggunakan currency 2, 3, dan 4. Mungkin ada faktor yang mempengaruhi frekuensi penggunaan currency tertentu, seperti lokasi, industri, atau profil risiko pengguna. Dengan melakukan analisis ini, perusahaan dapat menentukan apakah sebaiknya fokus pada currency 1 atau memberikan pengecualian pada pengguna dengan karakteristik tertentu yang memerlukan penggunaan currency lainnya."
   ]
  },
  {
   "cell_type": "code",
   "execution_count": null,
   "metadata": {
    "scrolled": false
   },
   "outputs": [],
   "source": [
    "fig = px.histogram(data_frame=bureau_df, x=\"CNT_CREDIT_PROLONG\", color=\"CREDIT_CURRENCY\", nbins=20, histfunc=\"count\", marginal=\"box\", barmode=\"overlay\")\n",
    "\n",
    "fig.update_layout(\n",
    "    title=\"Distribusi jumlah kali perpanjangan kredit (CNT_CREDIT_PROLONG) dengan pembeda CREDIT_CURRENCY\",\n",
    "    xaxis_title=\"Jumlah kali perpanjangan kredit\",\n",
    "    yaxis_title=\"Jumlah aplikasi\",\n",
    "    bargap=0.1,\n",
    "    bargroupgap=0.1,\n",
    "    font=dict(size=12),\n",
    "    showlegend=True,\n",
    "    legend_title=\"Mata uang\",\n",
    ")\n",
    "\n",
    "fig.show()"
   ]
  },
  {
   "cell_type": "code",
   "execution_count": null,
   "metadata": {
    "scrolled": true
   },
   "outputs": [],
   "source": [
    "# Create pivot table\n",
    "table = pd.pivot_table(bureau_df, values='SK_ID_CURR', index=['CREDIT_CURRENCY'],\n",
    "                       columns=['CNT_CREDIT_PROLONG'], aggfunc='count', fill_value=0)\n",
    "\n",
    "# Rename columns\n",
    "table.columns = [f'{col}_TIMES_CREDIT_PROLONG' for col in table.columns]\n",
    "\n",
    "# Display table\n",
    "table"
   ]
  },
  {
   "cell_type": "markdown",
   "metadata": {},
   "source": [
    "Kita bisa melihat bahwa kebanyakan kredit telah dibayar tepat waktu dan kebanyakan kredit dipinjam dengan menggunakan currency 1. Sebanyak 1.7 M kredit dengan currency 1, 1219 kredit tidak diperpanjang dengan currency 2, 174 kredit tidak diperpanjang dengan currency 3 dan "
   ]
  },
  {
   "cell_type": "markdown",
   "metadata": {},
   "source": [
    "## Bureau Balance"
   ]
  },
  {
   "cell_type": "code",
   "execution_count": null,
   "metadata": {
    "scrolled": true
   },
   "outputs": [],
   "source": [
    "bureau_balance_df.info()"
   ]
  },
  {
   "cell_type": "code",
   "execution_count": null,
   "metadata": {},
   "outputs": [],
   "source": [
    "bureau_balance_df.describe()"
   ]
  },
  {
   "cell_type": "code",
   "execution_count": null,
   "metadata": {
    "scrolled": true
   },
   "outputs": [],
   "source": [
    "bureau_balance_df.describe(include=['O'])\n"
   ]
  },
  {
   "cell_type": "markdown",
   "metadata": {},
   "source": [
    "Selanjutnya kita akan mencari tahu adanya tren naik atau turun dalam jumlah kredit yang aktif selama beberapa waktu kebelakang untuk setiap SK_ID_BUREAU yang berbeda. Ini akan menunjukkan s"
   ]
  },
  {
   "cell_type": "code",
   "execution_count": null,
   "metadata": {},
   "outputs": [],
   "source": [
    "# Create stacked bar chart\n",
    "fig = px.bar(bureau_balance_df, x='MONTHS_BALANCE', color='STATUS', barmode='stack')\n",
    "\n",
    "# Add labels and title\n",
    "fig.update_layout(\n",
    "    title='Proporsi Status Pembayaran Kredit Nasabah pada Setiap Bulan',\n",
    "    xaxis_title='Bulan (relatif terhadap tanggal aplikasi)',\n",
    "    yaxis_title='Jumlah Kasus'\n",
    ")\n",
    "\n",
    "# Show plot\n",
    "fig.show()"
   ]
  },
  {
   "cell_type": "markdown",
   "metadata": {},
   "source": [
    " Kita bisa melihat bahwa pada "
   ]
  },
  {
   "cell_type": "code",
   "execution_count": null,
   "metadata": {
    "scrolled": false
   },
   "outputs": [],
   "source": [
    "# Convert STATUS column to categorical type for proper sorting\n",
    "bureau_balance_df[\"STATUS\"] = pd.Categorical(bureau_balance_df[\"STATUS\"], \n",
    "                              categories=['C', 'X', '0', '1', '2', '3', '4', '5'], \n",
    "                              ordered=True)\n",
    "\n",
    "# Calculate percentage of each STATUS for each month\n",
    "df_pct = bureau_balance_df.groupby([\"MONTHS_BALANCE\", \"STATUS\"])[\"STATUS\"].count().reset_index(name=\"COUNT\")\n",
    "df_pct[\"PERCENTAGE\"] = df_pct[\"COUNT\"] / df_pct.groupby(\"MONTHS_BALANCE\")[\"COUNT\"].transform(\"sum\") * 100\n",
    "\n",
    "# Create plot\n",
    "fig = px.line(df_pct, x=\"MONTHS_BALANCE\", y=\"PERCENTAGE\", color=\"STATUS\",\n",
    "              title=\"Trend Status Pembayaran Kredit Nasabah\")\n",
    "\n",
    "# Show plot\n",
    "fig.show()"
   ]
  },
  {
   "cell_type": "markdown",
   "metadata": {},
   "source": [
    "Kita bisa melihat bahwa dalam 100 bulan terakhir, kredit yang ditutup mengalami kenaikan dalam persentase dari 21,1973% menjadi 56,57% dari keseluruhan hutang nasabah. Ini berarti bahwa nasabah telah membayar kewajiban kreditnya dengan baik lebih cenderung untuk memenuhi kewajiban kredit di masa depan. Namun, kita juga bisa melihat bahwa status kredit 'No DPD' yang menunjukkan bahwa nasabah telah membayar angsuran sesuai jadwal pembayaran dan tidak ada keterlambatan pembayaran mengalami penurunan persentase dalam 100 bulan terakhir. Hal ini bisa menjadi indikasi bahwa nasabah mulai mengalami kesulitan dalam membayar kredit mereka tepat waktu, atau bahkan mengalami keterlambatan pembayaran dan perusahaan perlu untuk meninjau dan mencari tahu alasan yang menyebabkan para nasabah mengalami kesulitan pembayaran dan ini juga menjadi peringatan untuk menolak aplikasi kredit baru dari nasabah. Kita bisa melihat bahwa dalam 100 bulan ke belakang, status kredit unknown menurun, maka hal tersebut bisa diartikan bahwa pengelolaan data kreditur terhadap nasabah telah membaik. Status kredit unknown dapat terjadi jika terdapat kesalahan atau kekurangan informasi dari kreditur terkait status kredit nasabah, misalnya jika kreditur tidak memperbarui informasi kredit nasabah secara berkala atau terdapat permasalahan teknis dalam sistem pengelolaan data kreditur. Ini menunjukkan bahwa kreditur telah meningkatkan efektivitas pengelolaan data kredit nasabah dan memperbarui informasi secara berkala sehingga status kredit nasabah menjadi lebih terdokumentasi dan terpercaya."
   ]
  },
  {
   "cell_type": "code",
   "execution_count": null,
   "metadata": {},
   "outputs": [],
   "source": [
    "# Create stacked bar chart\n",
    "fig = px.bar(bureau_balance_df, x='MONTHS_BALANCE', color='STATUS', barmode='stack')\n",
    "\n",
    "# Add labels and title\n",
    "fig.update_layout(\n",
    "    title='Proporsi Status Pembayaran Kredit Nasabah pada Setiap Bulan',\n",
    "    xaxis_title='Bulan (relatif terhadap tanggal aplikasi)',\n",
    "    yaxis_title='Jumlah Kasus'\n",
    ")\n",
    "\n",
    "# Show plot\n",
    "fig.show()"
   ]
  },
  {
   "cell_type": "markdown",
   "metadata": {},
   "source": [
    "##Installment Payments"
   ]
  },
  {
   "cell_type": "code",
   "execution_count": null,
   "id": "225eb26e",
   "metadata": {
    "scrolled": true
   },
   "outputs": [],
   "source": [
    "installments_payments_df.info()"
   ]
  },
  {
   "cell_type": "code",
   "execution_count": null,
   "id": "018de9c9",
   "metadata": {
    "scrolled": true
   },
   "outputs": [],
   "source": [
    "installments_payments_df.describe()"
   ]
  },
  {
   "cell_type": "markdown",
   "id": "cb640425",
   "metadata": {},
   "source": [
    "kita dapat melihat seberapa banyak pelanggan yang membayar semua installment yang telah ditetapkan, seberapa banyak yang membayar sebagian, dan seberapa banyak yang tidak membayar sama sekali dengan membuat distribusi jumlah installment yang dibayar oleh pelanggan pada kredit sebelumnya."
   ]
  },
  {
   "cell_type": "code",
   "execution_count": null,
   "id": "7889a7f7",
   "metadata": {},
   "outputs": [],
   "source": [
    "# plot histogram of NUM_INSTALMENT_NUMBER\n",
    "plt.hist(installments_payments_df['NUM_INSTALMENT_NUMBER'], bins=30)\n",
    "plt.xlabel('Number of Installments Paid')\n",
    "plt.ylabel('Count')\n",
    "plt.title('Distribution of Number of Installments Paid by Customer')\n",
    "plt.show()"
   ]
  },
  {
   "cell_type": "markdown",
   "id": "8df65de3",
   "metadata": {},
   "source": [
    "Dari grafik diatas, kita dapat melihat semakin banyak installments yang telah dibayarkan, semakin sedikit pula jumlah kredit yang memiliki jumlah installments tersebut. Hal ini dapat mengindikasikan bahwa semakin besar jumlah installments yang harus dibayar, semakin sulit bagi pelanggan untuk membayar tepat waktu dan dalam jumlah yang benar, sehingga semakin sedikit kredit yang berhasil melunasi semua installments yang ditetapkan. Ini juga dapat menjadi pertimbangan bagi perusahaan untuk menentukan jumlah installments yang ditetapkan pada kredit yang diberikan kepada pelanggan."
   ]
  },
  {
   "cell_type": "markdown",
   "id": "794f38ba",
   "metadata": {},
   "source": [
    "Kita akan melihat apakah ada korelasi antara jumlah yang harus dibayar dengan jumlah yang sebenarnya dibayarkan oleh pelanggan."
   ]
  },
  {
   "cell_type": "code",
   "execution_count": null,
   "id": "227fc5e2",
   "metadata": {
    "scrolled": true
   },
   "outputs": [],
   "source": [
    "\n",
    "# Mengambil subset data yang hanya terdiri dari variabel AMT_INSTALMENT dan AMT_PAYMENT\n",
    "subset = installments_payments_df[['AMT_INSTALMENT', 'AMT_PAYMENT']]\n",
    "\n",
    "# Menghitung korelasi antara variabel AMT_INSTALMENT dan AMT_PAYMENT\n",
    "corr = subset.corr()\n",
    "\n",
    "# Menampilkan heatmap korelasi\n",
    "sns.heatmap(corr, annot=True, cmap='coolwarm')\n",
    "plt.title('b')\n",
    "plt.show()"
   ]
  },
  {
   "cell_type": "markdown",
   "id": "9ba01c92",
   "metadata": {},
   "source": [
    "Korelasi antara AMT_INSTALMENT dan AMT_PAYMENT sebesar 0,94 menunjukkan adanya hubungan positif yang kuat antara jumlah yang harus dibayar dan jumlah yang sebenarnya dibayarkan oleh klien. Artinya, semakin besar jumlah yang harus dibayar, semakin besar pula kemungkinan bahwa jumlah yang dibayarkan oleh klien akan sama besar atau mendekati jumlah yang harus dibayar. Dengan mengetahui adanya hubungan yang kuat antara jumlah yang harus dibayar dan jumlah yang sebenarnya dibayarkan, perusahaan dapat memantau pola pembayaran klien dan memperkirakan kemungkinan pembayaran yang kurang tepat waktu atau bahkan macet. Selain itu, dengan mengetahui korelasi ini, perusahaan dapat meningkatkan strategi pengambilan keputusan kredit yang lebih efektif dan efisien."
   ]
  },
  {
   "cell_type": "code",
   "execution_count": null,
   "id": "337d0bf2",
   "metadata": {},
   "outputs": [],
   "source": [
    "plt.scatter(installments_payments_df['NUM_INSTALMENT_NUMBER'], installments_payments_df['AMT_PAYMENT'])\n",
    "plt.xlabel('Number of Installments')\n",
    "plt.ylabel('Amount Paid')\n",
    "plt.title('Relationship between Number of Installments and Amount Paid')\n",
    "plt.show()"
   ]
  },
  {
   "cell_type": "markdown",
   "id": "eb236e65",
   "metadata": {},
   "source": [
    "Kita dapat melihat bahwa grafik tersebut dapat diartikan bahwa terdapat korelasi negatif antara jumlah installment dan jumlah yang sebenarnya dibayarkan oleh pelanggan. Artinya, semakin besar jumlah installment, semakin kecil jumlah yang sebenarnya dibayarkan oleh pelanggan. Hal ini dapat menjadi indikasi bahwa pelanggan mengalami kesulitan dalam membayar installment pada kredit sebelumnya, sehingga semakin lama waktu berlalu semakin banyak installment yang tidak terbayar atau hanya terbayar sebagian. Kemungkinan lain adalah terdapat masalah pada sistem pembayaran, seperti kesalahan dalam penghitungan jumlah yang harus dibayarkan atau jatuh tempo pembayaran yang tidak sesuai dengan kemampuan pelanggan."
   ]
  },
  {
   "cell_type": "code",
   "execution_count": null,
   "id": "73e7a33b",
   "metadata": {},
   "outputs": [],
   "source": [
    "installments_payments_df['DAYS_ENTRY_PAYMENT'].unique()"
   ]
  },
  {
   "cell_type": "code",
   "execution_count": null,
   "id": "8f79b278",
   "metadata": {},
   "outputs": [],
   "source": [
    "# Create a histogram of the DAYS_ENTRY_PAYMENT column\n",
    "plt.hist(installments_payments_df['DAYS_ENTRY_PAYMENT'], bins=50)\n",
    "\n",
    "# Set the x-axis label to \"Days Entry Payment\"\n",
    "plt.xlabel('Days Entry Payment')\n",
    "\n",
    "# Set the y-axis label to \"Count\"\n",
    "plt.ylabel('Count')\n",
    "\n",
    "# Set the title to \"Distribution of Days Entry Payment\"\n",
    "plt.title('Distribution of Days Entry Payment')\n",
    "\n",
    "# Display the plot\n",
    "plt.show()"
   ]
  },
  {
   "cell_type": "markdown",
   "id": "9aac9e8c",
   "metadata": {},
   "source": [
    "Kita dapat melihat bahwa terdapat kenaikan jumlah pembayaran untuk setiap tahun. Jika grafik histogram menunjukkan kenaikan pada tahun-tahun tertentu, itu berarti pada tahun-tahun tersebut terjadi peningkatan pembayaran cicilan yang dilakukan oleh pelanggan. Artinya, pelanggan mungkin lebih rajin dalam membayar cicilan pada tahun-tahun tersebut, atau mungkin terjadi peningkatan pendapatan sehingga pelanggan lebih mudah untuk melakukan pembayaran tepat waktu. "
   ]
  },
  {
   "cell_type": "markdown",
   "metadata": {},
   "source": [
    "## Credit Card Balance"
   ]
  },
  {
   "cell_type": "code",
   "execution_count": null,
   "metadata": {
    "scrolled": false
   },
   "outputs": [],
   "source": [
    "credit_card_balance_df.info()"
   ]
  },
  {
   "cell_type": "code",
   "execution_count": null,
   "metadata": {},
   "outputs": [],
   "source": [
    "credit_card_balance_df.describe()"
   ]
  },
  {
   "cell_type": "code",
   "execution_count": null,
   "metadata": {
    "scrolled": true
   },
   "outputs": [],
   "source": [
    "credit_card_balance_df.describe(include=['O'])"
   ]
  },
  {
   "cell_type": "code",
   "execution_count": null,
   "metadata": {
    "scrolled": true
   },
   "outputs": [],
   "source": [
    "cols = ['MONTHS_BALANCE', 'AMT_DRAWINGS_ATM_CURRENT', 'AMT_DRAWINGS_CURRENT', 'AMT_DRAWINGS_OTHER_CURRENT', 'AMT_DRAWINGS_POS_CURRENT']\n",
    "df = credit_card_balance_df[cols]\n",
    "\n",
    "# Group the data by months balance and sum the values\n",
    "df = df.groupby(['MONTHS_BALANCE']).sum()\n",
    "\n",
    "# Create the line plot\n",
    "fig, ax = plt.subplots(figsize=(12,6))\n",
    "ax.plot(df.index, df['AMT_DRAWINGS_ATM_CURRENT'], label='ATM', linewidth=2)\n",
    "ax.plot(df.index, df['AMT_DRAWINGS_CURRENT'], label='Current', linewidth=2)\n",
    "ax.plot(df.index, df['AMT_DRAWINGS_OTHER_CURRENT'], label='Other', linewidth=2)\n",
    "ax.plot(df.index, df['AMT_DRAWINGS_POS_CURRENT'], label='POS', linewidth=2)\n",
    "\n",
    "# Set the axis labels and title\n",
    "ax.set_xlabel('Months Balance')\n",
    "ax.set_ylabel('Total Amount')\n",
    "ax.set_title('Perkembangan Jumlah Penarikan Tunai dari Waktu ke Waktu', fontsize=16)\n",
    "\n",
    "# Set the legend\n",
    "ax.legend(loc='best')\n",
    "\n",
    "# Show the plot\n",
    "plt.show()"
   ]
  },
  {
   "cell_type": "markdown",
   "metadata": {},
   "source": [
    "Kita bisa melihat bahwa nasabah lebih sering melakukan penarikan tunai dengan menggunakan kartu kredit di tempat-tempat yang menerima pembayaran dengan kartu kredit (current), diikuti oleh ATM dan POS yang lebih umum digunakan untuk penarikan tunai, dan yang terakhir adalah Other yang mungkin mencakup jenis penarikan tunai lainnya seperti cek. Tingginya penarikan tunai dapat menjadi tanda bahwa nasabah mengalami kesulitan keuangan atau memiliki masalah likuiditas, yang dapat menjadi indikasi risiko kredit yang lebih tinggi bagi kreditur.\n",
    "\n",
    "Kita juga bisa melihat bahwa pada beberapa bulan terakhir jumlah penarikan tunai berkurang. Hal ini dapat menunjukkan bahwa nasabah mulai mengelola keuangan mereka dengan lebih hati-hati atau mungkin ada faktor ekonomi atau sosial yang mempengaruhi kebiasaan pengeluaran dan pembelian nasabah. Namun, hal ini perlu dianalisis lebih lanjut untuk menentukan apakah perubahan ini berdampak positif atau negatif bagi perusahaan."
   ]
  },
  {
   "cell_type": "code",
   "execution_count": null,
   "metadata": {
    "scrolled": false
   },
   "outputs": [],
   "source": [
    "\n",
    "# Filter data to include only AMT_DRAWINGS_ATM_CURRENT and AMT_DRAWINGS_POS_CURRENT\n",
    "cols_to_plot = ['NAME_CONTRACT_STATUS', 'AMT_DRAWINGS_ATM_CURRENT', 'AMT_DRAWINGS_POS_CURRENT']\n",
    "data_to_plot = credit_card_balance_df[cols_to_plot]\n",
    "\n",
    "# Calculate total amount of each type of transaction by contract status\n",
    "grouped_data = data_to_plot.groupby('NAME_CONTRACT_STATUS').sum().reset_index()\n",
    "\n",
    "# Melt data to long format for plotting\n",
    "melted_data = pd.melt(grouped_data, id_vars='NAME_CONTRACT_STATUS', var_name='Transaction Type', value_name='Total Amount')\n",
    "\n",
    "# Plot stacked bar chart\n",
    "sns.set(style='whitegrid')\n",
    "plt.figure(figsize=(10,6))\n",
    "sns.barplot(x='NAME_CONTRACT_STATUS', y='Total Amount', hue='Transaction Type', data=melted_data)\n",
    "plt.title('Distribution of Cash Withdrawals and Purchases by Contract Status')\n",
    "plt.xlabel('Contract Status')\n",
    "plt.ylabel('Total Amount')\n",
    "plt.show()\n"
   ]
  },
  {
   "cell_type": "code",
   "execution_count": null,
   "metadata": {
    "scrolled": true
   },
   "outputs": [],
   "source": [
    "melted_data.sort_values(by='Total Amount',ascending = False)"
   ]
  },
  {
   "cell_type": "markdown",
   "metadata": {},
   "source": [
    "Dari data tersebut dapat disimpulkan bahwa total nilai penarikan tunai (AMT_DRAWINGS_ATM_CURRENT) pada status kredit \"Active\" lebih besar daripada status \"Signed\" dan \"Completed\". Sedangkan total nilai pembelian dengan kartu kredit melalui POS (AMT_DRAWINGS_POS_CURRENT) pada status \"Active\" juga lebih besar daripada status \"Signed\" dan \"Completed\". Hal ini menunjukkan bahwa kreditur cenderung lebih sering menggunakan kartu kredit mereka untuk melakukan transaksi pada status kredit yang masih aktif. Sedangkan untuk status kredit \"Signed\" dan \"Completed\" nilai transaksinya lebih kecil dan dapat diartikan bahwa kreditur mungkin sudah tidak menggunakan kartu kredit mereka secara aktif pada status kredit tersebut. Terdapat perbedaan yang signifikan pada jumlah penarikan melalui ATM dan POS antara kontrak kredit yang masih aktif (Active) dengan kontrak kredit yang telah ditandatangani (Signed) atau telah selesai (Completed). Hal ini dapat menjadi pertimbangan bagi kreditur untuk memperhatikan jenis transaksi penarikan yang dilakukan oleh peminjam dalam mengevaluasi risiko kredit dan strategi bisnis mereka. Dalam hal ini, kreditur dapat mengevaluasi performa kontrak kredit mereka berdasarkan jenis transaksi penarikan yang dilakukan oleh peminjam dan mengembangkan strategi bisnis yang lebih baik untuk mengelola risiko kredit yang ada."
   ]
  },
  {
   "cell_type": "code",
   "execution_count": null,
   "metadata": {},
   "outputs": [],
   "source": [
    "# membuat subplot dengan 2 kolom\n",
    "fig, axs = plt.subplots(ncols=2, figsize=(12, 5))\n",
    "\n",
    "# plot distribusi AMT_CREDIT_LIMIT_ACTUAL pada subplot pertama\n",
    "sns.histplot(credit_card_balance_df[\"AMT_CREDIT_LIMIT_ACTUAL\"], ax=axs[0])\n",
    "axs[0].set_title(\"Distribusi Limit Kartu Kredit Bulanan\")\n",
    "\n",
    "# plot hubungan antara AMT_BALANCE dan AMT_CREDIT_LIMIT_ACTUAL pada subplot kedua\n",
    "sns.scatterplot(x=\"AMT_CREDIT_LIMIT_ACTUAL\", y=\"AMT_BALANCE\", data=credit_card_balance_df, ax=axs[1])\n",
    "axs[1].set_title(\"Hubungan Limit Kartu Kredit dan Saldo Bulanan\")\n",
    "\n",
    "plt.tight_layout()\n",
    "plt.show()"
   ]
  },
  {
   "cell_type": "code",
   "execution_count": null,
   "metadata": {},
   "outputs": [],
   "source": [
    "# Joint plot\n",
    "sns.jointplot(x='AMT_BALANCE', y='AMT_CREDIT_LIMIT_ACTUAL', data=credit_card_balance_df, kind='reg')\n",
    "plt.show()"
   ]
  },
  {
   "cell_type": "code",
   "execution_count": null,
   "metadata": {},
   "outputs": [],
   "source": [
    "# group data by month and calculate maximum AMT_INST_MIN_REGULARITY\n",
    "monthly_instalment_df = credit_card_balance_df.groupby('MONTHS_BALANCE')['AMT_INST_MIN_REGULARITY'].max().reset_index()\n",
    "\n",
    "# create line plot of AMT_INST_MIN_REGULARITY over time\n",
    "plt.plot(monthly_instalment_df['MONTHS_BALANCE'], monthly_instalment_df['AMT_INST_MIN_REGULARITY'])\n",
    "\n",
    "# add marker for maximum value\n",
    "max_instalment = monthly_instalment_df['AMT_INST_MIN_REGULARITY'].max()\n",
    "max_instalment_month = monthly_instalment_df.loc[monthly_instalment_df['AMT_INST_MIN_REGULARITY'].idxmax(), 'MONTHS_BALANCE']\n",
    "plt.plot(max_instalment_month, max_instalment, 'o', markersize=10)\n",
    "\n",
    "# add labels and title\n",
    "plt.xlabel('Month')\n",
    "plt.ylabel('Minimum Instalment')\n",
    "plt.title('Trend of Minimum Instalment by Month with Maximum Value Marker')\n",
    "\n",
    "# display plot\n",
    "plt.show()\n"
   ]
  },
  {
   "cell_type": "markdown",
   "metadata": {},
   "source": [
    "Kita akan mengetahui bagaimana distribusi kontrak status dari kredit sebelumnya, dimana informasi ini diharapkan dapat membantu perusahaan dalam menentukan risiko kredit dan keputusan tentang memberikan kredit baru kepada nasabah tersebut."
   ]
  },
  {
   "cell_type": "code",
   "execution_count": null,
   "metadata": {
    "scrolled": false
   },
   "outputs": [],
   "source": [
    "# Hitung jumlah kontrak pada setiap status\n",
    "status_counts = credit_card_balance_df['NAME_CONTRACT_STATUS'].value_counts()\n",
    "\n",
    "# Buat plot\n",
    "fig, ax = plt.subplots(figsize=(8, 6))\n",
    "sns.barplot(x=status_counts.index, y=status_counts.values, ax=ax, palette='Blues')\n",
    "\n",
    "# Tambahkan nilai di atas bar\n",
    "for i, v in enumerate(status_counts.values):\n",
    "    ax.text(i, v + 10000, str(v), color='black', fontweight='bold', ha='center')\n",
    "\n",
    "# Atur label dan judul\n",
    "ax.set_xlabel('Status Kontrak')\n",
    "ax.set_ylabel('Jumlah Kontrak')\n",
    "ax.set_title('Distribusi Status Kontrak pada Kredit Sebelumnya')\n",
    "\n",
    "plt.show()"
   ]
  },
  {
   "cell_type": "markdown",
   "metadata": {},
   "source": [
    "Jika sebagian besar pelanggan memiliki status kontrak sebelumnya yang aktif atau demand, ini dapat menunjukkan bahwa kreditur mungkin memiliki risiko kredit yang lebih tinggi karena banyak pelanggan yang belum melunasi hutang mereka. Namun, jika sebagian besar pelanggan memiliki status kontrak sebelumnya yang selesai atau ditandatangani, ini dapat menunjukkan bahwa kreditur mungkin memiliki kualitas portofolio kredit yang lebih baik dan risiko kredit yang lebih rendah. Oleh karena itu, penting bagi kreditur untuk memahami status kontrak sebelumnya untuk mengelola risiko kredit mereka secara efektif."
   ]
  },
  {
   "cell_type": "markdown",
   "metadata": {},
   "source": [
    "Kita akan melihat tren keterlambatan pembayaran (DPD) dari waktu ke waktu pada setiap kredit yang diharapkan dapat membantu kita dalam mengidentifikasi apakah ada tren peningkatan atau penurunan keterlambatan pembayaran dari waktu ke waktu, sehingga dapat membantu dalam mengidentifikasi risiko pembayaran yang lebih tinggi pada pinjaman tertentu. "
   ]
  },
  {
   "cell_type": "code",
   "execution_count": null,
   "metadata": {},
   "outputs": [],
   "source": [
    "data_active = credit_card_balance_df[credit_card_balance_df['NAME_CONTRACT_STATUS'] == 'Active']\n",
    "data_signed = credit_card_balance_df[credit_card_balance_df['NAME_CONTRACT_STATUS'] == 'Signed']\n",
    "data_completed = credit_card_balance_df[credit_card_balance_df['NAME_CONTRACT_STATUS'] == 'Completed']\n",
    "\n",
    "# Plot untuk status kontrak 'Active'\n",
    "plt.figure(figsize=(10, 6))\n",
    "sns.lineplot(x='MONTHS_BALANCE', y='SK_DPD', data=data_active, label='Active')\n",
    "plt.title('Tren Keterlambatan Pembayaran (DPD) untuk Status Kontrak Active')\n",
    "plt.xlabel('Bulan Terhadap Aplikasi')\n",
    "plt.ylabel('Jumlah Hari Keterlambatan Pembayaran')\n",
    "plt.show()\n",
    "\n",
    "# Plot untuk status kontrak 'Signed'\n",
    "plt.figure(figsize=(10, 6))\n",
    "sns.lineplot(x='MONTHS_BALANCE', y='SK_DPD', data=data_signed, label='Signed')\n",
    "plt.title('Tren Keterlambatan Pembayaran (DPD) untuk Status Kontrak Signed')\n",
    "plt.xlabel('Bulan Terhadap Aplikasi')\n",
    "plt.ylabel('Jumlah Hari Keterlambatan Pembayaran')\n",
    "plt.show()\n",
    "\n",
    "# Plot untuk status kontrak 'Completed'\n",
    "plt.figure(figsize=(10, 6))\n",
    "sns.lineplot(x='MONTHS_BALANCE', y='SK_DPD', data=data_completed, label='Completed')\n",
    "plt.title('Tren Keterlambatan Pembayaran (DPD) untuk Status Kontrak Completed')\n",
    "plt.xlabel('Bulan Terhadap Aplikasi')\n",
    "plt.ylabel('Jumlah Hari Keterlambatan Pembayaran')\n",
    "plt.show()"
   ]
  },
  {
   "cell_type": "markdown",
   "metadata": {},
   "source": [
    "Kita dapat melihat bahwa DPD (Days Past Due) untuk kontrak aktif naik secara ekstrim dari 100 bulan lalu hingga 30 bulan lalu, kemudian turun secara drastis, kemungkinan besar itu menunjukkan bahwa pelanggan mengalami kesulitan keuangan selama periode itu dan akhirnya berhasil melunasi utang mereka. Kenaikan ekstrim dalam DPD dapat menunjukkan bahwa pelanggan mengalami kesulitan keuangan yang signifikan, dan turunnya DPD dapat menunjukkan bahwa mereka telah menemukan cara untuk mengatasi masalah keuangan mereka. Penurunan DPD yang drastis pada 30 bulan terakhir ini dapat menunjukkan bahwa pelanggan dapat mengatasi kesulitan keuangan mereka dan memperbaiki posisi keuangan mereka, yang dapat meningkatkan kepercayaan perusahaan pada pelanggan dan kemungkinan memberi mereka akses ke kredit lebih lanjut di masa depan. Pola yang sama juga terlihat untukstatus signed dan completed.\n",
    "\n"
   ]
  },
  {
   "cell_type": "markdown",
   "metadata": {},
   "source": [
    "## Application Train"
   ]
  },
  {
   "cell_type": "code",
   "execution_count": null,
   "id": "43359161",
   "metadata": {},
   "outputs": [],
   "source": [
    "application_train_df.info()"
   ]
  },
  {
   "cell_type": "code",
   "execution_count": null,
   "id": "59e94760",
   "metadata": {},
   "outputs": [],
   "source": [
    "application_train_df.describe()"
   ]
  },
  {
   "cell_type": "code",
   "execution_count": null,
   "id": "b5f083ff",
   "metadata": {
    "scrolled": true
   },
   "outputs": [],
   "source": [
    "application_train_df.describe(include = 'O')"
   ]
  },
  {
   "cell_type": "code",
   "execution_count": null,
   "id": "f7ffb3f0",
   "metadata": {},
   "outputs": [],
   "source": [
    "# Plot histogram of target variable\n",
    "plt.hist(application_train_df[\"TARGET\"])\n",
    "plt.title(\"Distribution of Target Variable\")\n",
    "plt.xlabel(\"Target Variable\")\n",
    "plt.ylabel(\"Frequency\")\n",
    "plt.xticks([0,1],[\"0 - All other cases\",\"1 - Payment difficulties\"])\n",
    "plt.show()"
   ]
  },
  {
   "cell_type": "code",
   "execution_count": null,
   "id": "37794f19",
   "metadata": {},
   "outputs": [],
   "source": [
    "# hitung jumlah data\n",
    "cashloans_0 = application_train_df[(application_train_df['NAME_CONTRACT_TYPE'] == 'Cash loans') & (application_train_df['TARGET'] == 0)].shape[0]\n",
    "cashloans_1 = application_train_df[(application_train_df['NAME_CONTRACT_TYPE'] == 'Cash loans') & (application_train_df['TARGET'] == 1)].shape[0]\n",
    "revloans_0 = application_train_df[(application_train_df['NAME_CONTRACT_TYPE'] == 'Revolving loans') & (application_train_df['TARGET'] == 0)].shape[0]\n",
    "revloans_1 = application_train_df[(application_train_df['NAME_CONTRACT_TYPE'] == 'Revolving loans') & (application_train_df['TARGET'] == 1)].shape[0]\n",
    "\n",
    "# plot donat\n",
    "fig, ax = plt.subplots(figsize=(10, 10))\n",
    "\n",
    "# plot bagian luar (Cash loans)\n",
    "ax.pie([cashloans_0, cashloans_1], colors=['#66b3ff','#ff9999'], autopct='%1.1f%%', pctdistance=0.56, radius=1.3)\n",
    "# plot bagian dalam (Revolving loans)\n",
    "ax.pie([revloans_0, revloans_1], colors=['#c2c2f0','#ffb3e6'], autopct='%1.1f%%', pctdistance=1.14,radius=1.0)\n",
    "\n",
    "# add legend\n",
    "leg_labels = ['Cash loans (0)', 'Cash loans (1)', 'Revolving loans (0)', 'Revolving loans (1)']\n",
    "leg_handles = [plt.Rectangle((0,0),1,1, color=color) for color in ['#66b3ff', '#ff9999', '#c2c2f0', '#ffb3e6']]\n",
    "ax.legend(leg_handles, leg_labels,loc ='upper left')\n",
    "\n",
    "# add title\n",
    "ax.set_title('Jumlah Data Berdasarkan Jenis Kontrak dan Target')\n",
    "\n",
    "plt.show()"
   ]
  },
  {
   "cell_type": "markdown",
   "id": "1715ed69",
   "metadata": {},
   "source": [
    "Selanjutnya, kita akan mengetahui distribusi jumlah pinjaman yang diberikan untuk berbagai jenis kontrak pinjaman (cash atau revolving) untuk membantu perusahaan memahami preferensi pelanggan dan mengoptimalkan penawaran mereka."
   ]
  },
  {
   "cell_type": "code",
   "execution_count": null,
   "id": "df876c8d",
   "metadata": {},
   "outputs": [],
   "source": [
    "# Filter by contract type\n",
    "cash_data = application_train_df[application_train_df['NAME_CONTRACT_TYPE'] == 'Cash loans']['AMT_CREDIT']\n",
    "revolving_data = application_train_df[application_train_df['NAME_CONTRACT_TYPE'] == 'Revolving loans']['AMT_CREDIT']\n",
    "\n",
    "# Create histogram\n",
    "plt.hist(cash_data, bins=50, alpha=0.5, label='Cash loans')\n",
    "plt.hist(revolving_data, bins=50, alpha=0.5, label='Revolving loans')\n",
    "plt.xlabel('Loan Amount')\n",
    "plt.ylabel('Frequency')\n",
    "plt.legend(loc='upper right')\n",
    "plt.show()"
   ]
  },
  {
   "cell_type": "markdown",
   "id": "04fb525e",
   "metadata": {},
   "source": [
    "Dari hasil plot distribusi diatas terlihat bahwa lebih banyak pelanggan yang memilih jenis kontrak cash loans dibandingkan revolving loans. Hal ini dapat berdampak pada kebijakan perusahaan pemberi pinjaman dalam mengoptimalkan penawaran mereka. jika lebih banyak pelanggan yang memilih jenis kontrak cash loans, maka perusahaan dapat mengoptimalkan penawaran mereka dengan menawarkan bunga yang lebih rendah atau durasi pembayaran yang lebih fleksibel untuk jenis kontrak tersebut. Sebaliknya, jika pelanggan lebih banyak memilih jenis kontrak revolving loans, maka perusahaan dapat menawarkan keuntungan tambahan seperti diskon atau cashback untuk jenis kontrak tersebut."
   ]
  },
  {
   "cell_type": "markdown",
   "id": "d42dbbf3",
   "metadata": {},
   "source": [
    "Kita akan mencari tahu perbedaan antara jumlah pinjaman yang diberikan kepada pria dan wanita. Box plot dapat membantu melihat apakah ada perbedaan yang signifikan dalam jumlah pinjaman antara kedua kelompok gender."
   ]
  },
  {
   "cell_type": "code",
   "execution_count": null,
   "id": "4f24388f",
   "metadata": {},
   "outputs": [],
   "source": [
    "df_gender = application_train_df[['CODE_GENDER', 'AMT_CREDIT']]\n",
    "df_gender = df_gender[df_gender['CODE_GENDER'].isin(['M', 'F'])]\n",
    "\n",
    "gender_mean = df_gender.groupby('CODE_GENDER')['AMT_CREDIT'].mean().reset_index()\n",
    "\n",
    "sns.set_style('whitegrid')\n",
    "sns.barplot(x='CODE_GENDER', y='AMT_CREDIT', data=gender_mean, palette='Set2')\n",
    "plt.title('Perbedaan Jumlah Pinjaman antara Pria dan Wanita', fontsize=14, fontweight='bold')\n",
    "plt.xlabel('Gender', fontsize=12)\n",
    "plt.ylabel('Jumlah Pinjaman (dalam juta rupiah)', fontsize=12)\n",
    "plt.ylim(0, 2000000)\n",
    "plt.yticks([500000, 1000000, 1500000, 2000000], ['500K', '1M', '1.5M', '2M'])\n",
    "plt.xticks([0, 1], ['Pria', 'Wanita'], rotation=0)\n",
    "plt.text(0, gender_mean.loc[0, 'AMT_CREDIT'] + 20000, f\"{round(gender_mean.loc[0, 'AMT_CREDIT']/1000000, 2)}M\", fontsize=12, ha='center')\n",
    "plt.text(1, gender_mean.loc[1, 'AMT_CREDIT'] + 20000, f\"{round(gender_mean.loc[1, 'AMT_CREDIT']/1000000, 2)}M\", fontsize=12, ha='center')\n",
    "plt.show()"
   ]
  },
  {
   "cell_type": "markdown",
   "id": "16cfb918",
   "metadata": {},
   "source": [
    "Dari plot bar tersebut, dapat dilihat bahwa rata-rata jumlah pinjaman yang diberikan kepada wanita lebih tinggi daripada pria. Hal ini dapat memberikan insight bagi perusahaan pemberi pinjaman untuk menyesuaikan strategi penawaran pinjaman yang lebih fokus kepada wanita. Namun hasilnya berbeda tidak terlalu jauh, sehingga tidak ada salahnya bagi perusahaan untuk juga berfokus pada peminjam pria."
   ]
  },
  {
   "cell_type": "code",
   "execution_count": null,
   "id": "810fbe46",
   "metadata": {},
   "outputs": [],
   "source": [
    "# Membuat pivot table untuk menghitung jumlah pengamatan dalam setiap kategori kepemilikan mobil, real estate, dan target\n",
    "pivot_table = application_train_df.pivot_table(index='FLAG_OWN_CAR', columns='FLAG_OWN_REALTY', values='TARGET', aggfunc='count')\n",
    "\n",
    "# Menghitung total pengamatan dalam dataset\n",
    "total = pivot_table.sum().sum()\n",
    "\n",
    "# Menghitung proporsi pengamatan dalam setiap kategori kepemilikan mobil, real estate, dan target\n",
    "prop = pivot_table / total\n",
    "\n",
    "# Menggambar stacked bar plot\n",
    "sns.set_style('whitegrid')\n",
    "prop.plot(kind='bar', stacked=True, figsize=(8,6))\n",
    "plt.title('Hubungan antara Kepemilikan Mobil dan Real Estate dengan Kemampuan Pelanggan untuk Membayar Kembali Pinjaman')\n",
    "plt.xlabel('Kepemilikan Real Estate')\n",
    "plt.ylabel('Proporsi')\n",
    "plt.show()"
   ]
  },
  {
   "cell_type": "code",
   "execution_count": null,
   "id": "ffcaa5c3",
   "metadata": {},
   "outputs": [],
   "source": [
    "# create a new column 'has_real_estate' that indicates whether the applicant has a real estate or not\n",
    "application_train_df['has_real_estate'] = application_train_df['FLAG_OWN_REALTY'].apply(lambda x: 'Yes' if x == 'Y' else 'No')\n",
    "\n",
    "# create a new column 'has_car' that indicates whether the applicant has a car or not\n",
    "application_train_df['has_car'] = application_train_df['FLAG_OWN_CAR'].apply(lambda x: 'Yes' if x == 'Y' else 'No')\n",
    "\n",
    "# create a cross-tabulation between 'has_car', 'has_real_estate', and 'TARGET' columns\n",
    "ct = pd.crosstab(index=[application_train_df['has_car'], application_train_df['has_real_estate']], columns=application_train_df['TARGET'], normalize='index')\n",
    "\n",
    "# plot stacked bar chart\n",
    "ct.plot(kind='barh', stacked=True, color=['#1f77b4', '#ff7f0e'], figsize=(10, 5))\n",
    "\n",
    "# set title and axis labels\n",
    "plt.title('Proportion of Loan Repayment by Car and Real Estate Ownership')\n",
    "plt.xlabel('Proportion')\n",
    "plt.ylabel('Car and Real Estate Ownership')\n",
    "\n",
    "# set legend\n",
    "plt.legend(title='Loan Repayment', labels=['Repay', 'Default'])\n",
    "\n",
    "# annotate the count on each bar\n",
    "for i in range(len(ct.index)):\n",
    "    for j in range(len(ct.columns)):\n",
    "        plt.text(ct.values[i][j]/2, i, str(ct.values[i][j].round(3)), color='white', fontweight='bold', ha='left', va='center')\n",
    "        \n",
    "# show plot\n",
    "plt.show()"
   ]
  },
  {
   "cell_type": "markdown",
   "id": "3ee0ddc4",
   "metadata": {},
   "source": [
    "Selanjutnya kita akan mencari korelasi antara kepemilikan mobil dan kepemilikan real estate dengan kemampuan pelanggan untuk membayar kembali pinjaman. "
   ]
  },
  {
   "cell_type": "code",
   "execution_count": null,
   "id": "0f347ffd",
   "metadata": {},
   "outputs": [],
   "source": [
    "# Membuat kolom baru 'has_real_estate' dan 'has_car' yang berisi boolean\n",
    "application_train_df['has_real_estate'] = application_train_df['FLAG_OWN_REALTY'].map({'Y': 1, 'N': 0})\n",
    "application_train_df['has_car'] = application_train_df['FLAG_OWN_CAR'].map({'Y': 1, 'N': 0})\n",
    "\n",
    "# Membuat kolom baru 'repaid' yang berisi boolean\n",
    "application_train_df['repaid'] = application_train_df['TARGET'].map({0: True, 1: False})\n",
    "\n",
    "# Menghitung jumlah pelanggan berdasarkan kepemilikan real estate, kepemilikan mobil, dan kemampuan membayar kembali pinjaman\n",
    "df_grouped = application_train_df.groupby(['has_real_estate', 'has_car', 'repaid']).size().unstack()\n",
    "\n",
    "# Membuat stacked bar plot\n",
    "df_grouped.plot(kind='barh', stacked=True)\n",
    "\n",
    "# Menambahkan label dan judul plot\n",
    "plt.xlabel('Number of customers')\n",
    "plt.ylabel('Real estate and car ownership')\n",
    "plt.title('Loan repayment by real estate and car ownership')\n",
    "\n",
    "# Menampilkan plot\n",
    "plt.show()"
   ]
  },
  {
   "cell_type": "markdown",
   "id": "16c926a5",
   "metadata": {},
   "source": [
    "Jika pelanggan kredit paling banyak memiliki real estate namun tidak mobil, dan dilanjutkan dengan memiliki real estate dan mobil, serta yang paling sedikit adalah yang hanya memiliki mobil dan tidak memiliki real estate, maka hal ini dapat memberikan beberapa insight bagi perusahaan pemberi kredit:\n",
    "\n",
    "- Pelanggan yang memiliki real estate dapat dianggap sebagai pelanggan yang lebih kredibel karena mereka memiliki aset yang bernilai tinggi. Hal ini dapat memberikan kepercayaan bagi perusahaan pemberi kredit untuk memberikan jumlah pinjaman yang lebih besar.\n",
    "\n",
    "- Pelanggan yang memiliki mobil dan real estate juga dapat dianggap sebagai pelanggan yang lebih kredibel karena memiliki aset yang bernilai tinggi. Hal ini dapat meningkatkan kemungkinan pelanggan untuk diterima sebagai penerima kredit.\n",
    "\n",
    "- Pelanggan yang tidak memiliki real estate dan hanya memiliki mobil mungkin dianggap sebagai pelanggan yang kurang kredibel karena mereka tidak memiliki aset yang bernilai tinggi. Hal ini dapat membuat perusahaan pemberi kredit lebih berhati-hati dalam memberikan jumlah pinjaman yang besar atau bahkan menolak permohonan kredit.\n",
    "\n",
    "- Pelanggan yang tidak memiliki mobil dan real estate mungkin dianggap sebagai pelanggan yang memiliki risiko kredit yang lebih tinggi. Hal ini dapat membuat perusahaan pemberi kredit sangat berhati-hati dalam menyetujui permohonan kredit atau bahkan menolak permohonan kredit.\n",
    "\n",
    "Berdasarkan insight di atas, perusahaan pemberi kredit dapat mengambil keputusan yang lebih baik dalam mengevaluasi risiko kredit dan menentukan jumlah pinjaman yang sesuai untuk setiap pelanggan."
   ]
  },
  {
   "cell_type": "markdown",
   "id": "8748a236",
   "metadata": {},
   "source": [
    "Selanjutnya, kita akan melihat distribusi pendapatan pelanggan. Histogram dapat membantu memahami seberapa besar pendapatan pelanggan dan memperbaiki penawaran kredit untuk berbagai kelompok penghasilan."
   ]
  },
  {
   "cell_type": "code",
   "execution_count": null,
   "id": "196a0675",
   "metadata": {},
   "outputs": [],
   "source": [
    "# Plot histogram of income\n",
    "plt.hist(application_train_df['AMT_INCOME_TOTAL'], bins=50)\n",
    "\n",
    "# Add labels and title\n",
    "plt.xlabel('Income')\n",
    "plt.ylabel('Count')\n",
    "plt.title('Distribution of Income')\n",
    "plt.show()"
   ]
  },
  {
   "cell_type": "code",
   "execution_count": null,
   "id": "06830abf",
   "metadata": {},
   "outputs": [],
   "source": [
    "import plotly.express as px\n",
    "\n",
    "fig = px.histogram(application_train_df, x=\"AMT_INCOME_TOTAL\", nbins=20, \n",
    "                   labels={'AMT_INCOME_TOTAL': 'Income'},\n",
    "                   title='Income Distribution')\n",
    "\n",
    "fig.show()"
   ]
  },
  {
   "cell_type": "markdown",
   "id": "cd4d8fa8",
   "metadata": {},
   "source": [
    "Kita dapat melihat bahwa kebanyakan income pelanggan berada di bawah 5 juta, ini dapat berarti bahwa mayoritas pelanggan memiliki penghasilan yang rendah. Dalam hal ini, perusahaan pemberi kredit dapat mempertimbangkan untuk menyesuaikan penawaran kredit mereka dengan menyesuaikan persyaratan dan suku bunga sesuai dengan kemampuan pelanggan untuk membayar kembali pinjaman. Perusahaan juga dapat mempertimbangkan untuk menawarkan program pinjaman khusus yang dirancang untuk pelanggan dengan penghasilan rendah. Dengan demikian, perusahaan dapat menarik lebih banyak pelanggan dan meminimalkan risiko kredit yang mungkin terjadi akibat ketidakmampuan pelanggan untuk membayar kembali pinjaman."
   ]
  },
  {
   "cell_type": "code",
   "execution_count": null,
   "id": "1cb7e26b",
   "metadata": {},
   "outputs": [],
   "source": [
    "# Select columns of interest\n",
    "cols = ['DAYS_EMPLOYED', 'TARGET']\n",
    "\n",
    "# Create pair plot\n",
    "sns.pairplot(data=application_train_df[cols], hue='TARGET', height=3)"
   ]
  },
  {
   "cell_type": "markdown",
   "id": "1c55698b",
   "metadata": {},
   "source": [
    "Kita dapat melihat bahwa days employed pelanggan pengguna kredit terbanyak berada di sekitar nol, itu berarti sebagian besar pelanggan tidak memiliki riwayat pekerjaan yang panjang atau mungkin baru memulai karir mereka. Ini bisa menjadi tanda peringatan bagi perusahaan pemberi kredit, karena pelanggan yang tidak memiliki pekerjaan yang stabil atau penghasilan yang konsisten dapat dianggap sebagai risiko kredit yang lebih tinggi."
   ]
  },
  {
   "cell_type": "code",
   "execution_count": null,
   "id": "6ba255e9",
   "metadata": {
    "scrolled": false
   },
   "outputs": [],
   "source": [
    "# Group the data by occupation and calculate the median loan amount\n",
    "occupation_loan_median = application_train_df.groupby('OCCUPATION_TYPE')['AMT_CREDIT'].median().sort_values(ascending=False)\n",
    "\n",
    "# Create bar plot\n",
    "plt.figure(figsize=(12, 8))\n",
    "sns.barplot(x=occupation_loan_median.values, y=occupation_loan_median.index)\n",
    "plt.title('Median Loan Amount by Occupation Type')\n",
    "plt.xlabel('Median Loan Amount')\n",
    "plt.ylabel('Occupation Type')\n",
    "plt.show()"
   ]
  },
  {
   "cell_type": "markdown",
   "id": "0cfb17de",
   "metadata": {},
   "source": [
    "Perusahaan pemberi kredit dapat menggunakan informasi ini untuk menentukan strategi pemberian pinjaman yang lebih sesuai untuk berbagai jenis pekerjaan. Misalnya, untuk pekerja dengan median loan amount yang lebih tinggi, perusahaan dapat menawarkan pinjaman dengan jumlah yang lebih besar, sedangkan untuk pekerja dengan median loan amount yang lebih rendah, perusahaan dapat menawarkan pinjaman dengan jumlah yang lebih kecil. Selain itu, perusahaan juga dapat menggunakan informasi ini untuk mengidentifikasi potensi risiko kredit yang lebih tinggi pada jenis pekerjaan tertentu dan mengambil tindakan pencegahan yang sesuai."
   ]
  },
  {
   "cell_type": "code",
   "execution_count": null,
   "id": "d9c99a88",
   "metadata": {},
   "outputs": [],
   "source": [
    "# Create scatter plot\n",
    "plt.scatter(application_train_df['AMT_GOODS_PRICE'], application_train_df['AMT_CREDIT'])\n",
    "\n",
    "# Set axis labels and title\n",
    "plt.xlabel('Harga Barang')\n",
    "plt.ylabel('Jumlah Pinjaman')\n",
    "plt.title('Korelasi antara Harga Barang dan Jumlah Pinjaman')\n",
    "\n",
    "# Show plot\n",
    "plt.show()"
   ]
  },
  {
   "cell_type": "markdown",
   "id": "4140346e",
   "metadata": {},
   "source": [
    "Kita dapat melihat bahwa terdapat korelasi linier kuat yang terbentuk dalam scatter plot antara harga barang dengan jumlah pinjaman, maka artinya adalah semakin tinggi harga barang, semakin besar pula jumlah pinjaman yang diberikan kepada konsumen. Hal ini dapat bermanfaat bagi perusahaan pemberi kredit dalam memperbaiki strategi penawaran kredit mereka, seperti menawarkan kredit dengan jumlah yang lebih besar untuk produk-produk dengan harga tinggi, atau sebaliknya menawarkan kredit dengan jumlah yang lebih kecil untuk produk-produk dengan harga yang lebih rendah. Selain itu, perusahaan juga dapat mempertimbangkan faktor-faktor lain yang mempengaruhi hubungan antara harga barang dan jumlah pinjaman, seperti risiko kredit dan kemampuan pelanggan untuk membayar kembali pinjaman."
   ]
  },
  {
   "cell_type": "code",
   "execution_count": null,
   "id": "40a8b19a",
   "metadata": {},
   "outputs": [],
   "source": [
    "# plot histogram of age distribution\n",
    "plt.hist(application_train_df['DAYS_BIRTH'] / -365, bins=20)\n",
    "plt.xlabel('Age (years)')\n",
    "plt.ylabel('Count')\n",
    "plt.title('Age Distribution')\n",
    "plt.show()"
   ]
  },
  {
   "cell_type": "markdown",
   "id": "ad43754f",
   "metadata": {},
   "source": [
    "Distribusi umur pelanggan yang terbanyak pada rentang usia 35-40 tahun dapat memberikan informasi penting bagi perusahaan pemberi kredit dalam memperbaiki penawaran kredit mereka. Perusahaan dapat mengambil langkah-langkah seperti menyesuaikan tenor pinjaman dengan rentang usia pelanggan yang paling banyak, menawarkan suku bunga yang lebih menarik bagi kelompok usia tersebut, atau memperkenalkan produk kredit yang lebih sesuai dengan kebutuhan dan preferensi kelompok usia tersebut.\n",
    "\n",
    "Di sisi lain, terdapat juga pengaruh dari rentang usia pelanggan yang paling sedikit, yaitu usia 70+ tahun dan usia 20 tahun. Perusahaan dapat mengambil langkah-langkah yang berbeda untuk mengatasi masalah ini, seperti menawarkan produk kredit yang lebih aman dan lebih mudah dipahami bagi kelompok usia 70+ tahun, atau menyediakan produk kredit yang lebih sesuai dengan kebutuhan dan preferensi kelompok usia 20 tahun. Dalam hal ini, analisis lebih lanjut juga dapat dilakukan untuk memahami lebih jauh mengenai kebutuhan dan preferensi kelompok usia yang paling sedikit ini."
   ]
  },
  {
   "cell_type": "code",
   "execution_count": null,
   "id": "49124d61",
   "metadata": {},
   "outputs": [],
   "source": [
    "# plot density\n",
    "sns.displot(application_train_df, x=\"DAYS_BIRTH\", hue=\"TARGET\", kind=\"kde\", fill=True)\n",
    "\n",
    "plt.show()"
   ]
  },
  {
   "cell_type": "markdown",
   "metadata": {},
   "source": [
    "# Training and Evaluation"
   ]
  },
  {
   "cell_type": "code",
   "execution_count": 21,
   "id": "0f3da712",
   "metadata": {},
   "outputs": [],
   "source": [
    "from sklearn.preprocessing import LabelEncoder, StandardScaler\n",
    "from sklearn.ensemble import RandomForestClassifier\n",
    "from sklearn.model_selection import train_test_split, GridSearchCV\n",
    "from sklearn.metrics import accuracy_score\n",
    "\n",
    "# Load Data\n",
    "train = pd.read_csv('application_train.csv')\n",
    "test = pd.read_csv('application_test.csv')\n",
    "\n",
    "# Data Cleaning\n",
    "train = train.drop_duplicates()\n",
    "train = train.dropna()\n",
    "\n",
    "# Label Encoding\n",
    "cat_cols = []\n",
    "for col in train.columns:\n",
    "    if train[col].dtype == 'object':\n",
    "        cat_cols.append(col)\n",
    "\n",
    "# Label encoding pada kolom kategorikal\n",
    "for col in cat_cols:\n",
    "    le = LabelEncoder()\n",
    "    le.fit(list(train[col].fillna('')) + list(test[col].fillna('')))\n",
    "    train[col] = le.transform(list(train[col].fillna('')))\n",
    "    test[col] = le.transform(list(test[col].fillna('')))"
   ]
  },
  {
   "cell_type": "code",
   "execution_count": 22,
   "id": "0705fcb8",
   "metadata": {},
   "outputs": [
    {
     "data": {
      "text/plain": [
       "['NAME_CONTRACT_TYPE',\n",
       " 'CODE_GENDER',\n",
       " 'FLAG_OWN_CAR',\n",
       " 'FLAG_OWN_REALTY',\n",
       " 'NAME_TYPE_SUITE',\n",
       " 'NAME_INCOME_TYPE',\n",
       " 'NAME_EDUCATION_TYPE',\n",
       " 'NAME_FAMILY_STATUS',\n",
       " 'NAME_HOUSING_TYPE',\n",
       " 'OCCUPATION_TYPE',\n",
       " 'WEEKDAY_APPR_PROCESS_START',\n",
       " 'ORGANIZATION_TYPE',\n",
       " 'FONDKAPREMONT_MODE',\n",
       " 'HOUSETYPE_MODE',\n",
       " 'WALLSMATERIAL_MODE',\n",
       " 'EMERGENCYSTATE_MODE']"
      ]
     },
     "execution_count": 22,
     "metadata": {},
     "output_type": "execute_result"
    }
   ],
   "source": [
    "cat_cols"
   ]
  },
  {
   "cell_type": "code",
   "execution_count": 23,
   "id": "4673326a",
   "metadata": {},
   "outputs": [],
   "source": [
    "# Normalisasi\n",
    "scaler = StandardScaler()\n",
    "train['AMT_INCOME_TOTAL'] = scaler.fit_transform(train[['AMT_INCOME_TOTAL']])\n"
   ]
  },
  {
   "cell_type": "code",
   "execution_count": 24,
   "id": "56fba2c7",
   "metadata": {
    "scrolled": true
   },
   "outputs": [
    {
     "name": "stdout",
     "output_type": "stream",
     "text": [
      "Feature ranking:\n",
      "1. EXT_SOURCE_3 (0.047)\n",
      "2. EXT_SOURCE_1 (0.037)\n",
      "3. EXT_SOURCE_2 (0.036)\n",
      "4. DAYS_REGISTRATION (0.024)\n",
      "5. SK_ID_CURR (0.023)\n",
      "6. DAYS_BIRTH (0.023)\n",
      "7. DAYS_EMPLOYED (0.022)\n",
      "8. DAYS_ID_PUBLISH (0.021)\n",
      "9. AMT_CREDIT (0.019)\n",
      "10. AMT_ANNUITY (0.019)\n",
      "11. DAYS_LAST_PHONE_CHANGE (0.018)\n",
      "12. LIVINGAREA_MODE (0.017)\n",
      "13. COMMONAREA_MEDI (0.017)\n",
      "14. COMMONAREA_MODE (0.017)\n",
      "15. LANDAREA_MEDI (0.016)\n",
      "16. TOTALAREA_MODE (0.016)\n",
      "17. AMT_GOODS_PRICE (0.016)\n",
      "18. LANDAREA_MODE (0.016)\n",
      "19. LIVINGAREA_MEDI (0.016)\n",
      "20. LANDAREA_AVG (0.015)\n",
      "21. AMT_INCOME_TOTAL (0.015)\n",
      "22. LIVINGAREA_AVG (0.015)\n",
      "23. COMMONAREA_AVG (0.015)\n",
      "24. ORGANIZATION_TYPE (0.015)\n",
      "25. OWN_CAR_AGE (0.015)\n",
      "26. BASEMENTAREA_MEDI (0.014)\n",
      "27. BASEMENTAREA_AVG (0.014)\n",
      "28. HOUR_APPR_PROCESS_START (0.014)\n",
      "29. YEARS_BUILD_MEDI (0.014)\n",
      "30. BASEMENTAREA_MODE (0.013)\n",
      "31. YEARS_BEGINEXPLUATATION_MODE (0.013)\n",
      "32. REGION_POPULATION_RELATIVE (0.013)\n",
      "33. APARTMENTS_MODE (0.013)\n",
      "34. APARTMENTS_MEDI (0.013)\n",
      "35. YEARS_BEGINEXPLUATATION_AVG (0.013)\n",
      "36. YEARS_BEGINEXPLUATATION_MEDI (0.012)\n",
      "37. YEARS_BUILD_MODE (0.012)\n",
      "38. LIVINGAPARTMENTS_MEDI (0.012)\n",
      "39. AMT_REQ_CREDIT_BUREAU_YEAR (0.012)\n",
      "40. YEARS_BUILD_AVG (0.012)\n",
      "41. APARTMENTS_AVG (0.012)\n",
      "42. LIVINGAPARTMENTS_MODE (0.012)\n",
      "43. LIVINGAPARTMENTS_AVG (0.011)\n",
      "44. OCCUPATION_TYPE (0.010)\n",
      "45. WEEKDAY_APPR_PROCESS_START (0.010)\n",
      "46. NONLIVINGAREA_MEDI (0.009)\n",
      "47. NONLIVINGAREA_AVG (0.009)\n",
      "48. NONLIVINGAREA_MODE (0.009)\n",
      "49. ENTRANCES_MEDI (0.009)\n",
      "50. OBS_30_CNT_SOCIAL_CIRCLE (0.009)\n",
      "51. OBS_60_CNT_SOCIAL_CIRCLE (0.009)\n",
      "52. ENTRANCES_AVG (0.008)\n",
      "53. FLOORSMIN_MODE (0.008)\n",
      "54. ENTRANCES_MODE (0.007)\n",
      "55. NAME_FAMILY_STATUS (0.007)\n",
      "56. NONLIVINGAPARTMENTS_AVG (0.007)\n",
      "57. FLOORSMIN_AVG (0.007)\n",
      "58. NONLIVINGAPARTMENTS_MODE (0.007)\n",
      "59. FLOORSMIN_MEDI (0.007)\n",
      "60. NONLIVINGAPARTMENTS_MEDI (0.006)\n",
      "61. CNT_FAM_MEMBERS (0.006)\n",
      "62. AMT_REQ_CREDIT_BUREAU_QRT (0.006)\n",
      "63. FLOORSMAX_AVG (0.005)\n",
      "64. FLOORSMAX_MEDI (0.005)\n",
      "65. NAME_HOUSING_TYPE (0.005)\n",
      "66. AMT_REQ_CREDIT_BUREAU_MON (0.005)\n",
      "67. FLOORSMAX_MODE (0.005)\n",
      "68. ELEVATORS_AVG (0.004)\n",
      "69. CNT_CHILDREN (0.004)\n",
      "70. ELEVATORS_MODE (0.004)\n",
      "71. WALLSMATERIAL_MODE (0.004)\n",
      "72. ELEVATORS_MEDI (0.004)\n",
      "73. FONDKAPREMONT_MODE (0.004)\n",
      "74. REGION_RATING_CLIENT_W_CITY (0.004)\n",
      "75. REGION_RATING_CLIENT (0.004)\n",
      "76. NAME_TYPE_SUITE (0.003)\n",
      "77. NAME_EDUCATION_TYPE (0.003)\n",
      "78. NAME_INCOME_TYPE (0.003)\n",
      "79. CODE_GENDER (0.003)\n",
      "80. DEF_30_CNT_SOCIAL_CIRCLE (0.003)\n",
      "81. FLAG_PHONE (0.003)\n",
      "82. FLAG_WORK_PHONE (0.003)\n",
      "83. FLAG_OWN_REALTY (0.003)\n",
      "84. FLAG_EMAIL (0.002)\n",
      "85. DEF_60_CNT_SOCIAL_CIRCLE (0.002)\n",
      "86. AMT_REQ_CREDIT_BUREAU_WEEK (0.002)\n",
      "87. FLAG_DOCUMENT_8 (0.002)\n",
      "88. REG_CITY_NOT_WORK_CITY (0.002)\n",
      "89. FLAG_DOCUMENT_3 (0.002)\n",
      "90. LIVE_REGION_NOT_WORK_REGION (0.002)\n",
      "91. HOUSETYPE_MODE (0.002)\n",
      "92. LIVE_CITY_NOT_WORK_CITY (0.002)\n",
      "93. AMT_REQ_CREDIT_BUREAU_DAY (0.001)\n",
      "94. REG_REGION_NOT_WORK_REGION (0.001)\n",
      "95. REG_CITY_NOT_LIVE_CITY (0.001)\n",
      "96. REG_REGION_NOT_LIVE_REGION (0.001)\n",
      "97. FLAG_DOCUMENT_15 (0.001)\n",
      "98. NAME_CONTRACT_TYPE (0.001)\n",
      "99. EMERGENCYSTATE_MODE (0.001)\n",
      "100. AMT_REQ_CREDIT_BUREAU_HOUR (0.001)\n",
      "101. FLAG_DOCUMENT_9 (0.001)\n",
      "102. FLAG_DOCUMENT_11 (0.001)\n",
      "103. FLAG_DOCUMENT_18 (0.000)\n",
      "104. FLAG_DOCUMENT_19 (0.000)\n",
      "105. FLAG_DOCUMENT_14 (0.000)\n",
      "106. FLAG_DOCUMENT_7 (0.000)\n",
      "107. FLAG_DOCUMENT_5 (0.000)\n",
      "108. FLAG_DOCUMENT_6 (0.000)\n",
      "109. FLAG_CONT_MOBILE (0.000)\n",
      "110. FLAG_DOCUMENT_16 (0.000)\n",
      "111. FLAG_DOCUMENT_13 (0.000)\n",
      "112. FLAG_DOCUMENT_10 (0.000)\n",
      "113. FLAG_OWN_CAR (0.000)\n",
      "114. FLAG_DOCUMENT_4 (0.000)\n",
      "115. FLAG_MOBIL (0.000)\n",
      "116. FLAG_EMP_PHONE (0.000)\n",
      "117. FLAG_DOCUMENT_2 (0.000)\n",
      "118. FLAG_DOCUMENT_21 (0.000)\n",
      "119. FLAG_DOCUMENT_20 (0.000)\n",
      "120. FLAG_DOCUMENT_17 (0.000)\n",
      "121. FLAG_DOCUMENT_12 (0.000)\n"
     ]
    }
   ],
   "source": [
    "# Mencari Fitur yang Baik\n",
    "X = train.drop(columns=['TARGET'])\n",
    "y = train['TARGET']\n",
    "model = RandomForestClassifier(n_estimators=100, random_state=42)\n",
    "model.fit(X, y)\n",
    "importances = model.feature_importances_\n",
    "indices = importances.argsort()[::-1]\n",
    "features = X.columns\n",
    "print(\"Feature ranking:\")\n",
    "for f in range(X.shape[1]):\n",
    "    print(f\"{f + 1}. {features[indices[f]]} ({importances[indices[f]]:.3f})\")"
   ]
  },
  {
   "cell_type": "code",
   "execution_count": 25,
   "id": "c6b41dd0",
   "metadata": {},
   "outputs": [
    {
     "name": "stdout",
     "output_type": "stream",
     "text": [
      "Accuracy: 0.9453805926786751\n"
     ]
    }
   ],
   "source": [
    "# Persiapan Data untuk Training\n",
    "X_train, X_test, y_train, y_test = train_test_split(X, y, test_size=0.2, random_state=42)\n",
    "\n",
    "# Training\n",
    "model = RandomForestClassifier(n_estimators=100, random_state=42)\n",
    "model.fit(X_train, y_train)\n",
    "y_pred = model.predict(X_test)\n",
    "accuracy = accuracy_score(y_test, y_pred)\n",
    "print(\"Accuracy:\", accuracy)"
   ]
  },
  {
   "cell_type": "code",
   "execution_count": 26,
   "id": "450a31e6",
   "metadata": {},
   "outputs": [
    {
     "name": "stderr",
     "output_type": "stream",
     "text": [
      "C:\\Users\\fondo\\AppData\\Local\\Programs\\Python\\Python311\\Lib\\site-packages\\sklearn\\ensemble\\_forest.py:424: FutureWarning:\n",
      "\n",
      "`max_features='auto'` has been deprecated in 1.1 and will be removed in 1.3. To keep the past behaviour, explicitly set `max_features='sqrt'` or remove this parameter as it is also the default value for RandomForestClassifiers and ExtraTreesClassifiers.\n",
      "\n",
      "C:\\Users\\fondo\\AppData\\Local\\Programs\\Python\\Python311\\Lib\\site-packages\\sklearn\\ensemble\\_forest.py:424: FutureWarning:\n",
      "\n",
      "`max_features='auto'` has been deprecated in 1.1 and will be removed in 1.3. To keep the past behaviour, explicitly set `max_features='sqrt'` or remove this parameter as it is also the default value for RandomForestClassifiers and ExtraTreesClassifiers.\n",
      "\n",
      "C:\\Users\\fondo\\AppData\\Local\\Programs\\Python\\Python311\\Lib\\site-packages\\sklearn\\ensemble\\_forest.py:424: FutureWarning:\n",
      "\n",
      "`max_features='auto'` has been deprecated in 1.1 and will be removed in 1.3. To keep the past behaviour, explicitly set `max_features='sqrt'` or remove this parameter as it is also the default value for RandomForestClassifiers and ExtraTreesClassifiers.\n",
      "\n",
      "C:\\Users\\fondo\\AppData\\Local\\Programs\\Python\\Python311\\Lib\\site-packages\\sklearn\\ensemble\\_forest.py:424: FutureWarning:\n",
      "\n",
      "`max_features='auto'` has been deprecated in 1.1 and will be removed in 1.3. To keep the past behaviour, explicitly set `max_features='sqrt'` or remove this parameter as it is also the default value for RandomForestClassifiers and ExtraTreesClassifiers.\n",
      "\n",
      "C:\\Users\\fondo\\AppData\\Local\\Programs\\Python\\Python311\\Lib\\site-packages\\sklearn\\ensemble\\_forest.py:424: FutureWarning:\n",
      "\n",
      "`max_features='auto'` has been deprecated in 1.1 and will be removed in 1.3. To keep the past behaviour, explicitly set `max_features='sqrt'` or remove this parameter as it is also the default value for RandomForestClassifiers and ExtraTreesClassifiers.\n",
      "\n",
      "C:\\Users\\fondo\\AppData\\Local\\Programs\\Python\\Python311\\Lib\\site-packages\\sklearn\\ensemble\\_forest.py:424: FutureWarning:\n",
      "\n",
      "`max_features='auto'` has been deprecated in 1.1 and will be removed in 1.3. To keep the past behaviour, explicitly set `max_features='sqrt'` or remove this parameter as it is also the default value for RandomForestClassifiers and ExtraTreesClassifiers.\n",
      "\n",
      "C:\\Users\\fondo\\AppData\\Local\\Programs\\Python\\Python311\\Lib\\site-packages\\sklearn\\ensemble\\_forest.py:424: FutureWarning:\n",
      "\n",
      "`max_features='auto'` has been deprecated in 1.1 and will be removed in 1.3. To keep the past behaviour, explicitly set `max_features='sqrt'` or remove this parameter as it is also the default value for RandomForestClassifiers and ExtraTreesClassifiers.\n",
      "\n",
      "C:\\Users\\fondo\\AppData\\Local\\Programs\\Python\\Python311\\Lib\\site-packages\\sklearn\\ensemble\\_forest.py:424: FutureWarning:\n",
      "\n",
      "`max_features='auto'` has been deprecated in 1.1 and will be removed in 1.3. To keep the past behaviour, explicitly set `max_features='sqrt'` or remove this parameter as it is also the default value for RandomForestClassifiers and ExtraTreesClassifiers.\n",
      "\n",
      "C:\\Users\\fondo\\AppData\\Local\\Programs\\Python\\Python311\\Lib\\site-packages\\sklearn\\ensemble\\_forest.py:424: FutureWarning:\n",
      "\n",
      "`max_features='auto'` has been deprecated in 1.1 and will be removed in 1.3. To keep the past behaviour, explicitly set `max_features='sqrt'` or remove this parameter as it is also the default value for RandomForestClassifiers and ExtraTreesClassifiers.\n",
      "\n",
      "C:\\Users\\fondo\\AppData\\Local\\Programs\\Python\\Python311\\Lib\\site-packages\\sklearn\\ensemble\\_forest.py:424: FutureWarning:\n",
      "\n",
      "`max_features='auto'` has been deprecated in 1.1 and will be removed in 1.3. To keep the past behaviour, explicitly set `max_features='sqrt'` or remove this parameter as it is also the default value for RandomForestClassifiers and ExtraTreesClassifiers.\n",
      "\n",
      "C:\\Users\\fondo\\AppData\\Local\\Programs\\Python\\Python311\\Lib\\site-packages\\sklearn\\ensemble\\_forest.py:424: FutureWarning:\n",
      "\n",
      "`max_features='auto'` has been deprecated in 1.1 and will be removed in 1.3. To keep the past behaviour, explicitly set `max_features='sqrt'` or remove this parameter as it is also the default value for RandomForestClassifiers and ExtraTreesClassifiers.\n",
      "\n",
      "C:\\Users\\fondo\\AppData\\Local\\Programs\\Python\\Python311\\Lib\\site-packages\\sklearn\\ensemble\\_forest.py:424: FutureWarning:\n",
      "\n",
      "`max_features='auto'` has been deprecated in 1.1 and will be removed in 1.3. To keep the past behaviour, explicitly set `max_features='sqrt'` or remove this parameter as it is also the default value for RandomForestClassifiers and ExtraTreesClassifiers.\n",
      "\n",
      "C:\\Users\\fondo\\AppData\\Local\\Programs\\Python\\Python311\\Lib\\site-packages\\sklearn\\ensemble\\_forest.py:424: FutureWarning:\n",
      "\n",
      "`max_features='auto'` has been deprecated in 1.1 and will be removed in 1.3. To keep the past behaviour, explicitly set `max_features='sqrt'` or remove this parameter as it is also the default value for RandomForestClassifiers and ExtraTreesClassifiers.\n",
      "\n",
      "C:\\Users\\fondo\\AppData\\Local\\Programs\\Python\\Python311\\Lib\\site-packages\\sklearn\\ensemble\\_forest.py:424: FutureWarning:\n",
      "\n",
      "`max_features='auto'` has been deprecated in 1.1 and will be removed in 1.3. To keep the past behaviour, explicitly set `max_features='sqrt'` or remove this parameter as it is also the default value for RandomForestClassifiers and ExtraTreesClassifiers.\n",
      "\n",
      "C:\\Users\\fondo\\AppData\\Local\\Programs\\Python\\Python311\\Lib\\site-packages\\sklearn\\ensemble\\_forest.py:424: FutureWarning:\n",
      "\n",
      "`max_features='auto'` has been deprecated in 1.1 and will be removed in 1.3. To keep the past behaviour, explicitly set `max_features='sqrt'` or remove this parameter as it is also the default value for RandomForestClassifiers and ExtraTreesClassifiers.\n",
      "\n",
      "C:\\Users\\fondo\\AppData\\Local\\Programs\\Python\\Python311\\Lib\\site-packages\\sklearn\\ensemble\\_forest.py:424: FutureWarning:\n",
      "\n",
      "`max_features='auto'` has been deprecated in 1.1 and will be removed in 1.3. To keep the past behaviour, explicitly set `max_features='sqrt'` or remove this parameter as it is also the default value for RandomForestClassifiers and ExtraTreesClassifiers.\n",
      "\n",
      "C:\\Users\\fondo\\AppData\\Local\\Programs\\Python\\Python311\\Lib\\site-packages\\sklearn\\ensemble\\_forest.py:424: FutureWarning:\n",
      "\n",
      "`max_features='auto'` has been deprecated in 1.1 and will be removed in 1.3. To keep the past behaviour, explicitly set `max_features='sqrt'` or remove this parameter as it is also the default value for RandomForestClassifiers and ExtraTreesClassifiers.\n",
      "\n",
      "C:\\Users\\fondo\\AppData\\Local\\Programs\\Python\\Python311\\Lib\\site-packages\\sklearn\\ensemble\\_forest.py:424: FutureWarning:\n",
      "\n",
      "`max_features='auto'` has been deprecated in 1.1 and will be removed in 1.3. To keep the past behaviour, explicitly set `max_features='sqrt'` or remove this parameter as it is also the default value for RandomForestClassifiers and ExtraTreesClassifiers.\n",
      "\n",
      "C:\\Users\\fondo\\AppData\\Local\\Programs\\Python\\Python311\\Lib\\site-packages\\sklearn\\ensemble\\_forest.py:424: FutureWarning:\n",
      "\n",
      "`max_features='auto'` has been deprecated in 1.1 and will be removed in 1.3. To keep the past behaviour, explicitly set `max_features='sqrt'` or remove this parameter as it is also the default value for RandomForestClassifiers and ExtraTreesClassifiers.\n",
      "\n",
      "C:\\Users\\fondo\\AppData\\Local\\Programs\\Python\\Python311\\Lib\\site-packages\\sklearn\\ensemble\\_forest.py:424: FutureWarning:\n",
      "\n",
      "`max_features='auto'` has been deprecated in 1.1 and will be removed in 1.3. To keep the past behaviour, explicitly set `max_features='sqrt'` or remove this parameter as it is also the default value for RandomForestClassifiers and ExtraTreesClassifiers.\n",
      "\n",
      "C:\\Users\\fondo\\AppData\\Local\\Programs\\Python\\Python311\\Lib\\site-packages\\sklearn\\ensemble\\_forest.py:424: FutureWarning:\n",
      "\n",
      "`max_features='auto'` has been deprecated in 1.1 and will be removed in 1.3. To keep the past behaviour, explicitly set `max_features='sqrt'` or remove this parameter as it is also the default value for RandomForestClassifiers and ExtraTreesClassifiers.\n",
      "\n",
      "C:\\Users\\fondo\\AppData\\Local\\Programs\\Python\\Python311\\Lib\\site-packages\\sklearn\\ensemble\\_forest.py:424: FutureWarning:\n",
      "\n",
      "`max_features='auto'` has been deprecated in 1.1 and will be removed in 1.3. To keep the past behaviour, explicitly set `max_features='sqrt'` or remove this parameter as it is also the default value for RandomForestClassifiers and ExtraTreesClassifiers.\n",
      "\n"
     ]
    },
    {
     "name": "stderr",
     "output_type": "stream",
     "text": [
      "C:\\Users\\fondo\\AppData\\Local\\Programs\\Python\\Python311\\Lib\\site-packages\\sklearn\\ensemble\\_forest.py:424: FutureWarning:\n",
      "\n",
      "`max_features='auto'` has been deprecated in 1.1 and will be removed in 1.3. To keep the past behaviour, explicitly set `max_features='sqrt'` or remove this parameter as it is also the default value for RandomForestClassifiers and ExtraTreesClassifiers.\n",
      "\n",
      "C:\\Users\\fondo\\AppData\\Local\\Programs\\Python\\Python311\\Lib\\site-packages\\sklearn\\ensemble\\_forest.py:424: FutureWarning:\n",
      "\n",
      "`max_features='auto'` has been deprecated in 1.1 and will be removed in 1.3. To keep the past behaviour, explicitly set `max_features='sqrt'` or remove this parameter as it is also the default value for RandomForestClassifiers and ExtraTreesClassifiers.\n",
      "\n",
      "C:\\Users\\fondo\\AppData\\Local\\Programs\\Python\\Python311\\Lib\\site-packages\\sklearn\\ensemble\\_forest.py:424: FutureWarning:\n",
      "\n",
      "`max_features='auto'` has been deprecated in 1.1 and will be removed in 1.3. To keep the past behaviour, explicitly set `max_features='sqrt'` or remove this parameter as it is also the default value for RandomForestClassifiers and ExtraTreesClassifiers.\n",
      "\n",
      "C:\\Users\\fondo\\AppData\\Local\\Programs\\Python\\Python311\\Lib\\site-packages\\sklearn\\ensemble\\_forest.py:424: FutureWarning:\n",
      "\n",
      "`max_features='auto'` has been deprecated in 1.1 and will be removed in 1.3. To keep the past behaviour, explicitly set `max_features='sqrt'` or remove this parameter as it is also the default value for RandomForestClassifiers and ExtraTreesClassifiers.\n",
      "\n",
      "C:\\Users\\fondo\\AppData\\Local\\Programs\\Python\\Python311\\Lib\\site-packages\\sklearn\\ensemble\\_forest.py:424: FutureWarning:\n",
      "\n",
      "`max_features='auto'` has been deprecated in 1.1 and will be removed in 1.3. To keep the past behaviour, explicitly set `max_features='sqrt'` or remove this parameter as it is also the default value for RandomForestClassifiers and ExtraTreesClassifiers.\n",
      "\n",
      "C:\\Users\\fondo\\AppData\\Local\\Programs\\Python\\Python311\\Lib\\site-packages\\sklearn\\ensemble\\_forest.py:424: FutureWarning:\n",
      "\n",
      "`max_features='auto'` has been deprecated in 1.1 and will be removed in 1.3. To keep the past behaviour, explicitly set `max_features='sqrt'` or remove this parameter as it is also the default value for RandomForestClassifiers and ExtraTreesClassifiers.\n",
      "\n",
      "C:\\Users\\fondo\\AppData\\Local\\Programs\\Python\\Python311\\Lib\\site-packages\\sklearn\\ensemble\\_forest.py:424: FutureWarning:\n",
      "\n",
      "`max_features='auto'` has been deprecated in 1.1 and will be removed in 1.3. To keep the past behaviour, explicitly set `max_features='sqrt'` or remove this parameter as it is also the default value for RandomForestClassifiers and ExtraTreesClassifiers.\n",
      "\n",
      "C:\\Users\\fondo\\AppData\\Local\\Programs\\Python\\Python311\\Lib\\site-packages\\sklearn\\ensemble\\_forest.py:424: FutureWarning:\n",
      "\n",
      "`max_features='auto'` has been deprecated in 1.1 and will be removed in 1.3. To keep the past behaviour, explicitly set `max_features='sqrt'` or remove this parameter as it is also the default value for RandomForestClassifiers and ExtraTreesClassifiers.\n",
      "\n",
      "C:\\Users\\fondo\\AppData\\Local\\Programs\\Python\\Python311\\Lib\\site-packages\\sklearn\\ensemble\\_forest.py:424: FutureWarning:\n",
      "\n",
      "`max_features='auto'` has been deprecated in 1.1 and will be removed in 1.3. To keep the past behaviour, explicitly set `max_features='sqrt'` or remove this parameter as it is also the default value for RandomForestClassifiers and ExtraTreesClassifiers.\n",
      "\n",
      "C:\\Users\\fondo\\AppData\\Local\\Programs\\Python\\Python311\\Lib\\site-packages\\sklearn\\ensemble\\_forest.py:424: FutureWarning:\n",
      "\n",
      "`max_features='auto'` has been deprecated in 1.1 and will be removed in 1.3. To keep the past behaviour, explicitly set `max_features='sqrt'` or remove this parameter as it is also the default value for RandomForestClassifiers and ExtraTreesClassifiers.\n",
      "\n",
      "C:\\Users\\fondo\\AppData\\Local\\Programs\\Python\\Python311\\Lib\\site-packages\\sklearn\\ensemble\\_forest.py:424: FutureWarning:\n",
      "\n",
      "`max_features='auto'` has been deprecated in 1.1 and will be removed in 1.3. To keep the past behaviour, explicitly set `max_features='sqrt'` or remove this parameter as it is also the default value for RandomForestClassifiers and ExtraTreesClassifiers.\n",
      "\n",
      "C:\\Users\\fondo\\AppData\\Local\\Programs\\Python\\Python311\\Lib\\site-packages\\sklearn\\ensemble\\_forest.py:424: FutureWarning:\n",
      "\n",
      "`max_features='auto'` has been deprecated in 1.1 and will be removed in 1.3. To keep the past behaviour, explicitly set `max_features='sqrt'` or remove this parameter as it is also the default value for RandomForestClassifiers and ExtraTreesClassifiers.\n",
      "\n",
      "C:\\Users\\fondo\\AppData\\Local\\Programs\\Python\\Python311\\Lib\\site-packages\\sklearn\\ensemble\\_forest.py:424: FutureWarning:\n",
      "\n",
      "`max_features='auto'` has been deprecated in 1.1 and will be removed in 1.3. To keep the past behaviour, explicitly set `max_features='sqrt'` or remove this parameter as it is also the default value for RandomForestClassifiers and ExtraTreesClassifiers.\n",
      "\n",
      "C:\\Users\\fondo\\AppData\\Local\\Programs\\Python\\Python311\\Lib\\site-packages\\sklearn\\ensemble\\_forest.py:424: FutureWarning:\n",
      "\n",
      "`max_features='auto'` has been deprecated in 1.1 and will be removed in 1.3. To keep the past behaviour, explicitly set `max_features='sqrt'` or remove this parameter as it is also the default value for RandomForestClassifiers and ExtraTreesClassifiers.\n",
      "\n",
      "C:\\Users\\fondo\\AppData\\Local\\Programs\\Python\\Python311\\Lib\\site-packages\\sklearn\\ensemble\\_forest.py:424: FutureWarning:\n",
      "\n",
      "`max_features='auto'` has been deprecated in 1.1 and will be removed in 1.3. To keep the past behaviour, explicitly set `max_features='sqrt'` or remove this parameter as it is also the default value for RandomForestClassifiers and ExtraTreesClassifiers.\n",
      "\n",
      "C:\\Users\\fondo\\AppData\\Local\\Programs\\Python\\Python311\\Lib\\site-packages\\sklearn\\ensemble\\_forest.py:424: FutureWarning:\n",
      "\n",
      "`max_features='auto'` has been deprecated in 1.1 and will be removed in 1.3. To keep the past behaviour, explicitly set `max_features='sqrt'` or remove this parameter as it is also the default value for RandomForestClassifiers and ExtraTreesClassifiers.\n",
      "\n",
      "C:\\Users\\fondo\\AppData\\Local\\Programs\\Python\\Python311\\Lib\\site-packages\\sklearn\\ensemble\\_forest.py:424: FutureWarning:\n",
      "\n",
      "`max_features='auto'` has been deprecated in 1.1 and will be removed in 1.3. To keep the past behaviour, explicitly set `max_features='sqrt'` or remove this parameter as it is also the default value for RandomForestClassifiers and ExtraTreesClassifiers.\n",
      "\n",
      "C:\\Users\\fondo\\AppData\\Local\\Programs\\Python\\Python311\\Lib\\site-packages\\sklearn\\ensemble\\_forest.py:424: FutureWarning:\n",
      "\n",
      "`max_features='auto'` has been deprecated in 1.1 and will be removed in 1.3. To keep the past behaviour, explicitly set `max_features='sqrt'` or remove this parameter as it is also the default value for RandomForestClassifiers and ExtraTreesClassifiers.\n",
      "\n",
      "C:\\Users\\fondo\\AppData\\Local\\Programs\\Python\\Python311\\Lib\\site-packages\\sklearn\\ensemble\\_forest.py:424: FutureWarning:\n",
      "\n",
      "`max_features='auto'` has been deprecated in 1.1 and will be removed in 1.3. To keep the past behaviour, explicitly set `max_features='sqrt'` or remove this parameter as it is also the default value for RandomForestClassifiers and ExtraTreesClassifiers.\n",
      "\n",
      "C:\\Users\\fondo\\AppData\\Local\\Programs\\Python\\Python311\\Lib\\site-packages\\sklearn\\ensemble\\_forest.py:424: FutureWarning:\n",
      "\n",
      "`max_features='auto'` has been deprecated in 1.1 and will be removed in 1.3. To keep the past behaviour, explicitly set `max_features='sqrt'` or remove this parameter as it is also the default value for RandomForestClassifiers and ExtraTreesClassifiers.\n",
      "\n",
      "C:\\Users\\fondo\\AppData\\Local\\Programs\\Python\\Python311\\Lib\\site-packages\\sklearn\\ensemble\\_forest.py:424: FutureWarning:\n",
      "\n",
      "`max_features='auto'` has been deprecated in 1.1 and will be removed in 1.3. To keep the past behaviour, explicitly set `max_features='sqrt'` or remove this parameter as it is also the default value for RandomForestClassifiers and ExtraTreesClassifiers.\n",
      "\n",
      "C:\\Users\\fondo\\AppData\\Local\\Programs\\Python\\Python311\\Lib\\site-packages\\sklearn\\ensemble\\_forest.py:424: FutureWarning:\n",
      "\n",
      "`max_features='auto'` has been deprecated in 1.1 and will be removed in 1.3. To keep the past behaviour, explicitly set `max_features='sqrt'` or remove this parameter as it is also the default value for RandomForestClassifiers and ExtraTreesClassifiers.\n",
      "\n"
     ]
    },
    {
     "name": "stderr",
     "output_type": "stream",
     "text": [
      "C:\\Users\\fondo\\AppData\\Local\\Programs\\Python\\Python311\\Lib\\site-packages\\sklearn\\ensemble\\_forest.py:424: FutureWarning:\n",
      "\n",
      "`max_features='auto'` has been deprecated in 1.1 and will be removed in 1.3. To keep the past behaviour, explicitly set `max_features='sqrt'` or remove this parameter as it is also the default value for RandomForestClassifiers and ExtraTreesClassifiers.\n",
      "\n",
      "C:\\Users\\fondo\\AppData\\Local\\Programs\\Python\\Python311\\Lib\\site-packages\\sklearn\\ensemble\\_forest.py:424: FutureWarning:\n",
      "\n",
      "`max_features='auto'` has been deprecated in 1.1 and will be removed in 1.3. To keep the past behaviour, explicitly set `max_features='sqrt'` or remove this parameter as it is also the default value for RandomForestClassifiers and ExtraTreesClassifiers.\n",
      "\n",
      "C:\\Users\\fondo\\AppData\\Local\\Programs\\Python\\Python311\\Lib\\site-packages\\sklearn\\ensemble\\_forest.py:424: FutureWarning:\n",
      "\n",
      "`max_features='auto'` has been deprecated in 1.1 and will be removed in 1.3. To keep the past behaviour, explicitly set `max_features='sqrt'` or remove this parameter as it is also the default value for RandomForestClassifiers and ExtraTreesClassifiers.\n",
      "\n",
      "C:\\Users\\fondo\\AppData\\Local\\Programs\\Python\\Python311\\Lib\\site-packages\\sklearn\\ensemble\\_forest.py:424: FutureWarning:\n",
      "\n",
      "`max_features='auto'` has been deprecated in 1.1 and will be removed in 1.3. To keep the past behaviour, explicitly set `max_features='sqrt'` or remove this parameter as it is also the default value for RandomForestClassifiers and ExtraTreesClassifiers.\n",
      "\n",
      "C:\\Users\\fondo\\AppData\\Local\\Programs\\Python\\Python311\\Lib\\site-packages\\sklearn\\ensemble\\_forest.py:424: FutureWarning:\n",
      "\n",
      "`max_features='auto'` has been deprecated in 1.1 and will be removed in 1.3. To keep the past behaviour, explicitly set `max_features='sqrt'` or remove this parameter as it is also the default value for RandomForestClassifiers and ExtraTreesClassifiers.\n",
      "\n",
      "C:\\Users\\fondo\\AppData\\Local\\Programs\\Python\\Python311\\Lib\\site-packages\\sklearn\\ensemble\\_forest.py:424: FutureWarning:\n",
      "\n",
      "`max_features='auto'` has been deprecated in 1.1 and will be removed in 1.3. To keep the past behaviour, explicitly set `max_features='sqrt'` or remove this parameter as it is also the default value for RandomForestClassifiers and ExtraTreesClassifiers.\n",
      "\n",
      "C:\\Users\\fondo\\AppData\\Local\\Programs\\Python\\Python311\\Lib\\site-packages\\sklearn\\ensemble\\_forest.py:424: FutureWarning:\n",
      "\n",
      "`max_features='auto'` has been deprecated in 1.1 and will be removed in 1.3. To keep the past behaviour, explicitly set `max_features='sqrt'` or remove this parameter as it is also the default value for RandomForestClassifiers and ExtraTreesClassifiers.\n",
      "\n",
      "C:\\Users\\fondo\\AppData\\Local\\Programs\\Python\\Python311\\Lib\\site-packages\\sklearn\\ensemble\\_forest.py:424: FutureWarning:\n",
      "\n",
      "`max_features='auto'` has been deprecated in 1.1 and will be removed in 1.3. To keep the past behaviour, explicitly set `max_features='sqrt'` or remove this parameter as it is also the default value for RandomForestClassifiers and ExtraTreesClassifiers.\n",
      "\n",
      "C:\\Users\\fondo\\AppData\\Local\\Programs\\Python\\Python311\\Lib\\site-packages\\sklearn\\ensemble\\_forest.py:424: FutureWarning:\n",
      "\n",
      "`max_features='auto'` has been deprecated in 1.1 and will be removed in 1.3. To keep the past behaviour, explicitly set `max_features='sqrt'` or remove this parameter as it is also the default value for RandomForestClassifiers and ExtraTreesClassifiers.\n",
      "\n",
      "C:\\Users\\fondo\\AppData\\Local\\Programs\\Python\\Python311\\Lib\\site-packages\\sklearn\\ensemble\\_forest.py:424: FutureWarning:\n",
      "\n",
      "`max_features='auto'` has been deprecated in 1.1 and will be removed in 1.3. To keep the past behaviour, explicitly set `max_features='sqrt'` or remove this parameter as it is also the default value for RandomForestClassifiers and ExtraTreesClassifiers.\n",
      "\n",
      "C:\\Users\\fondo\\AppData\\Local\\Programs\\Python\\Python311\\Lib\\site-packages\\sklearn\\ensemble\\_forest.py:424: FutureWarning:\n",
      "\n",
      "`max_features='auto'` has been deprecated in 1.1 and will be removed in 1.3. To keep the past behaviour, explicitly set `max_features='sqrt'` or remove this parameter as it is also the default value for RandomForestClassifiers and ExtraTreesClassifiers.\n",
      "\n",
      "C:\\Users\\fondo\\AppData\\Local\\Programs\\Python\\Python311\\Lib\\site-packages\\sklearn\\ensemble\\_forest.py:424: FutureWarning:\n",
      "\n",
      "`max_features='auto'` has been deprecated in 1.1 and will be removed in 1.3. To keep the past behaviour, explicitly set `max_features='sqrt'` or remove this parameter as it is also the default value for RandomForestClassifiers and ExtraTreesClassifiers.\n",
      "\n",
      "C:\\Users\\fondo\\AppData\\Local\\Programs\\Python\\Python311\\Lib\\site-packages\\sklearn\\ensemble\\_forest.py:424: FutureWarning:\n",
      "\n",
      "`max_features='auto'` has been deprecated in 1.1 and will be removed in 1.3. To keep the past behaviour, explicitly set `max_features='sqrt'` or remove this parameter as it is also the default value for RandomForestClassifiers and ExtraTreesClassifiers.\n",
      "\n",
      "C:\\Users\\fondo\\AppData\\Local\\Programs\\Python\\Python311\\Lib\\site-packages\\sklearn\\ensemble\\_forest.py:424: FutureWarning:\n",
      "\n",
      "`max_features='auto'` has been deprecated in 1.1 and will be removed in 1.3. To keep the past behaviour, explicitly set `max_features='sqrt'` or remove this parameter as it is also the default value for RandomForestClassifiers and ExtraTreesClassifiers.\n",
      "\n",
      "C:\\Users\\fondo\\AppData\\Local\\Programs\\Python\\Python311\\Lib\\site-packages\\sklearn\\ensemble\\_forest.py:424: FutureWarning:\n",
      "\n",
      "`max_features='auto'` has been deprecated in 1.1 and will be removed in 1.3. To keep the past behaviour, explicitly set `max_features='sqrt'` or remove this parameter as it is also the default value for RandomForestClassifiers and ExtraTreesClassifiers.\n",
      "\n",
      "C:\\Users\\fondo\\AppData\\Local\\Programs\\Python\\Python311\\Lib\\site-packages\\sklearn\\ensemble\\_forest.py:424: FutureWarning:\n",
      "\n",
      "`max_features='auto'` has been deprecated in 1.1 and will be removed in 1.3. To keep the past behaviour, explicitly set `max_features='sqrt'` or remove this parameter as it is also the default value for RandomForestClassifiers and ExtraTreesClassifiers.\n",
      "\n",
      "C:\\Users\\fondo\\AppData\\Local\\Programs\\Python\\Python311\\Lib\\site-packages\\sklearn\\ensemble\\_forest.py:424: FutureWarning:\n",
      "\n",
      "`max_features='auto'` has been deprecated in 1.1 and will be removed in 1.3. To keep the past behaviour, explicitly set `max_features='sqrt'` or remove this parameter as it is also the default value for RandomForestClassifiers and ExtraTreesClassifiers.\n",
      "\n",
      "C:\\Users\\fondo\\AppData\\Local\\Programs\\Python\\Python311\\Lib\\site-packages\\sklearn\\ensemble\\_forest.py:424: FutureWarning:\n",
      "\n",
      "`max_features='auto'` has been deprecated in 1.1 and will be removed in 1.3. To keep the past behaviour, explicitly set `max_features='sqrt'` or remove this parameter as it is also the default value for RandomForestClassifiers and ExtraTreesClassifiers.\n",
      "\n",
      "C:\\Users\\fondo\\AppData\\Local\\Programs\\Python\\Python311\\Lib\\site-packages\\sklearn\\ensemble\\_forest.py:424: FutureWarning:\n",
      "\n",
      "`max_features='auto'` has been deprecated in 1.1 and will be removed in 1.3. To keep the past behaviour, explicitly set `max_features='sqrt'` or remove this parameter as it is also the default value for RandomForestClassifiers and ExtraTreesClassifiers.\n",
      "\n",
      "C:\\Users\\fondo\\AppData\\Local\\Programs\\Python\\Python311\\Lib\\site-packages\\sklearn\\ensemble\\_forest.py:424: FutureWarning:\n",
      "\n",
      "`max_features='auto'` has been deprecated in 1.1 and will be removed in 1.3. To keep the past behaviour, explicitly set `max_features='sqrt'` or remove this parameter as it is also the default value for RandomForestClassifiers and ExtraTreesClassifiers.\n",
      "\n",
      "C:\\Users\\fondo\\AppData\\Local\\Programs\\Python\\Python311\\Lib\\site-packages\\sklearn\\ensemble\\_forest.py:424: FutureWarning:\n",
      "\n",
      "`max_features='auto'` has been deprecated in 1.1 and will be removed in 1.3. To keep the past behaviour, explicitly set `max_features='sqrt'` or remove this parameter as it is also the default value for RandomForestClassifiers and ExtraTreesClassifiers.\n",
      "\n",
      "C:\\Users\\fondo\\AppData\\Local\\Programs\\Python\\Python311\\Lib\\site-packages\\sklearn\\ensemble\\_forest.py:424: FutureWarning:\n",
      "\n",
      "`max_features='auto'` has been deprecated in 1.1 and will be removed in 1.3. To keep the past behaviour, explicitly set `max_features='sqrt'` or remove this parameter as it is also the default value for RandomForestClassifiers and ExtraTreesClassifiers.\n",
      "\n"
     ]
    },
    {
     "name": "stderr",
     "output_type": "stream",
     "text": [
      "C:\\Users\\fondo\\AppData\\Local\\Programs\\Python\\Python311\\Lib\\site-packages\\sklearn\\ensemble\\_forest.py:424: FutureWarning:\n",
      "\n",
      "`max_features='auto'` has been deprecated in 1.1 and will be removed in 1.3. To keep the past behaviour, explicitly set `max_features='sqrt'` or remove this parameter as it is also the default value for RandomForestClassifiers and ExtraTreesClassifiers.\n",
      "\n",
      "C:\\Users\\fondo\\AppData\\Local\\Programs\\Python\\Python311\\Lib\\site-packages\\sklearn\\ensemble\\_forest.py:424: FutureWarning:\n",
      "\n",
      "`max_features='auto'` has been deprecated in 1.1 and will be removed in 1.3. To keep the past behaviour, explicitly set `max_features='sqrt'` or remove this parameter as it is also the default value for RandomForestClassifiers and ExtraTreesClassifiers.\n",
      "\n",
      "C:\\Users\\fondo\\AppData\\Local\\Programs\\Python\\Python311\\Lib\\site-packages\\sklearn\\ensemble\\_forest.py:424: FutureWarning:\n",
      "\n",
      "`max_features='auto'` has been deprecated in 1.1 and will be removed in 1.3. To keep the past behaviour, explicitly set `max_features='sqrt'` or remove this parameter as it is also the default value for RandomForestClassifiers and ExtraTreesClassifiers.\n",
      "\n",
      "C:\\Users\\fondo\\AppData\\Local\\Programs\\Python\\Python311\\Lib\\site-packages\\sklearn\\ensemble\\_forest.py:424: FutureWarning:\n",
      "\n",
      "`max_features='auto'` has been deprecated in 1.1 and will be removed in 1.3. To keep the past behaviour, explicitly set `max_features='sqrt'` or remove this parameter as it is also the default value for RandomForestClassifiers and ExtraTreesClassifiers.\n",
      "\n",
      "C:\\Users\\fondo\\AppData\\Local\\Programs\\Python\\Python311\\Lib\\site-packages\\sklearn\\ensemble\\_forest.py:424: FutureWarning:\n",
      "\n",
      "`max_features='auto'` has been deprecated in 1.1 and will be removed in 1.3. To keep the past behaviour, explicitly set `max_features='sqrt'` or remove this parameter as it is also the default value for RandomForestClassifiers and ExtraTreesClassifiers.\n",
      "\n",
      "C:\\Users\\fondo\\AppData\\Local\\Programs\\Python\\Python311\\Lib\\site-packages\\sklearn\\ensemble\\_forest.py:424: FutureWarning:\n",
      "\n",
      "`max_features='auto'` has been deprecated in 1.1 and will be removed in 1.3. To keep the past behaviour, explicitly set `max_features='sqrt'` or remove this parameter as it is also the default value for RandomForestClassifiers and ExtraTreesClassifiers.\n",
      "\n",
      "C:\\Users\\fondo\\AppData\\Local\\Programs\\Python\\Python311\\Lib\\site-packages\\sklearn\\ensemble\\_forest.py:424: FutureWarning:\n",
      "\n",
      "`max_features='auto'` has been deprecated in 1.1 and will be removed in 1.3. To keep the past behaviour, explicitly set `max_features='sqrt'` or remove this parameter as it is also the default value for RandomForestClassifiers and ExtraTreesClassifiers.\n",
      "\n",
      "C:\\Users\\fondo\\AppData\\Local\\Programs\\Python\\Python311\\Lib\\site-packages\\sklearn\\ensemble\\_forest.py:424: FutureWarning:\n",
      "\n",
      "`max_features='auto'` has been deprecated in 1.1 and will be removed in 1.3. To keep the past behaviour, explicitly set `max_features='sqrt'` or remove this parameter as it is also the default value for RandomForestClassifiers and ExtraTreesClassifiers.\n",
      "\n",
      "C:\\Users\\fondo\\AppData\\Local\\Programs\\Python\\Python311\\Lib\\site-packages\\sklearn\\ensemble\\_forest.py:424: FutureWarning:\n",
      "\n",
      "`max_features='auto'` has been deprecated in 1.1 and will be removed in 1.3. To keep the past behaviour, explicitly set `max_features='sqrt'` or remove this parameter as it is also the default value for RandomForestClassifiers and ExtraTreesClassifiers.\n",
      "\n",
      "C:\\Users\\fondo\\AppData\\Local\\Programs\\Python\\Python311\\Lib\\site-packages\\sklearn\\ensemble\\_forest.py:424: FutureWarning:\n",
      "\n",
      "`max_features='auto'` has been deprecated in 1.1 and will be removed in 1.3. To keep the past behaviour, explicitly set `max_features='sqrt'` or remove this parameter as it is also the default value for RandomForestClassifiers and ExtraTreesClassifiers.\n",
      "\n",
      "C:\\Users\\fondo\\AppData\\Local\\Programs\\Python\\Python311\\Lib\\site-packages\\sklearn\\ensemble\\_forest.py:424: FutureWarning:\n",
      "\n",
      "`max_features='auto'` has been deprecated in 1.1 and will be removed in 1.3. To keep the past behaviour, explicitly set `max_features='sqrt'` or remove this parameter as it is also the default value for RandomForestClassifiers and ExtraTreesClassifiers.\n",
      "\n",
      "C:\\Users\\fondo\\AppData\\Local\\Programs\\Python\\Python311\\Lib\\site-packages\\sklearn\\ensemble\\_forest.py:424: FutureWarning:\n",
      "\n",
      "`max_features='auto'` has been deprecated in 1.1 and will be removed in 1.3. To keep the past behaviour, explicitly set `max_features='sqrt'` or remove this parameter as it is also the default value for RandomForestClassifiers and ExtraTreesClassifiers.\n",
      "\n",
      "C:\\Users\\fondo\\AppData\\Local\\Programs\\Python\\Python311\\Lib\\site-packages\\sklearn\\ensemble\\_forest.py:424: FutureWarning:\n",
      "\n",
      "`max_features='auto'` has been deprecated in 1.1 and will be removed in 1.3. To keep the past behaviour, explicitly set `max_features='sqrt'` or remove this parameter as it is also the default value for RandomForestClassifiers and ExtraTreesClassifiers.\n",
      "\n",
      "C:\\Users\\fondo\\AppData\\Local\\Programs\\Python\\Python311\\Lib\\site-packages\\sklearn\\ensemble\\_forest.py:424: FutureWarning:\n",
      "\n",
      "`max_features='auto'` has been deprecated in 1.1 and will be removed in 1.3. To keep the past behaviour, explicitly set `max_features='sqrt'` or remove this parameter as it is also the default value for RandomForestClassifiers and ExtraTreesClassifiers.\n",
      "\n",
      "C:\\Users\\fondo\\AppData\\Local\\Programs\\Python\\Python311\\Lib\\site-packages\\sklearn\\ensemble\\_forest.py:424: FutureWarning:\n",
      "\n",
      "`max_features='auto'` has been deprecated in 1.1 and will be removed in 1.3. To keep the past behaviour, explicitly set `max_features='sqrt'` or remove this parameter as it is also the default value for RandomForestClassifiers and ExtraTreesClassifiers.\n",
      "\n",
      "C:\\Users\\fondo\\AppData\\Local\\Programs\\Python\\Python311\\Lib\\site-packages\\sklearn\\ensemble\\_forest.py:424: FutureWarning:\n",
      "\n",
      "`max_features='auto'` has been deprecated in 1.1 and will be removed in 1.3. To keep the past behaviour, explicitly set `max_features='sqrt'` or remove this parameter as it is also the default value for RandomForestClassifiers and ExtraTreesClassifiers.\n",
      "\n",
      "C:\\Users\\fondo\\AppData\\Local\\Programs\\Python\\Python311\\Lib\\site-packages\\sklearn\\ensemble\\_forest.py:424: FutureWarning:\n",
      "\n",
      "`max_features='auto'` has been deprecated in 1.1 and will be removed in 1.3. To keep the past behaviour, explicitly set `max_features='sqrt'` or remove this parameter as it is also the default value for RandomForestClassifiers and ExtraTreesClassifiers.\n",
      "\n",
      "C:\\Users\\fondo\\AppData\\Local\\Programs\\Python\\Python311\\Lib\\site-packages\\sklearn\\ensemble\\_forest.py:424: FutureWarning:\n",
      "\n",
      "`max_features='auto'` has been deprecated in 1.1 and will be removed in 1.3. To keep the past behaviour, explicitly set `max_features='sqrt'` or remove this parameter as it is also the default value for RandomForestClassifiers and ExtraTreesClassifiers.\n",
      "\n",
      "C:\\Users\\fondo\\AppData\\Local\\Programs\\Python\\Python311\\Lib\\site-packages\\sklearn\\ensemble\\_forest.py:424: FutureWarning:\n",
      "\n",
      "`max_features='auto'` has been deprecated in 1.1 and will be removed in 1.3. To keep the past behaviour, explicitly set `max_features='sqrt'` or remove this parameter as it is also the default value for RandomForestClassifiers and ExtraTreesClassifiers.\n",
      "\n",
      "C:\\Users\\fondo\\AppData\\Local\\Programs\\Python\\Python311\\Lib\\site-packages\\sklearn\\ensemble\\_forest.py:424: FutureWarning:\n",
      "\n",
      "`max_features='auto'` has been deprecated in 1.1 and will be removed in 1.3. To keep the past behaviour, explicitly set `max_features='sqrt'` or remove this parameter as it is also the default value for RandomForestClassifiers and ExtraTreesClassifiers.\n",
      "\n",
      "C:\\Users\\fondo\\AppData\\Local\\Programs\\Python\\Python311\\Lib\\site-packages\\sklearn\\ensemble\\_forest.py:424: FutureWarning:\n",
      "\n",
      "`max_features='auto'` has been deprecated in 1.1 and will be removed in 1.3. To keep the past behaviour, explicitly set `max_features='sqrt'` or remove this parameter as it is also the default value for RandomForestClassifiers and ExtraTreesClassifiers.\n",
      "\n",
      "C:\\Users\\fondo\\AppData\\Local\\Programs\\Python\\Python311\\Lib\\site-packages\\sklearn\\ensemble\\_forest.py:424: FutureWarning:\n",
      "\n",
      "`max_features='auto'` has been deprecated in 1.1 and will be removed in 1.3. To keep the past behaviour, explicitly set `max_features='sqrt'` or remove this parameter as it is also the default value for RandomForestClassifiers and ExtraTreesClassifiers.\n",
      "\n"
     ]
    },
    {
     "name": "stderr",
     "output_type": "stream",
     "text": [
      "C:\\Users\\fondo\\AppData\\Local\\Programs\\Python\\Python311\\Lib\\site-packages\\sklearn\\ensemble\\_forest.py:424: FutureWarning:\n",
      "\n",
      "`max_features='auto'` has been deprecated in 1.1 and will be removed in 1.3. To keep the past behaviour, explicitly set `max_features='sqrt'` or remove this parameter as it is also the default value for RandomForestClassifiers and ExtraTreesClassifiers.\n",
      "\n",
      "C:\\Users\\fondo\\AppData\\Local\\Programs\\Python\\Python311\\Lib\\site-packages\\sklearn\\ensemble\\_forest.py:424: FutureWarning:\n",
      "\n",
      "`max_features='auto'` has been deprecated in 1.1 and will be removed in 1.3. To keep the past behaviour, explicitly set `max_features='sqrt'` or remove this parameter as it is also the default value for RandomForestClassifiers and ExtraTreesClassifiers.\n",
      "\n",
      "C:\\Users\\fondo\\AppData\\Local\\Programs\\Python\\Python311\\Lib\\site-packages\\sklearn\\ensemble\\_forest.py:424: FutureWarning:\n",
      "\n",
      "`max_features='auto'` has been deprecated in 1.1 and will be removed in 1.3. To keep the past behaviour, explicitly set `max_features='sqrt'` or remove this parameter as it is also the default value for RandomForestClassifiers and ExtraTreesClassifiers.\n",
      "\n",
      "C:\\Users\\fondo\\AppData\\Local\\Programs\\Python\\Python311\\Lib\\site-packages\\sklearn\\ensemble\\_forest.py:424: FutureWarning:\n",
      "\n",
      "`max_features='auto'` has been deprecated in 1.1 and will be removed in 1.3. To keep the past behaviour, explicitly set `max_features='sqrt'` or remove this parameter as it is also the default value for RandomForestClassifiers and ExtraTreesClassifiers.\n",
      "\n",
      "C:\\Users\\fondo\\AppData\\Local\\Programs\\Python\\Python311\\Lib\\site-packages\\sklearn\\ensemble\\_forest.py:424: FutureWarning:\n",
      "\n",
      "`max_features='auto'` has been deprecated in 1.1 and will be removed in 1.3. To keep the past behaviour, explicitly set `max_features='sqrt'` or remove this parameter as it is also the default value for RandomForestClassifiers and ExtraTreesClassifiers.\n",
      "\n",
      "C:\\Users\\fondo\\AppData\\Local\\Programs\\Python\\Python311\\Lib\\site-packages\\sklearn\\ensemble\\_forest.py:424: FutureWarning:\n",
      "\n",
      "`max_features='auto'` has been deprecated in 1.1 and will be removed in 1.3. To keep the past behaviour, explicitly set `max_features='sqrt'` or remove this parameter as it is also the default value for RandomForestClassifiers and ExtraTreesClassifiers.\n",
      "\n",
      "C:\\Users\\fondo\\AppData\\Local\\Programs\\Python\\Python311\\Lib\\site-packages\\sklearn\\ensemble\\_forest.py:424: FutureWarning:\n",
      "\n",
      "`max_features='auto'` has been deprecated in 1.1 and will be removed in 1.3. To keep the past behaviour, explicitly set `max_features='sqrt'` or remove this parameter as it is also the default value for RandomForestClassifiers and ExtraTreesClassifiers.\n",
      "\n",
      "C:\\Users\\fondo\\AppData\\Local\\Programs\\Python\\Python311\\Lib\\site-packages\\sklearn\\ensemble\\_forest.py:424: FutureWarning:\n",
      "\n",
      "`max_features='auto'` has been deprecated in 1.1 and will be removed in 1.3. To keep the past behaviour, explicitly set `max_features='sqrt'` or remove this parameter as it is also the default value for RandomForestClassifiers and ExtraTreesClassifiers.\n",
      "\n",
      "C:\\Users\\fondo\\AppData\\Local\\Programs\\Python\\Python311\\Lib\\site-packages\\sklearn\\ensemble\\_forest.py:424: FutureWarning:\n",
      "\n",
      "`max_features='auto'` has been deprecated in 1.1 and will be removed in 1.3. To keep the past behaviour, explicitly set `max_features='sqrt'` or remove this parameter as it is also the default value for RandomForestClassifiers and ExtraTreesClassifiers.\n",
      "\n",
      "C:\\Users\\fondo\\AppData\\Local\\Programs\\Python\\Python311\\Lib\\site-packages\\sklearn\\ensemble\\_forest.py:424: FutureWarning:\n",
      "\n",
      "`max_features='auto'` has been deprecated in 1.1 and will be removed in 1.3. To keep the past behaviour, explicitly set `max_features='sqrt'` or remove this parameter as it is also the default value for RandomForestClassifiers and ExtraTreesClassifiers.\n",
      "\n",
      "C:\\Users\\fondo\\AppData\\Local\\Programs\\Python\\Python311\\Lib\\site-packages\\sklearn\\ensemble\\_forest.py:424: FutureWarning:\n",
      "\n",
      "`max_features='auto'` has been deprecated in 1.1 and will be removed in 1.3. To keep the past behaviour, explicitly set `max_features='sqrt'` or remove this parameter as it is also the default value for RandomForestClassifiers and ExtraTreesClassifiers.\n",
      "\n",
      "C:\\Users\\fondo\\AppData\\Local\\Programs\\Python\\Python311\\Lib\\site-packages\\sklearn\\ensemble\\_forest.py:424: FutureWarning:\n",
      "\n",
      "`max_features='auto'` has been deprecated in 1.1 and will be removed in 1.3. To keep the past behaviour, explicitly set `max_features='sqrt'` or remove this parameter as it is also the default value for RandomForestClassifiers and ExtraTreesClassifiers.\n",
      "\n",
      "C:\\Users\\fondo\\AppData\\Local\\Programs\\Python\\Python311\\Lib\\site-packages\\sklearn\\ensemble\\_forest.py:424: FutureWarning:\n",
      "\n",
      "`max_features='auto'` has been deprecated in 1.1 and will be removed in 1.3. To keep the past behaviour, explicitly set `max_features='sqrt'` or remove this parameter as it is also the default value for RandomForestClassifiers and ExtraTreesClassifiers.\n",
      "\n",
      "C:\\Users\\fondo\\AppData\\Local\\Programs\\Python\\Python311\\Lib\\site-packages\\sklearn\\ensemble\\_forest.py:424: FutureWarning:\n",
      "\n",
      "`max_features='auto'` has been deprecated in 1.1 and will be removed in 1.3. To keep the past behaviour, explicitly set `max_features='sqrt'` or remove this parameter as it is also the default value for RandomForestClassifiers and ExtraTreesClassifiers.\n",
      "\n",
      "C:\\Users\\fondo\\AppData\\Local\\Programs\\Python\\Python311\\Lib\\site-packages\\sklearn\\ensemble\\_forest.py:424: FutureWarning:\n",
      "\n",
      "`max_features='auto'` has been deprecated in 1.1 and will be removed in 1.3. To keep the past behaviour, explicitly set `max_features='sqrt'` or remove this parameter as it is also the default value for RandomForestClassifiers and ExtraTreesClassifiers.\n",
      "\n",
      "C:\\Users\\fondo\\AppData\\Local\\Programs\\Python\\Python311\\Lib\\site-packages\\sklearn\\ensemble\\_forest.py:424: FutureWarning:\n",
      "\n",
      "`max_features='auto'` has been deprecated in 1.1 and will be removed in 1.3. To keep the past behaviour, explicitly set `max_features='sqrt'` or remove this parameter as it is also the default value for RandomForestClassifiers and ExtraTreesClassifiers.\n",
      "\n",
      "C:\\Users\\fondo\\AppData\\Local\\Programs\\Python\\Python311\\Lib\\site-packages\\sklearn\\ensemble\\_forest.py:424: FutureWarning:\n",
      "\n",
      "`max_features='auto'` has been deprecated in 1.1 and will be removed in 1.3. To keep the past behaviour, explicitly set `max_features='sqrt'` or remove this parameter as it is also the default value for RandomForestClassifiers and ExtraTreesClassifiers.\n",
      "\n",
      "C:\\Users\\fondo\\AppData\\Local\\Programs\\Python\\Python311\\Lib\\site-packages\\sklearn\\ensemble\\_forest.py:424: FutureWarning:\n",
      "\n",
      "`max_features='auto'` has been deprecated in 1.1 and will be removed in 1.3. To keep the past behaviour, explicitly set `max_features='sqrt'` or remove this parameter as it is also the default value for RandomForestClassifiers and ExtraTreesClassifiers.\n",
      "\n",
      "C:\\Users\\fondo\\AppData\\Local\\Programs\\Python\\Python311\\Lib\\site-packages\\sklearn\\ensemble\\_forest.py:424: FutureWarning:\n",
      "\n",
      "`max_features='auto'` has been deprecated in 1.1 and will be removed in 1.3. To keep the past behaviour, explicitly set `max_features='sqrt'` or remove this parameter as it is also the default value for RandomForestClassifiers and ExtraTreesClassifiers.\n",
      "\n",
      "C:\\Users\\fondo\\AppData\\Local\\Programs\\Python\\Python311\\Lib\\site-packages\\sklearn\\ensemble\\_forest.py:424: FutureWarning:\n",
      "\n",
      "`max_features='auto'` has been deprecated in 1.1 and will be removed in 1.3. To keep the past behaviour, explicitly set `max_features='sqrt'` or remove this parameter as it is also the default value for RandomForestClassifiers and ExtraTreesClassifiers.\n",
      "\n",
      "C:\\Users\\fondo\\AppData\\Local\\Programs\\Python\\Python311\\Lib\\site-packages\\sklearn\\ensemble\\_forest.py:424: FutureWarning:\n",
      "\n",
      "`max_features='auto'` has been deprecated in 1.1 and will be removed in 1.3. To keep the past behaviour, explicitly set `max_features='sqrt'` or remove this parameter as it is also the default value for RandomForestClassifiers and ExtraTreesClassifiers.\n",
      "\n",
      "C:\\Users\\fondo\\AppData\\Local\\Programs\\Python\\Python311\\Lib\\site-packages\\sklearn\\ensemble\\_forest.py:424: FutureWarning:\n",
      "\n",
      "`max_features='auto'` has been deprecated in 1.1 and will be removed in 1.3. To keep the past behaviour, explicitly set `max_features='sqrt'` or remove this parameter as it is also the default value for RandomForestClassifiers and ExtraTreesClassifiers.\n",
      "\n"
     ]
    },
    {
     "name": "stderr",
     "output_type": "stream",
     "text": [
      "C:\\Users\\fondo\\AppData\\Local\\Programs\\Python\\Python311\\Lib\\site-packages\\sklearn\\ensemble\\_forest.py:424: FutureWarning:\n",
      "\n",
      "`max_features='auto'` has been deprecated in 1.1 and will be removed in 1.3. To keep the past behaviour, explicitly set `max_features='sqrt'` or remove this parameter as it is also the default value for RandomForestClassifiers and ExtraTreesClassifiers.\n",
      "\n",
      "C:\\Users\\fondo\\AppData\\Local\\Programs\\Python\\Python311\\Lib\\site-packages\\sklearn\\ensemble\\_forest.py:424: FutureWarning:\n",
      "\n",
      "`max_features='auto'` has been deprecated in 1.1 and will be removed in 1.3. To keep the past behaviour, explicitly set `max_features='sqrt'` or remove this parameter as it is also the default value for RandomForestClassifiers and ExtraTreesClassifiers.\n",
      "\n",
      "C:\\Users\\fondo\\AppData\\Local\\Programs\\Python\\Python311\\Lib\\site-packages\\sklearn\\ensemble\\_forest.py:424: FutureWarning:\n",
      "\n",
      "`max_features='auto'` has been deprecated in 1.1 and will be removed in 1.3. To keep the past behaviour, explicitly set `max_features='sqrt'` or remove this parameter as it is also the default value for RandomForestClassifiers and ExtraTreesClassifiers.\n",
      "\n",
      "C:\\Users\\fondo\\AppData\\Local\\Programs\\Python\\Python311\\Lib\\site-packages\\sklearn\\ensemble\\_forest.py:424: FutureWarning:\n",
      "\n",
      "`max_features='auto'` has been deprecated in 1.1 and will be removed in 1.3. To keep the past behaviour, explicitly set `max_features='sqrt'` or remove this parameter as it is also the default value for RandomForestClassifiers and ExtraTreesClassifiers.\n",
      "\n",
      "C:\\Users\\fondo\\AppData\\Local\\Programs\\Python\\Python311\\Lib\\site-packages\\sklearn\\ensemble\\_forest.py:424: FutureWarning:\n",
      "\n",
      "`max_features='auto'` has been deprecated in 1.1 and will be removed in 1.3. To keep the past behaviour, explicitly set `max_features='sqrt'` or remove this parameter as it is also the default value for RandomForestClassifiers and ExtraTreesClassifiers.\n",
      "\n",
      "C:\\Users\\fondo\\AppData\\Local\\Programs\\Python\\Python311\\Lib\\site-packages\\sklearn\\ensemble\\_forest.py:424: FutureWarning:\n",
      "\n",
      "`max_features='auto'` has been deprecated in 1.1 and will be removed in 1.3. To keep the past behaviour, explicitly set `max_features='sqrt'` or remove this parameter as it is also the default value for RandomForestClassifiers and ExtraTreesClassifiers.\n",
      "\n",
      "C:\\Users\\fondo\\AppData\\Local\\Programs\\Python\\Python311\\Lib\\site-packages\\sklearn\\ensemble\\_forest.py:424: FutureWarning:\n",
      "\n",
      "`max_features='auto'` has been deprecated in 1.1 and will be removed in 1.3. To keep the past behaviour, explicitly set `max_features='sqrt'` or remove this parameter as it is also the default value for RandomForestClassifiers and ExtraTreesClassifiers.\n",
      "\n",
      "C:\\Users\\fondo\\AppData\\Local\\Programs\\Python\\Python311\\Lib\\site-packages\\sklearn\\ensemble\\_forest.py:424: FutureWarning:\n",
      "\n",
      "`max_features='auto'` has been deprecated in 1.1 and will be removed in 1.3. To keep the past behaviour, explicitly set `max_features='sqrt'` or remove this parameter as it is also the default value for RandomForestClassifiers and ExtraTreesClassifiers.\n",
      "\n",
      "C:\\Users\\fondo\\AppData\\Local\\Programs\\Python\\Python311\\Lib\\site-packages\\sklearn\\ensemble\\_forest.py:424: FutureWarning:\n",
      "\n",
      "`max_features='auto'` has been deprecated in 1.1 and will be removed in 1.3. To keep the past behaviour, explicitly set `max_features='sqrt'` or remove this parameter as it is also the default value for RandomForestClassifiers and ExtraTreesClassifiers.\n",
      "\n",
      "C:\\Users\\fondo\\AppData\\Local\\Programs\\Python\\Python311\\Lib\\site-packages\\sklearn\\ensemble\\_forest.py:424: FutureWarning:\n",
      "\n",
      "`max_features='auto'` has been deprecated in 1.1 and will be removed in 1.3. To keep the past behaviour, explicitly set `max_features='sqrt'` or remove this parameter as it is also the default value for RandomForestClassifiers and ExtraTreesClassifiers.\n",
      "\n",
      "C:\\Users\\fondo\\AppData\\Local\\Programs\\Python\\Python311\\Lib\\site-packages\\sklearn\\ensemble\\_forest.py:424: FutureWarning:\n",
      "\n",
      "`max_features='auto'` has been deprecated in 1.1 and will be removed in 1.3. To keep the past behaviour, explicitly set `max_features='sqrt'` or remove this parameter as it is also the default value for RandomForestClassifiers and ExtraTreesClassifiers.\n",
      "\n",
      "C:\\Users\\fondo\\AppData\\Local\\Programs\\Python\\Python311\\Lib\\site-packages\\sklearn\\ensemble\\_forest.py:424: FutureWarning:\n",
      "\n",
      "`max_features='auto'` has been deprecated in 1.1 and will be removed in 1.3. To keep the past behaviour, explicitly set `max_features='sqrt'` or remove this parameter as it is also the default value for RandomForestClassifiers and ExtraTreesClassifiers.\n",
      "\n",
      "C:\\Users\\fondo\\AppData\\Local\\Programs\\Python\\Python311\\Lib\\site-packages\\sklearn\\ensemble\\_forest.py:424: FutureWarning:\n",
      "\n",
      "`max_features='auto'` has been deprecated in 1.1 and will be removed in 1.3. To keep the past behaviour, explicitly set `max_features='sqrt'` or remove this parameter as it is also the default value for RandomForestClassifiers and ExtraTreesClassifiers.\n",
      "\n",
      "C:\\Users\\fondo\\AppData\\Local\\Programs\\Python\\Python311\\Lib\\site-packages\\sklearn\\ensemble\\_forest.py:424: FutureWarning:\n",
      "\n",
      "`max_features='auto'` has been deprecated in 1.1 and will be removed in 1.3. To keep the past behaviour, explicitly set `max_features='sqrt'` or remove this parameter as it is also the default value for RandomForestClassifiers and ExtraTreesClassifiers.\n",
      "\n",
      "C:\\Users\\fondo\\AppData\\Local\\Programs\\Python\\Python311\\Lib\\site-packages\\sklearn\\ensemble\\_forest.py:424: FutureWarning:\n",
      "\n",
      "`max_features='auto'` has been deprecated in 1.1 and will be removed in 1.3. To keep the past behaviour, explicitly set `max_features='sqrt'` or remove this parameter as it is also the default value for RandomForestClassifiers and ExtraTreesClassifiers.\n",
      "\n",
      "C:\\Users\\fondo\\AppData\\Local\\Programs\\Python\\Python311\\Lib\\site-packages\\sklearn\\ensemble\\_forest.py:424: FutureWarning:\n",
      "\n",
      "`max_features='auto'` has been deprecated in 1.1 and will be removed in 1.3. To keep the past behaviour, explicitly set `max_features='sqrt'` or remove this parameter as it is also the default value for RandomForestClassifiers and ExtraTreesClassifiers.\n",
      "\n",
      "C:\\Users\\fondo\\AppData\\Local\\Programs\\Python\\Python311\\Lib\\site-packages\\sklearn\\ensemble\\_forest.py:424: FutureWarning:\n",
      "\n",
      "`max_features='auto'` has been deprecated in 1.1 and will be removed in 1.3. To keep the past behaviour, explicitly set `max_features='sqrt'` or remove this parameter as it is also the default value for RandomForestClassifiers and ExtraTreesClassifiers.\n",
      "\n",
      "C:\\Users\\fondo\\AppData\\Local\\Programs\\Python\\Python311\\Lib\\site-packages\\sklearn\\ensemble\\_forest.py:424: FutureWarning:\n",
      "\n",
      "`max_features='auto'` has been deprecated in 1.1 and will be removed in 1.3. To keep the past behaviour, explicitly set `max_features='sqrt'` or remove this parameter as it is also the default value for RandomForestClassifiers and ExtraTreesClassifiers.\n",
      "\n",
      "C:\\Users\\fondo\\AppData\\Local\\Programs\\Python\\Python311\\Lib\\site-packages\\sklearn\\ensemble\\_forest.py:424: FutureWarning:\n",
      "\n",
      "`max_features='auto'` has been deprecated in 1.1 and will be removed in 1.3. To keep the past behaviour, explicitly set `max_features='sqrt'` or remove this parameter as it is also the default value for RandomForestClassifiers and ExtraTreesClassifiers.\n",
      "\n",
      "C:\\Users\\fondo\\AppData\\Local\\Programs\\Python\\Python311\\Lib\\site-packages\\sklearn\\ensemble\\_forest.py:424: FutureWarning:\n",
      "\n",
      "`max_features='auto'` has been deprecated in 1.1 and will be removed in 1.3. To keep the past behaviour, explicitly set `max_features='sqrt'` or remove this parameter as it is also the default value for RandomForestClassifiers and ExtraTreesClassifiers.\n",
      "\n",
      "C:\\Users\\fondo\\AppData\\Local\\Programs\\Python\\Python311\\Lib\\site-packages\\sklearn\\ensemble\\_forest.py:424: FutureWarning:\n",
      "\n",
      "`max_features='auto'` has been deprecated in 1.1 and will be removed in 1.3. To keep the past behaviour, explicitly set `max_features='sqrt'` or remove this parameter as it is also the default value for RandomForestClassifiers and ExtraTreesClassifiers.\n",
      "\n",
      "C:\\Users\\fondo\\AppData\\Local\\Programs\\Python\\Python311\\Lib\\site-packages\\sklearn\\ensemble\\_forest.py:424: FutureWarning:\n",
      "\n",
      "`max_features='auto'` has been deprecated in 1.1 and will be removed in 1.3. To keep the past behaviour, explicitly set `max_features='sqrt'` or remove this parameter as it is also the default value for RandomForestClassifiers and ExtraTreesClassifiers.\n",
      "\n"
     ]
    },
    {
     "name": "stderr",
     "output_type": "stream",
     "text": [
      "C:\\Users\\fondo\\AppData\\Local\\Programs\\Python\\Python311\\Lib\\site-packages\\sklearn\\ensemble\\_forest.py:424: FutureWarning:\n",
      "\n",
      "`max_features='auto'` has been deprecated in 1.1 and will be removed in 1.3. To keep the past behaviour, explicitly set `max_features='sqrt'` or remove this parameter as it is also the default value for RandomForestClassifiers and ExtraTreesClassifiers.\n",
      "\n",
      "C:\\Users\\fondo\\AppData\\Local\\Programs\\Python\\Python311\\Lib\\site-packages\\sklearn\\ensemble\\_forest.py:424: FutureWarning:\n",
      "\n",
      "`max_features='auto'` has been deprecated in 1.1 and will be removed in 1.3. To keep the past behaviour, explicitly set `max_features='sqrt'` or remove this parameter as it is also the default value for RandomForestClassifiers and ExtraTreesClassifiers.\n",
      "\n",
      "C:\\Users\\fondo\\AppData\\Local\\Programs\\Python\\Python311\\Lib\\site-packages\\sklearn\\ensemble\\_forest.py:424: FutureWarning:\n",
      "\n",
      "`max_features='auto'` has been deprecated in 1.1 and will be removed in 1.3. To keep the past behaviour, explicitly set `max_features='sqrt'` or remove this parameter as it is also the default value for RandomForestClassifiers and ExtraTreesClassifiers.\n",
      "\n",
      "C:\\Users\\fondo\\AppData\\Local\\Programs\\Python\\Python311\\Lib\\site-packages\\sklearn\\ensemble\\_forest.py:424: FutureWarning:\n",
      "\n",
      "`max_features='auto'` has been deprecated in 1.1 and will be removed in 1.3. To keep the past behaviour, explicitly set `max_features='sqrt'` or remove this parameter as it is also the default value for RandomForestClassifiers and ExtraTreesClassifiers.\n",
      "\n",
      "C:\\Users\\fondo\\AppData\\Local\\Programs\\Python\\Python311\\Lib\\site-packages\\sklearn\\ensemble\\_forest.py:424: FutureWarning:\n",
      "\n",
      "`max_features='auto'` has been deprecated in 1.1 and will be removed in 1.3. To keep the past behaviour, explicitly set `max_features='sqrt'` or remove this parameter as it is also the default value for RandomForestClassifiers and ExtraTreesClassifiers.\n",
      "\n",
      "C:\\Users\\fondo\\AppData\\Local\\Programs\\Python\\Python311\\Lib\\site-packages\\sklearn\\ensemble\\_forest.py:424: FutureWarning:\n",
      "\n",
      "`max_features='auto'` has been deprecated in 1.1 and will be removed in 1.3. To keep the past behaviour, explicitly set `max_features='sqrt'` or remove this parameter as it is also the default value for RandomForestClassifiers and ExtraTreesClassifiers.\n",
      "\n",
      "C:\\Users\\fondo\\AppData\\Local\\Programs\\Python\\Python311\\Lib\\site-packages\\sklearn\\ensemble\\_forest.py:424: FutureWarning:\n",
      "\n",
      "`max_features='auto'` has been deprecated in 1.1 and will be removed in 1.3. To keep the past behaviour, explicitly set `max_features='sqrt'` or remove this parameter as it is also the default value for RandomForestClassifiers and ExtraTreesClassifiers.\n",
      "\n",
      "C:\\Users\\fondo\\AppData\\Local\\Programs\\Python\\Python311\\Lib\\site-packages\\sklearn\\ensemble\\_forest.py:424: FutureWarning:\n",
      "\n",
      "`max_features='auto'` has been deprecated in 1.1 and will be removed in 1.3. To keep the past behaviour, explicitly set `max_features='sqrt'` or remove this parameter as it is also the default value for RandomForestClassifiers and ExtraTreesClassifiers.\n",
      "\n",
      "C:\\Users\\fondo\\AppData\\Local\\Programs\\Python\\Python311\\Lib\\site-packages\\sklearn\\ensemble\\_forest.py:424: FutureWarning:\n",
      "\n",
      "`max_features='auto'` has been deprecated in 1.1 and will be removed in 1.3. To keep the past behaviour, explicitly set `max_features='sqrt'` or remove this parameter as it is also the default value for RandomForestClassifiers and ExtraTreesClassifiers.\n",
      "\n",
      "C:\\Users\\fondo\\AppData\\Local\\Programs\\Python\\Python311\\Lib\\site-packages\\sklearn\\ensemble\\_forest.py:424: FutureWarning:\n",
      "\n",
      "`max_features='auto'` has been deprecated in 1.1 and will be removed in 1.3. To keep the past behaviour, explicitly set `max_features='sqrt'` or remove this parameter as it is also the default value for RandomForestClassifiers and ExtraTreesClassifiers.\n",
      "\n",
      "C:\\Users\\fondo\\AppData\\Local\\Programs\\Python\\Python311\\Lib\\site-packages\\sklearn\\ensemble\\_forest.py:424: FutureWarning:\n",
      "\n",
      "`max_features='auto'` has been deprecated in 1.1 and will be removed in 1.3. To keep the past behaviour, explicitly set `max_features='sqrt'` or remove this parameter as it is also the default value for RandomForestClassifiers and ExtraTreesClassifiers.\n",
      "\n",
      "C:\\Users\\fondo\\AppData\\Local\\Programs\\Python\\Python311\\Lib\\site-packages\\sklearn\\ensemble\\_forest.py:424: FutureWarning:\n",
      "\n",
      "`max_features='auto'` has been deprecated in 1.1 and will be removed in 1.3. To keep the past behaviour, explicitly set `max_features='sqrt'` or remove this parameter as it is also the default value for RandomForestClassifiers and ExtraTreesClassifiers.\n",
      "\n",
      "C:\\Users\\fondo\\AppData\\Local\\Programs\\Python\\Python311\\Lib\\site-packages\\sklearn\\ensemble\\_forest.py:424: FutureWarning:\n",
      "\n",
      "`max_features='auto'` has been deprecated in 1.1 and will be removed in 1.3. To keep the past behaviour, explicitly set `max_features='sqrt'` or remove this parameter as it is also the default value for RandomForestClassifiers and ExtraTreesClassifiers.\n",
      "\n",
      "C:\\Users\\fondo\\AppData\\Local\\Programs\\Python\\Python311\\Lib\\site-packages\\sklearn\\ensemble\\_forest.py:424: FutureWarning:\n",
      "\n",
      "`max_features='auto'` has been deprecated in 1.1 and will be removed in 1.3. To keep the past behaviour, explicitly set `max_features='sqrt'` or remove this parameter as it is also the default value for RandomForestClassifiers and ExtraTreesClassifiers.\n",
      "\n",
      "C:\\Users\\fondo\\AppData\\Local\\Programs\\Python\\Python311\\Lib\\site-packages\\sklearn\\ensemble\\_forest.py:424: FutureWarning:\n",
      "\n",
      "`max_features='auto'` has been deprecated in 1.1 and will be removed in 1.3. To keep the past behaviour, explicitly set `max_features='sqrt'` or remove this parameter as it is also the default value for RandomForestClassifiers and ExtraTreesClassifiers.\n",
      "\n",
      "C:\\Users\\fondo\\AppData\\Local\\Programs\\Python\\Python311\\Lib\\site-packages\\sklearn\\ensemble\\_forest.py:424: FutureWarning:\n",
      "\n",
      "`max_features='auto'` has been deprecated in 1.1 and will be removed in 1.3. To keep the past behaviour, explicitly set `max_features='sqrt'` or remove this parameter as it is also the default value for RandomForestClassifiers and ExtraTreesClassifiers.\n",
      "\n",
      "C:\\Users\\fondo\\AppData\\Local\\Programs\\Python\\Python311\\Lib\\site-packages\\sklearn\\ensemble\\_forest.py:424: FutureWarning:\n",
      "\n",
      "`max_features='auto'` has been deprecated in 1.1 and will be removed in 1.3. To keep the past behaviour, explicitly set `max_features='sqrt'` or remove this parameter as it is also the default value for RandomForestClassifiers and ExtraTreesClassifiers.\n",
      "\n",
      "C:\\Users\\fondo\\AppData\\Local\\Programs\\Python\\Python311\\Lib\\site-packages\\sklearn\\ensemble\\_forest.py:424: FutureWarning:\n",
      "\n",
      "`max_features='auto'` has been deprecated in 1.1 and will be removed in 1.3. To keep the past behaviour, explicitly set `max_features='sqrt'` or remove this parameter as it is also the default value for RandomForestClassifiers and ExtraTreesClassifiers.\n",
      "\n",
      "C:\\Users\\fondo\\AppData\\Local\\Programs\\Python\\Python311\\Lib\\site-packages\\sklearn\\ensemble\\_forest.py:424: FutureWarning:\n",
      "\n",
      "`max_features='auto'` has been deprecated in 1.1 and will be removed in 1.3. To keep the past behaviour, explicitly set `max_features='sqrt'` or remove this parameter as it is also the default value for RandomForestClassifiers and ExtraTreesClassifiers.\n",
      "\n",
      "C:\\Users\\fondo\\AppData\\Local\\Programs\\Python\\Python311\\Lib\\site-packages\\sklearn\\ensemble\\_forest.py:424: FutureWarning:\n",
      "\n",
      "`max_features='auto'` has been deprecated in 1.1 and will be removed in 1.3. To keep the past behaviour, explicitly set `max_features='sqrt'` or remove this parameter as it is also the default value for RandomForestClassifiers and ExtraTreesClassifiers.\n",
      "\n",
      "C:\\Users\\fondo\\AppData\\Local\\Programs\\Python\\Python311\\Lib\\site-packages\\sklearn\\ensemble\\_forest.py:424: FutureWarning:\n",
      "\n",
      "`max_features='auto'` has been deprecated in 1.1 and will be removed in 1.3. To keep the past behaviour, explicitly set `max_features='sqrt'` or remove this parameter as it is also the default value for RandomForestClassifiers and ExtraTreesClassifiers.\n",
      "\n",
      "C:\\Users\\fondo\\AppData\\Local\\Programs\\Python\\Python311\\Lib\\site-packages\\sklearn\\ensemble\\_forest.py:424: FutureWarning:\n",
      "\n",
      "`max_features='auto'` has been deprecated in 1.1 and will be removed in 1.3. To keep the past behaviour, explicitly set `max_features='sqrt'` or remove this parameter as it is also the default value for RandomForestClassifiers and ExtraTreesClassifiers.\n",
      "\n"
     ]
    },
    {
     "name": "stderr",
     "output_type": "stream",
     "text": [
      "C:\\Users\\fondo\\AppData\\Local\\Programs\\Python\\Python311\\Lib\\site-packages\\sklearn\\ensemble\\_forest.py:424: FutureWarning:\n",
      "\n",
      "`max_features='auto'` has been deprecated in 1.1 and will be removed in 1.3. To keep the past behaviour, explicitly set `max_features='sqrt'` or remove this parameter as it is also the default value for RandomForestClassifiers and ExtraTreesClassifiers.\n",
      "\n",
      "C:\\Users\\fondo\\AppData\\Local\\Programs\\Python\\Python311\\Lib\\site-packages\\sklearn\\ensemble\\_forest.py:424: FutureWarning:\n",
      "\n",
      "`max_features='auto'` has been deprecated in 1.1 and will be removed in 1.3. To keep the past behaviour, explicitly set `max_features='sqrt'` or remove this parameter as it is also the default value for RandomForestClassifiers and ExtraTreesClassifiers.\n",
      "\n",
      "C:\\Users\\fondo\\AppData\\Local\\Programs\\Python\\Python311\\Lib\\site-packages\\sklearn\\ensemble\\_forest.py:424: FutureWarning:\n",
      "\n",
      "`max_features='auto'` has been deprecated in 1.1 and will be removed in 1.3. To keep the past behaviour, explicitly set `max_features='sqrt'` or remove this parameter as it is also the default value for RandomForestClassifiers and ExtraTreesClassifiers.\n",
      "\n",
      "C:\\Users\\fondo\\AppData\\Local\\Programs\\Python\\Python311\\Lib\\site-packages\\sklearn\\ensemble\\_forest.py:424: FutureWarning:\n",
      "\n",
      "`max_features='auto'` has been deprecated in 1.1 and will be removed in 1.3. To keep the past behaviour, explicitly set `max_features='sqrt'` or remove this parameter as it is also the default value for RandomForestClassifiers and ExtraTreesClassifiers.\n",
      "\n",
      "C:\\Users\\fondo\\AppData\\Local\\Programs\\Python\\Python311\\Lib\\site-packages\\sklearn\\ensemble\\_forest.py:424: FutureWarning:\n",
      "\n",
      "`max_features='auto'` has been deprecated in 1.1 and will be removed in 1.3. To keep the past behaviour, explicitly set `max_features='sqrt'` or remove this parameter as it is also the default value for RandomForestClassifiers and ExtraTreesClassifiers.\n",
      "\n",
      "C:\\Users\\fondo\\AppData\\Local\\Programs\\Python\\Python311\\Lib\\site-packages\\sklearn\\ensemble\\_forest.py:424: FutureWarning:\n",
      "\n",
      "`max_features='auto'` has been deprecated in 1.1 and will be removed in 1.3. To keep the past behaviour, explicitly set `max_features='sqrt'` or remove this parameter as it is also the default value for RandomForestClassifiers and ExtraTreesClassifiers.\n",
      "\n",
      "C:\\Users\\fondo\\AppData\\Local\\Programs\\Python\\Python311\\Lib\\site-packages\\sklearn\\ensemble\\_forest.py:424: FutureWarning:\n",
      "\n",
      "`max_features='auto'` has been deprecated in 1.1 and will be removed in 1.3. To keep the past behaviour, explicitly set `max_features='sqrt'` or remove this parameter as it is also the default value for RandomForestClassifiers and ExtraTreesClassifiers.\n",
      "\n",
      "C:\\Users\\fondo\\AppData\\Local\\Programs\\Python\\Python311\\Lib\\site-packages\\sklearn\\ensemble\\_forest.py:424: FutureWarning:\n",
      "\n",
      "`max_features='auto'` has been deprecated in 1.1 and will be removed in 1.3. To keep the past behaviour, explicitly set `max_features='sqrt'` or remove this parameter as it is also the default value for RandomForestClassifiers and ExtraTreesClassifiers.\n",
      "\n",
      "C:\\Users\\fondo\\AppData\\Local\\Programs\\Python\\Python311\\Lib\\site-packages\\sklearn\\ensemble\\_forest.py:424: FutureWarning:\n",
      "\n",
      "`max_features='auto'` has been deprecated in 1.1 and will be removed in 1.3. To keep the past behaviour, explicitly set `max_features='sqrt'` or remove this parameter as it is also the default value for RandomForestClassifiers and ExtraTreesClassifiers.\n",
      "\n"
     ]
    },
    {
     "name": "stdout",
     "output_type": "stream",
     "text": [
      "Best Parameters: {'max_depth': None, 'max_features': 'auto', 'min_samples_leaf': 1, 'min_samples_split': 2, 'n_estimators': 50}\n",
      "Best Score: 0.9372184262281786\n"
     ]
    }
   ],
   "source": [
    "\n",
    "#Hyperparameter Tuning dengan Grid Search\n",
    "param_grid = {\n",
    "'n_estimators': [50, 100, 200],\n",
    "'max_depth': [None, 5, 10],\n",
    "'min_samples_split': [2, 5, 10],\n",
    "'min_samples_leaf': [1, 2, 4],\n",
    "'max_features': ['auto', 'sqrt']\n",
    "}\n",
    "grid_search = GridSearchCV(model, param_grid, cv=2, scoring='accuracy')\n",
    "grid_search.fit(X_train, y_train)\n",
    "print(\"Best Parameters:\", grid_search.best_params_)\n",
    "print(\"Best Score:\", grid_search.best_score_)"
   ]
  },
  {
   "cell_type": "code",
   "execution_count": 27,
   "id": "8ca9babf",
   "metadata": {
    "scrolled": false
   },
   "outputs": [
    {
     "name": "stderr",
     "output_type": "stream",
     "text": [
      "C:\\Users\\fondo\\AppData\\Local\\Programs\\Python\\Python311\\Lib\\site-packages\\sklearn\\ensemble\\_forest.py:424: FutureWarning:\n",
      "\n",
      "`max_features='auto'` has been deprecated in 1.1 and will be removed in 1.3. To keep the past behaviour, explicitly set `max_features='sqrt'` or remove this parameter as it is also the default value for RandomForestClassifiers and ExtraTreesClassifiers.\n",
      "\n"
     ]
    },
    {
     "name": "stdout",
     "output_type": "stream",
     "text": [
      "Accuracy (Best Parameters): 0.9459616502033701\n"
     ]
    }
   ],
   "source": [
    "#Training dengan Parameter Terbaik\n",
    "best_model = RandomForestClassifier(n_estimators=grid_search.best_params_['n_estimators'],\n",
    "max_depth=grid_search.best_params_['max_depth'],\n",
    "min_samples_split=grid_search.best_params_['min_samples_split'],\n",
    "min_samples_leaf=grid_search.best_params_['min_samples_leaf'],\n",
    "max_features=grid_search.best_params_['max_features'],\n",
    "random_state=42)\n",
    "best_model.fit(X_train, y_train)\n",
    "y_pred = best_model.predict(X_test)\n",
    "accuracy = accuracy_score(y_test, y_pred)\n",
    "print(\"Accuracy (Best Parameters):\", accuracy)"
   ]
  },
  {
   "cell_type": "code",
   "execution_count": 28,
   "id": "21d804a0",
   "metadata": {},
   "outputs": [
    {
     "name": "stdout",
     "output_type": "stream",
     "text": [
      "Fitting 2 folds for each of 64 candidates, totalling 128 fits\n"
     ]
    }
   ],
   "source": [
    "from sklearn.tree import DecisionTreeClassifier\n",
    "from sklearn.model_selection import GridSearchCV\n",
    "\n",
    "dt = DecisionTreeClassifier(random_state=42)\n",
    "params = {'max_depth': [5, 10, 15, 20],\n",
    "          'min_samples_split': [2, 5, 10, 15],\n",
    "          'min_samples_leaf': [1, 2, 5, 10]}\n",
    "dt_grid = GridSearchCV(dt, param_grid=params, scoring='accuracy', cv=2, verbose=1)\n",
    "dt_grid.fit(X_train, y_train)\n",
    "\n",
    "dt_best_params = dt_grid.best_params_\n",
    "dt_best_score = dt_grid.best_score_"
   ]
  },
  {
   "cell_type": "code",
   "execution_count": 29,
   "id": "65f2cebd",
   "metadata": {},
   "outputs": [
    {
     "name": "stdout",
     "output_type": "stream",
     "text": [
      "Fitting 2 folds for each of 16 candidates, totalling 32 fits\n"
     ]
    }
   ],
   "source": [
    "from sklearn.ensemble import RandomForestClassifier\n",
    "from sklearn.model_selection import GridSearchCV\n",
    "\n",
    "rf = RandomForestClassifier(random_state=42)\n",
    "params = {'n_estimators': [100, 200],\n",
    "          'max_depth': [5, 10],\n",
    "          'min_samples_split': [2, 15],\n",
    "          'min_samples_leaf': [1, 10]}\n",
    "rf_grid = GridSearchCV(rf, param_grid=params, scoring='accuracy', cv=2, verbose=1)\n",
    "rf_grid.fit(X_train, y_train)\n",
    "\n",
    "rf_best_params = rf_grid.best_params_\n",
    "rf_best_score = rf_grid.best_score_"
   ]
  },
  {
   "cell_type": "code",
   "execution_count": 30,
   "id": "004f5473",
   "metadata": {},
   "outputs": [
    {
     "data": {
      "text/html": [
       "<style>#sk-container-id-1 {color: black;background-color: white;}#sk-container-id-1 pre{padding: 0;}#sk-container-id-1 div.sk-toggleable {background-color: white;}#sk-container-id-1 label.sk-toggleable__label {cursor: pointer;display: block;width: 100%;margin-bottom: 0;padding: 0.3em;box-sizing: border-box;text-align: center;}#sk-container-id-1 label.sk-toggleable__label-arrow:before {content: \"▸\";float: left;margin-right: 0.25em;color: #696969;}#sk-container-id-1 label.sk-toggleable__label-arrow:hover:before {color: black;}#sk-container-id-1 div.sk-estimator:hover label.sk-toggleable__label-arrow:before {color: black;}#sk-container-id-1 div.sk-toggleable__content {max-height: 0;max-width: 0;overflow: hidden;text-align: left;background-color: #f0f8ff;}#sk-container-id-1 div.sk-toggleable__content pre {margin: 0.2em;color: black;border-radius: 0.25em;background-color: #f0f8ff;}#sk-container-id-1 input.sk-toggleable__control:checked~div.sk-toggleable__content {max-height: 200px;max-width: 100%;overflow: auto;}#sk-container-id-1 input.sk-toggleable__control:checked~label.sk-toggleable__label-arrow:before {content: \"▾\";}#sk-container-id-1 div.sk-estimator input.sk-toggleable__control:checked~label.sk-toggleable__label {background-color: #d4ebff;}#sk-container-id-1 div.sk-label input.sk-toggleable__control:checked~label.sk-toggleable__label {background-color: #d4ebff;}#sk-container-id-1 input.sk-hidden--visually {border: 0;clip: rect(1px 1px 1px 1px);clip: rect(1px, 1px, 1px, 1px);height: 1px;margin: -1px;overflow: hidden;padding: 0;position: absolute;width: 1px;}#sk-container-id-1 div.sk-estimator {font-family: monospace;background-color: #f0f8ff;border: 1px dotted black;border-radius: 0.25em;box-sizing: border-box;margin-bottom: 0.5em;}#sk-container-id-1 div.sk-estimator:hover {background-color: #d4ebff;}#sk-container-id-1 div.sk-parallel-item::after {content: \"\";width: 100%;border-bottom: 1px solid gray;flex-grow: 1;}#sk-container-id-1 div.sk-label:hover label.sk-toggleable__label {background-color: #d4ebff;}#sk-container-id-1 div.sk-serial::before {content: \"\";position: absolute;border-left: 1px solid gray;box-sizing: border-box;top: 0;bottom: 0;left: 50%;z-index: 0;}#sk-container-id-1 div.sk-serial {display: flex;flex-direction: column;align-items: center;background-color: white;padding-right: 0.2em;padding-left: 0.2em;position: relative;}#sk-container-id-1 div.sk-item {position: relative;z-index: 1;}#sk-container-id-1 div.sk-parallel {display: flex;align-items: stretch;justify-content: center;background-color: white;position: relative;}#sk-container-id-1 div.sk-item::before, #sk-container-id-1 div.sk-parallel-item::before {content: \"\";position: absolute;border-left: 1px solid gray;box-sizing: border-box;top: 0;bottom: 0;left: 50%;z-index: -1;}#sk-container-id-1 div.sk-parallel-item {display: flex;flex-direction: column;z-index: 1;position: relative;background-color: white;}#sk-container-id-1 div.sk-parallel-item:first-child::after {align-self: flex-end;width: 50%;}#sk-container-id-1 div.sk-parallel-item:last-child::after {align-self: flex-start;width: 50%;}#sk-container-id-1 div.sk-parallel-item:only-child::after {width: 0;}#sk-container-id-1 div.sk-dashed-wrapped {border: 1px dashed gray;margin: 0 0.4em 0.5em 0.4em;box-sizing: border-box;padding-bottom: 0.4em;background-color: white;}#sk-container-id-1 div.sk-label label {font-family: monospace;font-weight: bold;display: inline-block;line-height: 1.2em;}#sk-container-id-1 div.sk-label-container {text-align: center;}#sk-container-id-1 div.sk-container {/* jupyter's `normalize.less` sets `[hidden] { display: none; }` but bootstrap.min.css set `[hidden] { display: none !important; }` so we also need the `!important` here to be able to override the default hidden behavior on the sphinx rendered scikit-learn.org. See: https://github.com/scikit-learn/scikit-learn/issues/21755 */display: inline-block !important;position: relative;}#sk-container-id-1 div.sk-text-repr-fallback {display: none;}</style><div id=\"sk-container-id-1\" class=\"sk-top-container\"><div class=\"sk-text-repr-fallback\"><pre>SVC(random_state=42)</pre><b>In a Jupyter environment, please rerun this cell to show the HTML representation or trust the notebook. <br />On GitHub, the HTML representation is unable to render, please try loading this page with nbviewer.org.</b></div><div class=\"sk-container\" hidden><div class=\"sk-item\"><div class=\"sk-estimator sk-toggleable\"><input class=\"sk-toggleable__control sk-hidden--visually\" id=\"sk-estimator-id-1\" type=\"checkbox\" checked><label for=\"sk-estimator-id-1\" class=\"sk-toggleable__label sk-toggleable__label-arrow\">SVC</label><div class=\"sk-toggleable__content\"><pre>SVC(random_state=42)</pre></div></div></div></div></div>"
      ],
      "text/plain": [
       "SVC(random_state=42)"
      ]
     },
     "execution_count": 30,
     "metadata": {},
     "output_type": "execute_result"
    }
   ],
   "source": [
    "from sklearn.svm import SVC\n",
    "from sklearn.model_selection import GridSearchCV\n",
    "\n",
    "svm = SVC(random_state=42)\n",
    "svm.fit(X_train, y_train)"
   ]
  },
  {
   "cell_type": "code",
   "execution_count": null,
   "id": "b2f35a8d",
   "metadata": {},
   "outputs": [],
   "source": []
  },
  {
   "cell_type": "code",
   "execution_count": 31,
   "id": "c74f8dbd",
   "metadata": {},
   "outputs": [
    {
     "name": "stderr",
     "output_type": "stream",
     "text": [
      "C:\\Users\\fondo\\AppData\\Local\\Programs\\Python\\Python311\\Lib\\site-packages\\sklearn\\linear_model\\_logistic.py:458: ConvergenceWarning:\n",
      "\n",
      "lbfgs failed to converge (status=1):\n",
      "STOP: TOTAL NO. of ITERATIONS REACHED LIMIT.\n",
      "\n",
      "Increase the number of iterations (max_iter) or scale the data as shown in:\n",
      "    https://scikit-learn.org/stable/modules/preprocessing.html\n",
      "Please also refer to the documentation for alternative solver options:\n",
      "    https://scikit-learn.org/stable/modules/linear_model.html#logistic-regression\n",
      "\n"
     ]
    },
    {
     "data": {
      "text/html": [
       "<style>#sk-container-id-2 {color: black;background-color: white;}#sk-container-id-2 pre{padding: 0;}#sk-container-id-2 div.sk-toggleable {background-color: white;}#sk-container-id-2 label.sk-toggleable__label {cursor: pointer;display: block;width: 100%;margin-bottom: 0;padding: 0.3em;box-sizing: border-box;text-align: center;}#sk-container-id-2 label.sk-toggleable__label-arrow:before {content: \"▸\";float: left;margin-right: 0.25em;color: #696969;}#sk-container-id-2 label.sk-toggleable__label-arrow:hover:before {color: black;}#sk-container-id-2 div.sk-estimator:hover label.sk-toggleable__label-arrow:before {color: black;}#sk-container-id-2 div.sk-toggleable__content {max-height: 0;max-width: 0;overflow: hidden;text-align: left;background-color: #f0f8ff;}#sk-container-id-2 div.sk-toggleable__content pre {margin: 0.2em;color: black;border-radius: 0.25em;background-color: #f0f8ff;}#sk-container-id-2 input.sk-toggleable__control:checked~div.sk-toggleable__content {max-height: 200px;max-width: 100%;overflow: auto;}#sk-container-id-2 input.sk-toggleable__control:checked~label.sk-toggleable__label-arrow:before {content: \"▾\";}#sk-container-id-2 div.sk-estimator input.sk-toggleable__control:checked~label.sk-toggleable__label {background-color: #d4ebff;}#sk-container-id-2 div.sk-label input.sk-toggleable__control:checked~label.sk-toggleable__label {background-color: #d4ebff;}#sk-container-id-2 input.sk-hidden--visually {border: 0;clip: rect(1px 1px 1px 1px);clip: rect(1px, 1px, 1px, 1px);height: 1px;margin: -1px;overflow: hidden;padding: 0;position: absolute;width: 1px;}#sk-container-id-2 div.sk-estimator {font-family: monospace;background-color: #f0f8ff;border: 1px dotted black;border-radius: 0.25em;box-sizing: border-box;margin-bottom: 0.5em;}#sk-container-id-2 div.sk-estimator:hover {background-color: #d4ebff;}#sk-container-id-2 div.sk-parallel-item::after {content: \"\";width: 100%;border-bottom: 1px solid gray;flex-grow: 1;}#sk-container-id-2 div.sk-label:hover label.sk-toggleable__label {background-color: #d4ebff;}#sk-container-id-2 div.sk-serial::before {content: \"\";position: absolute;border-left: 1px solid gray;box-sizing: border-box;top: 0;bottom: 0;left: 50%;z-index: 0;}#sk-container-id-2 div.sk-serial {display: flex;flex-direction: column;align-items: center;background-color: white;padding-right: 0.2em;padding-left: 0.2em;position: relative;}#sk-container-id-2 div.sk-item {position: relative;z-index: 1;}#sk-container-id-2 div.sk-parallel {display: flex;align-items: stretch;justify-content: center;background-color: white;position: relative;}#sk-container-id-2 div.sk-item::before, #sk-container-id-2 div.sk-parallel-item::before {content: \"\";position: absolute;border-left: 1px solid gray;box-sizing: border-box;top: 0;bottom: 0;left: 50%;z-index: -1;}#sk-container-id-2 div.sk-parallel-item {display: flex;flex-direction: column;z-index: 1;position: relative;background-color: white;}#sk-container-id-2 div.sk-parallel-item:first-child::after {align-self: flex-end;width: 50%;}#sk-container-id-2 div.sk-parallel-item:last-child::after {align-self: flex-start;width: 50%;}#sk-container-id-2 div.sk-parallel-item:only-child::after {width: 0;}#sk-container-id-2 div.sk-dashed-wrapped {border: 1px dashed gray;margin: 0 0.4em 0.5em 0.4em;box-sizing: border-box;padding-bottom: 0.4em;background-color: white;}#sk-container-id-2 div.sk-label label {font-family: monospace;font-weight: bold;display: inline-block;line-height: 1.2em;}#sk-container-id-2 div.sk-label-container {text-align: center;}#sk-container-id-2 div.sk-container {/* jupyter's `normalize.less` sets `[hidden] { display: none; }` but bootstrap.min.css set `[hidden] { display: none !important; }` so we also need the `!important` here to be able to override the default hidden behavior on the sphinx rendered scikit-learn.org. See: https://github.com/scikit-learn/scikit-learn/issues/21755 */display: inline-block !important;position: relative;}#sk-container-id-2 div.sk-text-repr-fallback {display: none;}</style><div id=\"sk-container-id-2\" class=\"sk-top-container\"><div class=\"sk-text-repr-fallback\"><pre>LogisticRegression(random_state=42)</pre><b>In a Jupyter environment, please rerun this cell to show the HTML representation or trust the notebook. <br />On GitHub, the HTML representation is unable to render, please try loading this page with nbviewer.org.</b></div><div class=\"sk-container\" hidden><div class=\"sk-item\"><div class=\"sk-estimator sk-toggleable\"><input class=\"sk-toggleable__control sk-hidden--visually\" id=\"sk-estimator-id-2\" type=\"checkbox\" checked><label for=\"sk-estimator-id-2\" class=\"sk-toggleable__label sk-toggleable__label-arrow\">LogisticRegression</label><div class=\"sk-toggleable__content\"><pre>LogisticRegression(random_state=42)</pre></div></div></div></div></div>"
      ],
      "text/plain": [
       "LogisticRegression(random_state=42)"
      ]
     },
     "execution_count": 31,
     "metadata": {},
     "output_type": "execute_result"
    }
   ],
   "source": [
    "from sklearn.linear_model import LogisticRegression\n",
    "\n",
    "lr = LogisticRegression(random_state=42)\n",
    "lr.fit(X_train, y_train)\n"
   ]
  },
  {
   "cell_type": "code",
   "execution_count": 32,
   "id": "a0c7bffb",
   "metadata": {},
   "outputs": [
    {
     "data": {
      "text/html": [
       "<style>#sk-container-id-3 {color: black;background-color: white;}#sk-container-id-3 pre{padding: 0;}#sk-container-id-3 div.sk-toggleable {background-color: white;}#sk-container-id-3 label.sk-toggleable__label {cursor: pointer;display: block;width: 100%;margin-bottom: 0;padding: 0.3em;box-sizing: border-box;text-align: center;}#sk-container-id-3 label.sk-toggleable__label-arrow:before {content: \"▸\";float: left;margin-right: 0.25em;color: #696969;}#sk-container-id-3 label.sk-toggleable__label-arrow:hover:before {color: black;}#sk-container-id-3 div.sk-estimator:hover label.sk-toggleable__label-arrow:before {color: black;}#sk-container-id-3 div.sk-toggleable__content {max-height: 0;max-width: 0;overflow: hidden;text-align: left;background-color: #f0f8ff;}#sk-container-id-3 div.sk-toggleable__content pre {margin: 0.2em;color: black;border-radius: 0.25em;background-color: #f0f8ff;}#sk-container-id-3 input.sk-toggleable__control:checked~div.sk-toggleable__content {max-height: 200px;max-width: 100%;overflow: auto;}#sk-container-id-3 input.sk-toggleable__control:checked~label.sk-toggleable__label-arrow:before {content: \"▾\";}#sk-container-id-3 div.sk-estimator input.sk-toggleable__control:checked~label.sk-toggleable__label {background-color: #d4ebff;}#sk-container-id-3 div.sk-label input.sk-toggleable__control:checked~label.sk-toggleable__label {background-color: #d4ebff;}#sk-container-id-3 input.sk-hidden--visually {border: 0;clip: rect(1px 1px 1px 1px);clip: rect(1px, 1px, 1px, 1px);height: 1px;margin: -1px;overflow: hidden;padding: 0;position: absolute;width: 1px;}#sk-container-id-3 div.sk-estimator {font-family: monospace;background-color: #f0f8ff;border: 1px dotted black;border-radius: 0.25em;box-sizing: border-box;margin-bottom: 0.5em;}#sk-container-id-3 div.sk-estimator:hover {background-color: #d4ebff;}#sk-container-id-3 div.sk-parallel-item::after {content: \"\";width: 100%;border-bottom: 1px solid gray;flex-grow: 1;}#sk-container-id-3 div.sk-label:hover label.sk-toggleable__label {background-color: #d4ebff;}#sk-container-id-3 div.sk-serial::before {content: \"\";position: absolute;border-left: 1px solid gray;box-sizing: border-box;top: 0;bottom: 0;left: 50%;z-index: 0;}#sk-container-id-3 div.sk-serial {display: flex;flex-direction: column;align-items: center;background-color: white;padding-right: 0.2em;padding-left: 0.2em;position: relative;}#sk-container-id-3 div.sk-item {position: relative;z-index: 1;}#sk-container-id-3 div.sk-parallel {display: flex;align-items: stretch;justify-content: center;background-color: white;position: relative;}#sk-container-id-3 div.sk-item::before, #sk-container-id-3 div.sk-parallel-item::before {content: \"\";position: absolute;border-left: 1px solid gray;box-sizing: border-box;top: 0;bottom: 0;left: 50%;z-index: -1;}#sk-container-id-3 div.sk-parallel-item {display: flex;flex-direction: column;z-index: 1;position: relative;background-color: white;}#sk-container-id-3 div.sk-parallel-item:first-child::after {align-self: flex-end;width: 50%;}#sk-container-id-3 div.sk-parallel-item:last-child::after {align-self: flex-start;width: 50%;}#sk-container-id-3 div.sk-parallel-item:only-child::after {width: 0;}#sk-container-id-3 div.sk-dashed-wrapped {border: 1px dashed gray;margin: 0 0.4em 0.5em 0.4em;box-sizing: border-box;padding-bottom: 0.4em;background-color: white;}#sk-container-id-3 div.sk-label label {font-family: monospace;font-weight: bold;display: inline-block;line-height: 1.2em;}#sk-container-id-3 div.sk-label-container {text-align: center;}#sk-container-id-3 div.sk-container {/* jupyter's `normalize.less` sets `[hidden] { display: none; }` but bootstrap.min.css set `[hidden] { display: none !important; }` so we also need the `!important` here to be able to override the default hidden behavior on the sphinx rendered scikit-learn.org. See: https://github.com/scikit-learn/scikit-learn/issues/21755 */display: inline-block !important;position: relative;}#sk-container-id-3 div.sk-text-repr-fallback {display: none;}</style><div id=\"sk-container-id-3\" class=\"sk-top-container\"><div class=\"sk-text-repr-fallback\"><pre>GradientBoostingClassifier(random_state=42)</pre><b>In a Jupyter environment, please rerun this cell to show the HTML representation or trust the notebook. <br />On GitHub, the HTML representation is unable to render, please try loading this page with nbviewer.org.</b></div><div class=\"sk-container\" hidden><div class=\"sk-item\"><div class=\"sk-estimator sk-toggleable\"><input class=\"sk-toggleable__control sk-hidden--visually\" id=\"sk-estimator-id-3\" type=\"checkbox\" checked><label for=\"sk-estimator-id-3\" class=\"sk-toggleable__label sk-toggleable__label-arrow\">GradientBoostingClassifier</label><div class=\"sk-toggleable__content\"><pre>GradientBoostingClassifier(random_state=42)</pre></div></div></div></div></div>"
      ],
      "text/plain": [
       "GradientBoostingClassifier(random_state=42)"
      ]
     },
     "execution_count": 32,
     "metadata": {},
     "output_type": "execute_result"
    }
   ],
   "source": [
    "from sklearn.ensemble import GradientBoostingClassifier\n",
    "from sklearn.model_selection import GridSearchCV\n",
    "\n",
    "gbc = GradientBoostingClassifier(random_state=42)\n",
    "gbc.fit(X_train, y_train)\n"
   ]
  },
  {
   "cell_type": "code",
   "execution_count": 33,
   "id": "772c7742",
   "metadata": {},
   "outputs": [
    {
     "name": "stderr",
     "output_type": "stream",
     "text": [
      "C:\\Users\\fondo\\AppData\\Local\\Programs\\Python\\Python311\\Lib\\site-packages\\sklearn\\metrics\\_classification.py:1344: UndefinedMetricWarning:\n",
      "\n",
      "Precision and F-score are ill-defined and being set to 0.0 in labels with no predicted samples. Use `zero_division` parameter to control this behavior.\n",
      "\n",
      "C:\\Users\\fondo\\AppData\\Local\\Programs\\Python\\Python311\\Lib\\site-packages\\sklearn\\metrics\\_classification.py:1344: UndefinedMetricWarning:\n",
      "\n",
      "Precision and F-score are ill-defined and being set to 0.0 in labels with no predicted samples. Use `zero_division` parameter to control this behavior.\n",
      "\n",
      "C:\\Users\\fondo\\AppData\\Local\\Programs\\Python\\Python311\\Lib\\site-packages\\sklearn\\metrics\\_classification.py:1344: UndefinedMetricWarning:\n",
      "\n",
      "Precision and F-score are ill-defined and being set to 0.0 in labels with no predicted samples. Use `zero_division` parameter to control this behavior.\n",
      "\n",
      "C:\\Users\\fondo\\AppData\\Local\\Programs\\Python\\Python311\\Lib\\site-packages\\sklearn\\metrics\\_classification.py:1344: UndefinedMetricWarning:\n",
      "\n",
      "Precision and F-score are ill-defined and being set to 0.0 in labels with no predicted samples. Use `zero_division` parameter to control this behavior.\n",
      "\n",
      "C:\\Users\\fondo\\AppData\\Local\\Programs\\Python\\Python311\\Lib\\site-packages\\sklearn\\metrics\\_classification.py:1344: UndefinedMetricWarning:\n",
      "\n",
      "Precision and F-score are ill-defined and being set to 0.0 in labels with no predicted samples. Use `zero_division` parameter to control this behavior.\n",
      "\n",
      "C:\\Users\\fondo\\AppData\\Local\\Programs\\Python\\Python311\\Lib\\site-packages\\sklearn\\metrics\\_classification.py:1344: UndefinedMetricWarning:\n",
      "\n",
      "Precision and F-score are ill-defined and being set to 0.0 in labels with no predicted samples. Use `zero_division` parameter to control this behavior.\n",
      "\n",
      "C:\\Users\\fondo\\AppData\\Local\\Programs\\Python\\Python311\\Lib\\site-packages\\sklearn\\metrics\\_classification.py:1344: UndefinedMetricWarning:\n",
      "\n",
      "Precision and F-score are ill-defined and being set to 0.0 in labels with no predicted samples. Use `zero_division` parameter to control this behavior.\n",
      "\n",
      "C:\\Users\\fondo\\AppData\\Local\\Programs\\Python\\Python311\\Lib\\site-packages\\sklearn\\metrics\\_classification.py:1344: UndefinedMetricWarning:\n",
      "\n",
      "Precision and F-score are ill-defined and being set to 0.0 in labels with no predicted samples. Use `zero_division` parameter to control this behavior.\n",
      "\n",
      "C:\\Users\\fondo\\AppData\\Local\\Programs\\Python\\Python311\\Lib\\site-packages\\sklearn\\metrics\\_classification.py:1344: UndefinedMetricWarning:\n",
      "\n",
      "Precision and F-score are ill-defined and being set to 0.0 in labels with no predicted samples. Use `zero_division` parameter to control this behavior.\n",
      "\n",
      "C:\\Users\\fondo\\AppData\\Local\\Programs\\Python\\Python311\\Lib\\site-packages\\sklearn\\metrics\\_classification.py:1344: UndefinedMetricWarning:\n",
      "\n",
      "Precision and F-score are ill-defined and being set to 0.0 in labels with no predicted samples. Use `zero_division` parameter to control this behavior.\n",
      "\n",
      "C:\\Users\\fondo\\AppData\\Local\\Programs\\Python\\Python311\\Lib\\site-packages\\sklearn\\metrics\\_classification.py:1344: UndefinedMetricWarning:\n",
      "\n",
      "Precision and F-score are ill-defined and being set to 0.0 in labels with no predicted samples. Use `zero_division` parameter to control this behavior.\n",
      "\n",
      "C:\\Users\\fondo\\AppData\\Local\\Programs\\Python\\Python311\\Lib\\site-packages\\sklearn\\metrics\\_classification.py:1344: UndefinedMetricWarning:\n",
      "\n",
      "Precision and F-score are ill-defined and being set to 0.0 in labels with no predicted samples. Use `zero_division` parameter to control this behavior.\n",
      "\n",
      "C:\\Users\\fondo\\AppData\\Local\\Programs\\Python\\Python311\\Lib\\site-packages\\sklearn\\metrics\\_classification.py:1344: UndefinedMetricWarning:\n",
      "\n",
      "Precision and F-score are ill-defined and being set to 0.0 in labels with no predicted samples. Use `zero_division` parameter to control this behavior.\n",
      "\n",
      "C:\\Users\\fondo\\AppData\\Local\\Programs\\Python\\Python311\\Lib\\site-packages\\sklearn\\metrics\\_classification.py:1344: UndefinedMetricWarning:\n",
      "\n",
      "Precision and F-score are ill-defined and being set to 0.0 in labels with no predicted samples. Use `zero_division` parameter to control this behavior.\n",
      "\n",
      "C:\\Users\\fondo\\AppData\\Local\\Programs\\Python\\Python311\\Lib\\site-packages\\sklearn\\metrics\\_classification.py:1344: UndefinedMetricWarning:\n",
      "\n",
      "Precision and F-score are ill-defined and being set to 0.0 in labels with no predicted samples. Use `zero_division` parameter to control this behavior.\n",
      "\n",
      "C:\\Users\\fondo\\AppData\\Local\\Programs\\Python\\Python311\\Lib\\site-packages\\sklearn\\metrics\\_classification.py:1344: UndefinedMetricWarning:\n",
      "\n",
      "Precision and F-score are ill-defined and being set to 0.0 in labels with no predicted samples. Use `zero_division` parameter to control this behavior.\n",
      "\n",
      "C:\\Users\\fondo\\AppData\\Local\\Programs\\Python\\Python311\\Lib\\site-packages\\sklearn\\metrics\\_classification.py:1344: UndefinedMetricWarning:\n",
      "\n",
      "Precision and F-score are ill-defined and being set to 0.0 in labels with no predicted samples. Use `zero_division` parameter to control this behavior.\n",
      "\n",
      "C:\\Users\\fondo\\AppData\\Local\\Programs\\Python\\Python311\\Lib\\site-packages\\sklearn\\metrics\\_classification.py:1344: UndefinedMetricWarning:\n",
      "\n",
      "Precision and F-score are ill-defined and being set to 0.0 in labels with no predicted samples. Use `zero_division` parameter to control this behavior.\n",
      "\n",
      "C:\\Users\\fondo\\AppData\\Local\\Programs\\Python\\Python311\\Lib\\site-packages\\sklearn\\metrics\\_classification.py:1344: UndefinedMetricWarning:\n",
      "\n",
      "Precision and F-score are ill-defined and being set to 0.0 in labels with no predicted samples. Use `zero_division` parameter to control this behavior.\n",
      "\n",
      "C:\\Users\\fondo\\AppData\\Local\\Programs\\Python\\Python311\\Lib\\site-packages\\sklearn\\metrics\\_classification.py:1344: UndefinedMetricWarning:\n",
      "\n",
      "Precision and F-score are ill-defined and being set to 0.0 in labels with no predicted samples. Use `zero_division` parameter to control this behavior.\n",
      "\n",
      "C:\\Users\\fondo\\AppData\\Local\\Programs\\Python\\Python311\\Lib\\site-packages\\sklearn\\metrics\\_classification.py:1344: UndefinedMetricWarning:\n",
      "\n",
      "Precision and F-score are ill-defined and being set to 0.0 in labels with no predicted samples. Use `zero_division` parameter to control this behavior.\n",
      "\n",
      "C:\\Users\\fondo\\AppData\\Local\\Programs\\Python\\Python311\\Lib\\site-packages\\sklearn\\metrics\\_classification.py:1344: UndefinedMetricWarning:\n",
      "\n",
      "Precision and F-score are ill-defined and being set to 0.0 in labels with no predicted samples. Use `zero_division` parameter to control this behavior.\n",
      "\n",
      "C:\\Users\\fondo\\AppData\\Local\\Programs\\Python\\Python311\\Lib\\site-packages\\sklearn\\metrics\\_classification.py:1344: UndefinedMetricWarning:\n",
      "\n",
      "Precision and F-score are ill-defined and being set to 0.0 in labels with no predicted samples. Use `zero_division` parameter to control this behavior.\n",
      "\n",
      "C:\\Users\\fondo\\AppData\\Local\\Programs\\Python\\Python311\\Lib\\site-packages\\sklearn\\metrics\\_classification.py:1344: UndefinedMetricWarning:\n",
      "\n",
      "Precision and F-score are ill-defined and being set to 0.0 in labels with no predicted samples. Use `zero_division` parameter to control this behavior.\n",
      "\n",
      "C:\\Users\\fondo\\AppData\\Local\\Programs\\Python\\Python311\\Lib\\site-packages\\sklearn\\metrics\\_classification.py:1344: UndefinedMetricWarning:\n",
      "\n",
      "Precision and F-score are ill-defined and being set to 0.0 in labels with no predicted samples. Use `zero_division` parameter to control this behavior.\n",
      "\n",
      "C:\\Users\\fondo\\AppData\\Local\\Programs\\Python\\Python311\\Lib\\site-packages\\sklearn\\metrics\\_classification.py:1344: UndefinedMetricWarning:\n",
      "\n",
      "Precision and F-score are ill-defined and being set to 0.0 in labels with no predicted samples. Use `zero_division` parameter to control this behavior.\n",
      "\n",
      "C:\\Users\\fondo\\AppData\\Local\\Programs\\Python\\Python311\\Lib\\site-packages\\sklearn\\metrics\\_classification.py:1344: UndefinedMetricWarning:\n",
      "\n",
      "Precision and F-score are ill-defined and being set to 0.0 in labels with no predicted samples. Use `zero_division` parameter to control this behavior.\n",
      "\n"
     ]
    },
    {
     "data": {
      "text/html": [
       "<div>\n",
       "<style scoped>\n",
       "    .dataframe tbody tr th:only-of-type {\n",
       "        vertical-align: middle;\n",
       "    }\n",
       "\n",
       "    .dataframe tbody tr th {\n",
       "        vertical-align: top;\n",
       "    }\n",
       "\n",
       "    .dataframe thead th {\n",
       "        text-align: right;\n",
       "    }\n",
       "</style>\n",
       "<table border=\"1\" class=\"dataframe\">\n",
       "  <thead>\n",
       "    <tr style=\"text-align: right;\">\n",
       "      <th></th>\n",
       "      <th>Model</th>\n",
       "      <th>Accuracy</th>\n",
       "      <th>Precision</th>\n",
       "      <th>Recall</th>\n",
       "      <th>F1 Score</th>\n",
       "      <th>AUC ROC</th>\n",
       "      <th>MAE</th>\n",
       "      <th>MSE</th>\n",
       "    </tr>\n",
       "  </thead>\n",
       "  <tbody>\n",
       "    <tr>\n",
       "      <th>0</th>\n",
       "      <td>Decision Tree</td>\n",
       "      <td>0.9313</td>\n",
       "      <td>0.1538</td>\n",
       "      <td>0.0213</td>\n",
       "      <td>0.0374</td>\n",
       "      <td>0.5073</td>\n",
       "      <td>0.0598</td>\n",
       "      <td>0.0598</td>\n",
       "    </tr>\n",
       "    <tr>\n",
       "      <th>1</th>\n",
       "      <td>Random Forest</td>\n",
       "      <td>0.9372</td>\n",
       "      <td>0.0000</td>\n",
       "      <td>0.0000</td>\n",
       "      <td>0.0000</td>\n",
       "      <td>0.5000</td>\n",
       "      <td>0.0546</td>\n",
       "      <td>0.0546</td>\n",
       "    </tr>\n",
       "    <tr>\n",
       "      <th>2</th>\n",
       "      <td>Support Vector Machine</td>\n",
       "      <td>0.9454</td>\n",
       "      <td>0.0000</td>\n",
       "      <td>0.0000</td>\n",
       "      <td>0.0000</td>\n",
       "      <td>0.5000</td>\n",
       "      <td>0.0546</td>\n",
       "      <td>0.0546</td>\n",
       "    </tr>\n",
       "    <tr>\n",
       "      <th>3</th>\n",
       "      <td>Logistic Regression</td>\n",
       "      <td>0.9454</td>\n",
       "      <td>0.0000</td>\n",
       "      <td>0.0000</td>\n",
       "      <td>0.0000</td>\n",
       "      <td>0.5000</td>\n",
       "      <td>0.0546</td>\n",
       "      <td>0.0546</td>\n",
       "    </tr>\n",
       "    <tr>\n",
       "      <th>4</th>\n",
       "      <td>Gradient Boosting Classifier</td>\n",
       "      <td>0.9436</td>\n",
       "      <td>0.2000</td>\n",
       "      <td>0.0106</td>\n",
       "      <td>0.0202</td>\n",
       "      <td>0.5041</td>\n",
       "      <td>0.0564</td>\n",
       "      <td>0.0564</td>\n",
       "    </tr>\n",
       "  </tbody>\n",
       "</table>\n",
       "</div>"
      ],
      "text/plain": [
       "                          Model  Accuracy  Precision  Recall  F1 Score  \\\n",
       "0                 Decision Tree    0.9313     0.1538  0.0213    0.0374   \n",
       "1                 Random Forest    0.9372     0.0000  0.0000    0.0000   \n",
       "2        Support Vector Machine    0.9454     0.0000  0.0000    0.0000   \n",
       "3           Logistic Regression    0.9454     0.0000  0.0000    0.0000   \n",
       "4  Gradient Boosting Classifier    0.9436     0.2000  0.0106    0.0202   \n",
       "\n",
       "   AUC ROC     MAE     MSE  \n",
       "0   0.5073  0.0598  0.0598  \n",
       "1   0.5000  0.0546  0.0546  \n",
       "2   0.5000  0.0546  0.0546  \n",
       "3   0.5000  0.0546  0.0546  \n",
       "4   0.5041  0.0564  0.0564  "
      ]
     },
     "execution_count": 33,
     "metadata": {},
     "output_type": "execute_result"
    }
   ],
   "source": [
    "from sklearn.metrics import classification_report, roc_auc_score, mean_absolute_error, mean_squared_error\n",
    "from math import sqrt\n",
    "\n",
    "dt_pred = dt_grid.predict(X_test)\n",
    "rf_pred = rf_grid.predict(X_test)\n",
    "svm_pred = svm.predict(X_test)\n",
    "lr_pred = lr.predict(X_test)\n",
    "gbc_pred = gbc.predict(X_test)\n",
    "\n",
    "models = ['Decision Tree', 'Random Forest', 'Support Vector Machine', 'Logistic Regression', 'Gradient Boosting Classifier']\n",
    "accuracies = [dt_best_score, rf_best_score, accuracy_score(y_test, svm_pred), accuracy_score(y_test, lr_pred), accuracy_score(y_test, gbc_pred)]\n",
    "precisions = [classification_report(y_test, dt_pred, output_dict=True)['1']['precision'],\n",
    "classification_report(y_test, rf_pred, output_dict=True)['1']['precision'],\n",
    "classification_report(y_test, svm_pred, output_dict=True)['1']['precision'],\n",
    "classification_report(y_test, lr_pred, output_dict=True)['1']['precision'],\n",
    "classification_report(y_test, gbc_pred, output_dict=True)['1']['precision']]\n",
    "recalls = [classification_report(y_test, dt_pred, output_dict=True)['1']['recall'],\n",
    "classification_report(y_test, rf_pred, output_dict=True)['1']['recall'],\n",
    "classification_report(y_test, svm_pred, output_dict=True)['1']['recall'],\n",
    "classification_report(y_test, lr_pred, output_dict=True)['1']['recall'],\n",
    "classification_report(y_test, gbc_pred, output_dict=True)['1']['recall']]\n",
    "f1_scores = [classification_report(y_test, dt_pred, output_dict=True)['1']['f1-score'],\n",
    "classification_report(y_test, rf_pred, output_dict=True)['1']['f1-score'],\n",
    "classification_report(y_test, svm_pred, output_dict=True)['1']['f1-score'],\n",
    "classification_report(y_test, lr_pred, output_dict=True)['1']['f1-score'],\n",
    "classification_report(y_test, gbc_pred, output_dict=True)['1']['f1-score']]\n",
    "auc_roc_scores = [roc_auc_score(y_test, dt_pred),\n",
    "roc_auc_score(y_test, rf_pred),\n",
    "roc_auc_score(y_test, svm_pred),\n",
    "roc_auc_score(y_test, lr_pred),\n",
    "roc_auc_score(y_test, gbc_pred)]\n",
    "mae_scores = [mean_absolute_error(y_test, dt_pred),\n",
    "mean_absolute_error(y_test, rf_pred),\n",
    "mean_absolute_error(y_test, svm_pred),\n",
    "mean_absolute_error(y_test, lr_pred),\n",
    "mean_absolute_error(y_test, gbc_pred)]\n",
    "mse_scores = [mean_squared_error(y_test, dt_pred),\n",
    "mean_squared_error(y_test, rf_pred),\n",
    "mean_squared_error(y_test, svm_pred),\n",
    "mean_squared_error(y_test, lr_pred),\n",
    "mean_squared_error(y_test, gbc_pred)]\n",
    "data = {'Model': models, \n",
    "        'Accuracy': accuracies, \n",
    "        'Precision': precisions, \n",
    "        'Recall': recalls, \n",
    "        'F1 Score': f1_scores, \n",
    "        'AUC ROC': auc_roc_scores, \n",
    "        'MAE': mae_scores, \n",
    "        'MSE': mse_scores}\n",
    "results = pd.DataFrame(data)\n",
    "results = results.round(4)\n",
    "results"
   ]
  },
  {
   "cell_type": "code",
   "execution_count": null,
   "metadata": {},
   "outputs": [],
   "source": []
  }
 ],
 "metadata": {
  "colab": {
   "provenance": []
  },
  "kernelspec": {
   "display_name": "Python 3 (ipykernel)",
   "language": "python",
   "name": "python3"
  },
  "language_info": {
   "codemirror_mode": {
    "name": "ipython",
    "version": 3
   },
   "file_extension": ".py",
   "mimetype": "text/x-python",
   "name": "python",
   "nbconvert_exporter": "python",
   "pygments_lexer": "ipython3",
   "version": "3.11.2"
  },
  "vscode": {
   "interpreter": {
    "hash": "de179865ecaa8a9058ce3aa4c38877507be2cc80b3ac7cf5cacdf238a1b18460"
   }
  }
 },
 "nbformat": 4,
 "nbformat_minor": 1
}
